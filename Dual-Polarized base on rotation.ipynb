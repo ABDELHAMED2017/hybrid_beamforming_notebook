{
 "cells": [
  {
   "cell_type": "code",
   "execution_count": 1,
   "metadata": {},
   "outputs": [],
   "source": [
    "%matplotlib inline\n",
    "from mpl_toolkits.mplot3d import Axes3D\n",
    "import scipy.io as io\n",
    "import numpy as np\n",
    "import matplotlib.pyplot as plt\n",
    "from math import ceil\n",
    "from scipy.optimize import curve_fit\n",
    "realization = 1000\n",
    "import seaborn as sns\n",
    "from matplotlib import cm\n",
    "from array_response import *\n",
    "import itertools \n",
    "\n",
    "mat = io.loadmat('boundary.mat')\n",
    "bound1_para = mat['bound1_para'][0,:]\n",
    "bound2_para = mat['bound2_para'][0,:]\n",
    "bound3_para = mat['bound3_para'][0,:]\n",
    "bound4_1para = mat['bound4_1para'][0,:]\n",
    "bound4_2para = mat['bound4_2para'][0,:]\n",
    "\n",
    "bound4_3para = mat['bound4_3para'][0,:]\n",
    "xlim_4_1 = mat['xlim_4_1'][0,0]\n",
    "xlim_4_2 = mat['xlim_4_2'][0,:]\n",
    "xlim_4_3 = mat['xlim_4_3'][0,0]\n"
   ]
  },
  {
   "cell_type": "code",
   "execution_count": 2,
   "metadata": {},
   "outputs": [],
   "source": [
    "azi_rot = np.linspace(0,2*np.pi,50)"
   ]
  },
  {
   "cell_type": "code",
   "execution_count": 3,
   "metadata": {},
   "outputs": [],
   "source": [
    "def func_sin(x, c, d):\n",
    "    return np.sin(2*np.pi*x*0.312 + c)*0.23 + d"
   ]
  },
  {
   "cell_type": "code",
   "execution_count": 4,
   "metadata": {},
   "outputs": [],
   "source": [
    "test_1 = func_sin(azi_rot, *bound1_para)\n",
    "test_2 = func_sin(azi_rot, *bound2_para)\n",
    "bound3 = np.poly1d(bound3_para)\n",
    "boud4_13 = np.poly1d(bound4_1para)\n",
    "bound4_2 = np.poly1d(bound4_2para)"
   ]
  },
  {
   "cell_type": "code",
   "execution_count": 5,
   "metadata": {},
   "outputs": [
    {
     "data": {
      "text/plain": [
       "(0, 3.14)"
      ]
     },
     "execution_count": 5,
     "metadata": {},
     "output_type": "execute_result"
    },
    {
     "data": {
      "image/png": "[encoded data removed]",
      "text/plain": [
       "<matplotlib.figure.Figure at 0x17bb628f8d0>"
      ]
     },
     "metadata": {},
     "output_type": "display_data"
    }
   ],
   "source": [
    "plt.plot(azi_rot,test_1)\n",
    "plt.plot(azi_rot,test_2)\n",
    "plt.plot(azi_rot,bound3(azi_rot))\n",
    "plt.plot(azi_rot,boud4_13(azi_rot))\n",
    "plt.plot(azi_rot,bound4_2(azi_rot))\n",
    "plt.ylim(0,3.14)"
   ]
  },
  {
   "cell_type": "code",
   "execution_count": 6,
   "metadata": {},
   "outputs": [],
   "source": [
    "def check_cate(_azi,_ele):\n",
    "    _index = \"\"\n",
    "    if ((_ele - bound3(_azi)) > 0):\n",
    "        if (((_azi<xlim_4_1) and ((_ele - boud4_13(_azi))<0)) or ((_azi>xlim_4_2[0]) and (_azi<xlim_4_2[1]) and ((_ele - bound4_2(_azi))<0)) or ((_azi>xlim_4_3) and ((_ele - boud4_13(_azi))<0))):\n",
    "            _index = \"samecluster\"\n",
    "        else:\n",
    "            _index = \"diffclus_samepol\"\n",
    "    else:\n",
    "        if ((_ele - func_sin(_azi, *bound2_para)) > 0):\n",
    "            _index = \"diffclus_crosspol\"\n",
    "        else:\n",
    "            if ((_ele - func_sin(_azi, *bound1_para)) > 0):\n",
    "                _index = \"samecluster\"\n",
    "            else:\n",
    "                _index = \"diffclus_samepol\"\n",
    "            \n",
    "    return _index"
   ]
  },
  {
   "cell_type": "markdown",
   "metadata": {},
   "source": [
    "### Parameters declaration\n",
    "\n",
    "Declare parameters needed for channel realization"
   ]
  },
  {
   "cell_type": "code",
   "execution_count": 7,
   "metadata": {},
   "outputs": [],
   "source": [
    "Ns = 1 # number of streams\n",
    "\n",
    "Nc = 6 # number of cluster\n",
    "Nray = 1 # number of rays in each cluster\n",
    "\n",
    "Nt = 64 # number of transmit antennas\n",
    "Nr = 16 # number of receive antennas\n",
    "\n",
    "angle_sigma = 10/180*np.pi # standard deviation of the angles in azimuth and elevation both of Rx and Tx\n",
    "\n",
    "gamma = np.sqrt((Nt*Nr)/(Nc*Nray))\n",
    "realization = 1000 # equivalent to number of taking sample\n",
    "count = 0\n",
    "\n",
    "eps = 0.1 # 20dB isolation\n",
    "sigma = np.sqrt(8/(1+eps**2))*1.37/1.14 # according to the normalization condition of H"
   ]
  },
  {
   "cell_type": "markdown",
   "metadata": {},
   "source": [
    "### Channel Realization\n",
    "\n",
    "Realize channel H for Dual-Polarized antenna array"
   ]
  },
  {
   "cell_type": "code",
   "execution_count": 8,
   "metadata": {},
   "outputs": [],
   "source": [
    "H_pol = np.zeros((2*Nr,2*Nt,realization),dtype=complex)\n",
    "At = np.zeros((Nt,Nc*Nray,realization),dtype=complex)\n",
    "Ar = np.zeros((Nr,Nc*Nray,realization),dtype=complex)\n",
    "alpha_hh = np.zeros((Nc*Nray,realization),dtype=complex)\n",
    "alpha_hv = np.zeros((Nc*Nray,realization),dtype=complex)\n",
    "alpha_vh = np.zeros((Nc*Nray,realization),dtype=complex)\n",
    "alpha_vv = np.zeros((Nc*Nray,realization),dtype=complex)\n",
    "\n",
    "AoD = np.zeros((2,Nc*Nray),dtype=complex)\n",
    "AoA = np.zeros((2,Nc*Nray),dtype=complex)\n",
    "\n",
    "H = np.zeros((2*Nr,2*Nt,realization),dtype=complex)\n",
    "azi_rot = np.random.normal(1.7,0.3,realization)\n",
    "ele_rot = np.random.normal(2.3,0.3,realization) # Why PI/2 ??\n",
    "R = np.array([[np.cos(ele_rot)*np.cos(azi_rot),np.sin(ele_rot)],[-np.sin(ele_rot)*np.cos(azi_rot),np.cos(ele_rot)]]) # rotation matrix\n",
    "\n",
    "for reali in range(realization):\n",
    "    for c in range(1,Nc+1):\n",
    "        AoD_azi_m = np.random.uniform(0,2*np.pi,1) # Mean Angle of Departure _ azimuth\n",
    "        AoD_ele_m = np.random.uniform(0,np.pi,1) # Mean Angle of Departure _ elevation\n",
    "        AoA_azi_m = np.random.uniform(0,2*np.pi,1) # Mean Angle of Arrival_ azimuth\n",
    "        AoA_ele_m = np.random.uniform(0,np.pi,1) # Mean Angle of Arrival_ elevation\n",
    "        AoD[0,(c-1)*Nray:Nray*c] = np.random.laplace(AoD_azi_m, angle_sigma, (1,Nray))\n",
    "        AoD[1,(c-1)*Nray:Nray*c] = np.random.laplace(AoD_ele_m, angle_sigma, (1,Nray))\n",
    "        AoA[0,(c-1)*Nray:Nray*c] = np.random.laplace(AoA_azi_m, angle_sigma, (1,Nray))\n",
    "        AoA[1,(c-1)*Nray:Nray*c] = np.random.laplace(AoA_ele_m, angle_sigma, (1,Nray))\n",
    "    for j in range(Nc*Nray):\n",
    "        At[:,j,reali] = array_response(AoD[0,j],AoD[1,j],Nt) # UPA array response\n",
    "        Ar[:,j,reali] = array_response(AoA[0,j],AoA[1,j],Nr)\n",
    "        var_hh = ((sigma**2)*(np.cos(AoD[0,j])**2)*(np.cos(AoA[0,j])**2)).real\n",
    "        var_hv = ((eps**2)*(sigma**2)*(np.cos(AoD[1,j])**2)*(np.cos(AoA[0,j])**2)).real\n",
    "        var_vh = ((eps**2)*(sigma**2)*(np.cos(AoD[0,j])**2)*(np.cos(AoA[1,j])**2)).real\n",
    "        var_vv = ((sigma**2)*(np.cos(AoD[1,j])**2)*(np.cos(AoA[1,j])**2)).real\n",
    "        alpha_hh[j,reali] = np.random.normal(0, np.sqrt(var_hh/2)) + 1j*np.random.normal(0, np.sqrt(var_hh/2))\n",
    "        alpha_hv[j,reali] = np.random.normal(0, np.sqrt(var_hv/2)) + 1j*np.random.normal(0, np.sqrt(var_hv/2))\n",
    "        alpha_vh[j,reali] = np.random.normal(0, np.sqrt(var_vh/2)) + 1j*np.random.normal(0, np.sqrt(var_vh/2))\n",
    "        alpha_vv[j,reali] = np.random.normal(0, np.sqrt(var_vv/2)) + 1j*np.random.normal(0, np.sqrt(var_vv/2))\n",
    "        alpha = np.vstack((np.hstack((alpha_hh[j,reali],alpha_hv[j,reali])),np.hstack((alpha_vh[j,reali],alpha_vv[j,reali]))))\n",
    "        H_pol[:,:,reali] = H_pol[:,:,reali] + np.kron(alpha,Ar[:,[j],reali]@At[:,[j],reali].conj().T)\n",
    "    H_pol[:,:,reali] = gamma* H_pol[:,:,reali]\n",
    "    H[:,:,reali] = (np.kron(R[:,:,reali],np.eye(Nr)))@H_pol[:,:,reali]\n",
    "    H[:,:,reali] = np.sqrt(4/3)* H[:,:,reali]"
   ]
  },
  {
   "cell_type": "markdown",
   "metadata": {},
   "source": [
    "### Check normalized condition"
   ]
  },
  {
   "cell_type": "code",
   "execution_count": 9,
   "metadata": {},
   "outputs": [
    {
     "name": "stdout",
     "output_type": "stream",
     "text": [
      "4*Nt*Nr = 4096    Frobenius norm = 4221.58400851\n"
     ]
    }
   ],
   "source": [
    "channel_fro_2 = np.zeros(realization)\n",
    "for reali in range(realization):\n",
    "    channel_fro_2[reali] = np.linalg.norm(H[:,:,reali],'fro')\n",
    "print(\"4*Nt*Nr =\", 4*Nt*Nr , \"   Frobenius norm =\", np.mean(channel_fro_2**2))"
   ]
  },
  {
   "cell_type": "code",
   "execution_count": 10,
   "metadata": {},
   "outputs": [
    {
     "name": "stdout",
     "output_type": "stream",
     "text": [
      "[0 1 2 3 4 5]\n",
      "(66, 4)\n"
     ]
    }
   ],
   "source": [
    "cluster = np.arange(Nc)\n",
    "print(cluster)\n",
    "c = list(itertools.combinations(cluster, 2))\n",
    "num_path = (2*Nc-1)*Nc\n",
    "path_combi = np.zeros((num_path,4),dtype=int)\n",
    "\n",
    "print(path_combi.shape)\n",
    "path_combi[0:Nc,:]=np.arange(Nc).reshape(Nc,1).repeat(4,axis=1)\n",
    "\n",
    "count = 0\n",
    "for i in range(int(Nc*(Nc-1)/2)):\n",
    "    path_combi[Nc+4*i,:] = np.array([c[count][0],c[count][0],c[count][1],c[count][1]])\n",
    "    path_combi[Nc+4*i+1,:] = np.array([c[count][1],c[count][1],c[count][0],c[count][0]])\n",
    "    path_combi[Nc+4*i+2,:] = np.array([c[count][0],c[count][1],c[count][1],c[count][0]])\n",
    "    path_combi[Nc+4*i+3,:] = np.array([c[count][1],c[count][0],c[count][0],c[count][1]])\n",
    "    count = count+1"
   ]
  },
  {
   "cell_type": "code",
   "execution_count": 11,
   "metadata": {},
   "outputs": [
    {
     "name": "stdout",
     "output_type": "stream",
     "text": [
      "[ 8  9 12 13 16 17 20 21 24 25 28 29 32 33 36 37 40 41 44 45 48 49 52 53 56\n",
      " 57 60 61 64 65]\n",
      "[ 6  7 10 11 14 15 18 19 22 23 26 27 30 31 34 35 38 39 42 43 46 47 50 51 54\n",
      " 55 58 59 62 63]\n",
      "[0 1 2 3 4 5]\n"
     ]
    }
   ],
   "source": [
    "cross_index =  []\n",
    "samepolar_index = []\n",
    "count = Nc-1\n",
    "while (count<num_path-4):\n",
    "    cross_index.extend([count+3,count+4])\n",
    "    samepolar_index.extend([count+1,count+2])\n",
    "    count = count + 4\n",
    "cross_index = np.array(cross_index)\n",
    "samepolar_index = np.array(samepolar_index)\n",
    "sameclus_index = np.arange(0,Nc)\n",
    "print(cross_index)\n",
    "print(samepolar_index)\n",
    "print(sameclus_index)\n",
    "# print(path_combi)"
   ]
  },
  {
   "cell_type": "code",
   "execution_count": 12,
   "metadata": {},
   "outputs": [],
   "source": [
    "path_gain = np.zeros((num_path,realization)) # 2 to save the position and maximum value\n",
    "for reali in range(realization):\n",
    "    for combi in range(num_path):\n",
    "        path_gain[combi,reali] =\\\n",
    "        (np.abs\\\n",
    "         ((np.cos(ele_rot[reali])*np.cos(azi_rot[reali])*alpha_hh[path_combi[combi,0],reali]+np.sin(ele_rot[reali])*alpha_vh[path_combi[combi,0],reali])*(path_combi[combi,0]==path_combi[combi,1])+\\\n",
    "         (np.cos(ele_rot[reali])*np.cos(azi_rot[reali])*alpha_hv[path_combi[combi,2],reali]+np.sin(ele_rot[reali])*alpha_vv[path_combi[combi,2],reali])*(path_combi[combi,2]==path_combi[combi,1])+\\\n",
    "         (-np.sin(ele_rot[reali])*np.cos(azi_rot[reali])*alpha_hh[path_combi[combi,0],reali]+np.cos(ele_rot[reali])*alpha_vh[path_combi[combi,0],reali])*(path_combi[combi,0]==path_combi[combi,3])+\\\n",
    "         (-np.sin(ele_rot[reali])*np.cos(azi_rot[reali])*alpha_hv[path_combi[combi,2],reali]+np.cos(ele_rot[reali])*alpha_vv[path_combi[combi,2],reali])*(path_combi[combi,2]==path_combi[combi,3])\n",
    "         ))**2\n"
   ]
  },
  {
   "cell_type": "code",
   "execution_count": 13,
   "metadata": {},
   "outputs": [
    {
     "name": "stdout",
     "output_type": "stream",
     "text": [
      "1.95381183621\n",
      "[ 0.95311743  1.13079799  0.53163454  1.91669458  1.95381184  0.28514472]\n",
      "[ 0.06240198  0.08730945  0.15468596  0.14689469  0.2709122   0.15945057\n",
      "  0.38272789  0.01770584  0.30669833  0.01471841  0.05013771  0.11595191\n",
      "  0.0799266   0.43741554  0.51043078  0.15841415  0.2154811   0.03695884\n",
      "  0.19894013  0.14367676  0.34471485  0.02617179  0.31888587  0.03316916\n",
      "  1.71770704  0.08857274  0.07349315  0.13279363  0.00963271  0.73458418]\n",
      "1.71770703981\n"
     ]
    }
   ],
   "source": [
    "print(np.max(path_gain[0:Nc,2]))\n",
    "print(path_gain[0:Nc,2])\n",
    "\n",
    "print(path_gain[samepolar_index,2])\n",
    "print(np.max(path_gain[samepolar_index,2]))"
   ]
  },
  {
   "cell_type": "markdown",
   "metadata": {},
   "source": [
    "__Check maximum gain from combination of path in each realization__"
   ]
  },
  {
   "cell_type": "code",
   "execution_count": 14,
   "metadata": {},
   "outputs": [],
   "source": [
    "index = np.zeros(realization,dtype=int)\n",
    "for reali in range(realization):\n",
    "    index[reali] = np.argmax(path_gain[:,reali])"
   ]
  },
  {
   "cell_type": "markdown",
   "metadata": {},
   "source": [
    "__Same Cluster__"
   ]
  },
  {
   "cell_type": "code",
   "execution_count": 15,
   "metadata": {},
   "outputs": [],
   "source": [
    "index_sameclus = np.zeros(realization,dtype=int)\n",
    "for reali in range(realization):\n",
    "    index_sameclus[reali] = np.argmax(path_gain[0:Nc,reali])"
   ]
  },
  {
   "cell_type": "code",
   "execution_count": 16,
   "metadata": {},
   "outputs": [],
   "source": [
    "gain_sameclus = np.zeros(realization,dtype=float)\n",
    "for reali in range(realization):\n",
    "    gain_sameclus[reali] = path_gain[index_sameclus[reali],reali]"
   ]
  },
  {
   "cell_type": "markdown",
   "metadata": {},
   "source": [
    "__Chosen Category before check__"
   ]
  },
  {
   "cell_type": "code",
   "execution_count": 17,
   "metadata": {},
   "outputs": [],
   "source": [
    "choosen_cate = [\"\" for x in range(realization)]\n",
    "\n",
    "index_checkcate = np.zeros(realization,dtype=int)\n",
    "cate = \"\"\n",
    "temp = 0\n",
    "for reali in range(realization):\n",
    "    cate = check_cate(azi_rot[reali],ele_rot[reali])\n",
    "    if (cate == \"samecluster\"):\n",
    "        index_checkcate[reali] = np.argmax(path_gain[0:Nc,reali])\n",
    "    if (cate == \"diffclus_samepol\"):\n",
    "        temp = np.argmax(path_gain[samepolar_index,reali])\n",
    "        index_checkcate[reali] = int(temp+(np.floor(temp/2))*2+Nc)\n",
    "#         index_checkcate[reali] = np.argmax(path_gain[samepolar_index,reali])\n",
    "    if (cate == \"diffclus_crosspol\"):\n",
    "#         index_checkcate[reali] = np.argmax(path_gain[cross_index,reali])\n",
    "        temp = np.argmax(path_gain[cross_index,reali])\n",
    "        index_checkcate[reali] = int(temp+(np.floor(temp/2)+1)*2+Nc) \n",
    "    choosen_cate[reali] = cate\n",
    "    temp = 0\n"
   ]
  },
  {
   "cell_type": "markdown",
   "metadata": {},
   "source": [
    "### Plot Spectral Efficiency"
   ]
  },
  {
   "cell_type": "code",
   "execution_count": 20,
   "metadata": {},
   "outputs": [],
   "source": [
    "SNR_dB = np.arange(-35,10,5)\n",
    "SNR = 10**(SNR_dB/10)\n",
    "smax = SNR.shape[0]\n",
    "R_cross = np.zeros([smax, realization],dtype=complex)\n",
    "# R_steer = np.zeros([smax, realization],dtype=complex)\n",
    "R_samecl = np.zeros([smax, realization],dtype=complex)\n",
    "R_checkcate = np.zeros([smax, realization],dtype=complex)\n",
    "\n",
    "for reali in range(realization):\n",
    "    _chosen_combi_path = path_combi[index[reali]]\n",
    "    _chosen_checkcate_path = path_combi[index_checkcate[reali]]\n",
    "#     _chosen_checkcate_path = path_combi[:,reali]\n",
    "    _chosen_sameclus_path = path_combi[index_sameclus[reali]]\n",
    "    \n",
    "    W_cross = np.vstack((Ar[:,[_chosen_combi_path[1]],reali],Ar[:,[_chosen_combi_path[3]],reali]))\n",
    "    F_cross = np.vstack((At[:,[_chosen_combi_path[0]],reali],At[:,[_chosen_combi_path[2]],reali]))\n",
    "    \n",
    "    W_checkcate = np.vstack((Ar[:,[_chosen_checkcate_path[1]],reali],Ar[:,[_chosen_checkcate_path[3]],reali]))\n",
    "    F_checkcate = np.vstack((At[:,[_chosen_checkcate_path[0]],reali],At[:,[_chosen_checkcate_path[2]],reali]))\n",
    "#     W_steer = np.vstack((Ar[:,[_chosen_steer_path[0]],reali],Ar[:,[_chosen_steer_path[1]],reali]))\n",
    "#     F_steer = np.vstack((At[:,[_chosen_steer_path[0]],reali],At[:,[_chosen_steer_path[1]],reali]))\n",
    "    \n",
    "    W_samecl = np.vstack((Ar[:,[_chosen_sameclus_path[1]],reali],Ar[:,[_chosen_sameclus_path[3]],reali]))\n",
    "    F_samecl = np.vstack((At[:,[_chosen_sameclus_path[0]],reali],At[:,[_chosen_sameclus_path[2]],reali]))\n",
    "    for s in range(smax):\n",
    "        R_cross[s,reali] = np.log2(np.linalg.det(np.eye(Ns)+(SNR[s]/Ns)*np.linalg.pinv(W_cross)@H[:,:,reali]@F_cross@F_cross.conj().T@H[:,:,reali].conj().T@W_cross))\n",
    "        R_checkcate[s,reali] = np.log2(np.linalg.det(np.eye(Ns)+(SNR[s]/Ns)*np.linalg.pinv(W_checkcate)@H[:,:,reali]@F_checkcate@F_checkcate.conj().T@H[:,:,reali].conj().T@W_checkcate))\n",
    "        R_samecl[s,reali] = np.log2(np.linalg.det(np.eye(Ns)+(SNR[s]/Ns)*np.linalg.pinv(W_samecl)@H[:,:,reali]@F_samecl@F_samecl.conj().T@H[:,:,reali].conj().T@W_samecl))"
   ]
  },
  {
   "cell_type": "code",
   "execution_count": 21,
   "metadata": {},
   "outputs": [
    {
     "data": {
      "image/png": "[encoded data removed]",
      "text/plain": [
       "<matplotlib.figure.Figure at 0x17bb7ad7b70>"
      ]
     },
     "metadata": {},
     "output_type": "display_data"
    }
   ],
   "source": [
    "plt.plot(SNR_dB, (np.sum(R_cross,axis=1).real)/realization, label='collaborate polar beam steer')\n",
    "plt.plot(SNR_dB, (np.sum(R_checkcate,axis=1).real)/realization, label='checkcate')\n",
    "plt.plot(SNR_dB, (np.sum(R_samecl,axis=1).real)/realization, label='same cluster steer')\n",
    "\n",
    "plt.legend(loc='upper left')\n",
    "plt.xlabel('SNR(dB)')\n",
    "plt.ylabel('Spectral Efficiency (bits/s/Hz)')\n",
    "plt.ylim(0,13)\n",
    "plt.grid()\n",
    "plt.show()"
   ]
  }
 ],
 "metadata": {
  "kernelspec": {
   "display_name": "Python 3",
   "language": "python",
   "name": "python3"
  },
  "language_info": {
   "codemirror_mode": {
    "name": "ipython",
    "version": 3
   },
   "file_extension": ".py",
   "mimetype": "text/x-python",
   "name": "python",
   "nbconvert_exporter": "python",
   "pygments_lexer": "ipython3",
   "version": "3.6.3"
  }
 },
 "nbformat": 4,
 "nbformat_minor": 2
}
