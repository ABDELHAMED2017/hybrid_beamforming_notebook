{
 "cells": [
  {
   "cell_type": "code",
   "execution_count": 1,
   "metadata": {},
   "outputs": [],
   "source": [
    "# import necessary module\n",
    "%matplotlib inline\n",
    "import numpy as np\n",
    "import matplotlib.pyplot as plt\n",
    "import matplotlib.patches as mpatches\n",
    "\n",
    "import seaborn as sns\n",
    "from array_response import *\n",
    "import itertools \n",
    "\n",
    "import matplotlib.pyplot as plt\n",
    "import scipy\n",
    "from scipy.stats import expon,gamma\n",
    "import scipy.io as io"
   ]
  },
  {
   "cell_type": "code",
   "execution_count": 2,
   "metadata": {},
   "outputs": [],
   "source": [
    "Nt = 64 # number of transmit antennas\n",
    "Nr = 16 # number of receive antennas\n",
    "Ns = 1 # number of streams\n",
    "\n",
    "Nc = 6 # number of cluster\n",
    "Nray = 1 # number of rays in each cluster\n",
    "realization = 1000 # equivalent to number of taking sample\n",
    "\n",
    "At = np.zeros((Nt,Nc*Nray,realization),dtype=complex)\n",
    "Ar = np.zeros((Nr,Nc*Nray,realization),dtype=complex)\n",
    "alpha_hh = np.zeros((Nc*Nray,realization),dtype=complex)\n",
    "alpha_hv = np.zeros((Nc*Nray,realization),dtype=complex)\n",
    "alpha_vh = np.zeros((Nc*Nray,realization),dtype=complex)\n",
    "alpha_vv = np.zeros((Nc*Nray,realization),dtype=complex)\n",
    "var_hh = np.zeros((Nc*Nray,realization),dtype=float)\n",
    "\n",
    "AoD = np.zeros((2,Nc*Nray),dtype=complex)\n",
    "AoA = np.zeros((2,Nc*Nray),dtype=complex)\n",
    "\n",
    "angle_sigma = 10/180*np.pi # standard deviation of the angles in azimuth and elevation both of Rx and Tx\n",
    "\n",
    "_gamma = np.sqrt((Nt*Nr)/(Nc*Nray))\n",
    "count = 0\n",
    "\n",
    "eps = 0.1 # 20dB isolation\n",
    "sigma = np.sqrt(8/(1+eps**2)) # according to the normalization condition of H\n",
    "\n",
    "for reali in range(realization):\n",
    "    for c in range(1,Nc+1):\n",
    "        AoD_azi_m = np.random.uniform(0,2*np.pi,1) # Mean Angle of Departure _ azimuth\n",
    "        AoD_ele_m = np.random.uniform(0,np.pi,1) # Mean Angle of Departure _ elevation\n",
    "        AoA_azi_m = np.random.uniform(0,2*np.pi,1) # Mean Angle of Arrival_ azimuth\n",
    "        AoA_ele_m = np.random.uniform(0,np.pi,1) # Mean Angle of Arrival_ elevation\n",
    "        AoD[0,(c-1)*Nray:Nray*c] = np.random.laplace(AoD_azi_m, angle_sigma, (1,Nray))\n",
    "        AoD[1,(c-1)*Nray:Nray*c] = np.random.laplace(AoD_ele_m, angle_sigma, (1,Nray))\n",
    "        AoA[0,(c-1)*Nray:Nray*c] = np.random.laplace(AoA_azi_m, angle_sigma, (1,Nray))\n",
    "        AoA[1,(c-1)*Nray:Nray*c] = np.random.laplace(AoA_ele_m, angle_sigma, (1,Nray))\n",
    "    for j in range(Nc*Nray):\n",
    "        At[:,j,reali] = array_response(AoD[0,j],AoD[1,j],Nt) # UPA array response\n",
    "        Ar[:,j,reali] = array_response(AoA[0,j],AoA[1,j],Nr)\n",
    "        var_hh = ((sigma**2)*(np.cos(AoD[0,j])**2)*(np.cos(AoA[0,j])**2)).real\n",
    "        var_hv = ((eps**2)*(sigma**2)*(np.cos(AoD[1,j])**2)*(np.cos(AoA[0,j])**2)).real\n",
    "        var_vh = ((eps**2)*(sigma**2)*(np.cos(AoD[0,j])**2)*(np.cos(AoA[1,j])**2)).real\n",
    "        var_vv = ((sigma**2)*(np.cos(AoD[1,j])**2)*(np.cos(AoA[1,j])**2)).real\n",
    "        alpha_hh[j,reali] = np.random.normal(0, np.sqrt(var_hh/2)) + 1j*np.random.normal(0, np.sqrt(var_hh/2))\n",
    "        alpha_hv[j,reali] = np.random.normal(0, np.sqrt(var_hv/2)) + 1j*np.random.normal(0, np.sqrt(var_hv/2))\n",
    "        alpha_vh[j,reali] = np.random.normal(0, np.sqrt(var_vh/2)) + 1j*np.random.normal(0, np.sqrt(var_vh/2))\n",
    "        alpha_vv[j,reali] = np.random.normal(0, np.sqrt(var_vv/2)) + 1j*np.random.normal(0, np.sqrt(var_vv/2))"
   ]
  },
  {
   "cell_type": "code",
   "execution_count": null,
   "metadata": {},
   "outputs": [],
   "source": []
  },
  {
   "cell_type": "code",
   "execution_count": 3,
   "metadata": {
    "scrolled": true
   },
   "outputs": [
    {
     "name": "stdout",
     "output_type": "stream",
     "text": [
      "[0 1 2 3 4 5]\n",
      "(66, 4)\n"
     ]
    }
   ],
   "source": [
    "cluster = np.arange(Nc)\n",
    "print(cluster)\n",
    "c = list(itertools.combinations(cluster, 2))\n",
    "num_path = (2*Nc-1)*Nc\n",
    "path_combi = np.zeros((num_path,4),dtype=int)\n",
    "\n",
    "print(path_combi.shape)\n",
    "path_combi[0:Nc,:]=np.arange(Nc).reshape(Nc,1).repeat(4,axis=1)\n",
    "\n",
    "count = 0\n",
    "for i in range(int(Nc*(Nc-1)/2)):\n",
    "    path_combi[Nc+4*i,:] = np.array([c[count][0],c[count][0],c[count][1],c[count][1]])\n",
    "    path_combi[Nc+4*i+1,:] = np.array([c[count][1],c[count][1],c[count][0],c[count][0]])\n",
    "    path_combi[Nc+4*i+2,:] = np.array([c[count][0],c[count][1],c[count][1],c[count][0]])\n",
    "    path_combi[Nc+4*i+3,:] = np.array([c[count][1],c[count][0],c[count][0],c[count][1]])\n",
    "    count = count+1\n"
   ]
  },
  {
   "cell_type": "code",
   "execution_count": 4,
   "metadata": {},
   "outputs": [
    {
     "name": "stdout",
     "output_type": "stream",
     "text": [
      "[ 8  9 12 13 16 17 20 21 24 25 28 29 32 33 36 37 40 41 44 45 48 49 52 53 56\n",
      " 57 60 61 64 65]\n",
      "[ 6  7 10 11 14 15 18 19 22 23 26 27 30 31 34 35 38 39 42 43 46 47 50 51 54\n",
      " 55 58 59 62 63]\n",
      "[0 1 2 3 4 5]\n"
     ]
    }
   ],
   "source": [
    "cross_index =  []\n",
    "samepolar_index = []\n",
    "count = Nc-1\n",
    "while (count<num_path-4):\n",
    "    cross_index.extend([count+3,count+4])\n",
    "    samepolar_index.extend([count+1,count+2])\n",
    "    count = count + 4\n",
    "cross_index = np.array(cross_index)\n",
    "samepolar_index = np.array(samepolar_index)\n",
    "sameclus_index = np.arange(0,Nc)\n",
    "print(cross_index)\n",
    "print(samepolar_index)\n",
    "print(sameclus_index)"
   ]
  },
  {
   "cell_type": "code",
   "execution_count": 5,
   "metadata": {},
   "outputs": [],
   "source": [
    "angle_number = 50\n",
    "path_gain = np.zeros((num_path,realization)) # 2 to save the position and maximum value\n",
    "gain_sameclus =  np.zeros((realization,angle_number,int(angle_number/2)),dtype=float) # 2 to save the position and maximum value\n",
    "gain_diffclus_crosspol = np.zeros((realization,angle_number,int(angle_number/2)),dtype=float)\n",
    "gain_diffclus_samepol = np.zeros((realization,angle_number,int(angle_number/2)),dtype=float)\n",
    "\n",
    "azi_rot = np.linspace(0,np.pi*2,angle_number)\n",
    "ele_rot = np.linspace(0,np.pi,int(angle_number/2))\n",
    "for i in range(angle_number):\n",
    "    for j in range(int(angle_number/2)):\n",
    "        for reali in range(realization):\n",
    "            for combi in range(num_path):\n",
    "                path_gain[combi,reali] =\\\n",
    "                (np.abs\\\n",
    "                 ((np.cos(ele_rot[j])*np.cos(azi_rot[i])*alpha_hh[path_combi[combi,0],reali]+np.sin(ele_rot[j])*alpha_vh[path_combi[combi,0],reali])*(path_combi[combi,0]==path_combi[combi,1])+\\\n",
    "                 (np.cos(ele_rot[j])*np.cos(azi_rot[i])*alpha_hv[path_combi[combi,2],reali]+np.sin(ele_rot[j])*alpha_vv[path_combi[combi,2],reali])*(path_combi[combi,2]==path_combi[combi,1])+\\\n",
    "                 (-np.sin(ele_rot[j])*np.cos(azi_rot[i])*alpha_hh[path_combi[combi,0],reali]+np.cos(ele_rot[j])*alpha_vh[path_combi[combi,0],reali])*(path_combi[combi,0]==path_combi[combi,3])+\\\n",
    "                 (-np.sin(ele_rot[j])*np.cos(azi_rot[i])*alpha_hv[path_combi[combi,2],reali]+np.cos(ele_rot[j])*alpha_vv[path_combi[combi,2],reali])*(path_combi[combi,2]==path_combi[combi,3])\n",
    "                 ))**2\n",
    "                \n",
    "                gain_sameclus[reali,i,j] = path_gain[sameclus_index[np.argmax(path_gain[sameclus_index,reali])],reali]\n",
    "                gain_diffclus_crosspol[reali,i,j] = path_gain[cross_index[np.argmax(path_gain[cross_index,reali])],reali]\n",
    "                gain_diffclus_samepol[reali,i,j] = path_gain[samepolar_index[np.argmax(path_gain[samepolar_index,reali])],reali]\n",
    "                "
   ]
  },
  {
   "cell_type": "code",
   "execution_count": 6,
   "metadata": {},
   "outputs": [
    {
     "data": {
      "text/plain": [
       "(1000, 50, 25)"
      ]
     },
     "execution_count": 6,
     "metadata": {},
     "output_type": "execute_result"
    }
   ],
   "source": [
    "gain_sameclus.shape"
   ]
  },
  {
   "cell_type": "code",
   "execution_count": 7,
   "metadata": {},
   "outputs": [],
   "source": [
    "var = {}\n",
    "var['gain_sameclus']=gain_sameclus\n",
    "var['gain_diffclus_crosspol']=gain_diffclus_crosspol\n",
    "var['gain_diffclus_samepol']=gain_diffclus_samepol\n",
    "var['azi_rot']=azi_rot\n",
    "var['ele_rot']=ele_rot\n",
    "\n",
    "io.savemat('gain',var)"
   ]
  }
 ],
 "metadata": {
  "kernelspec": {
   "display_name": "Python 3",
   "language": "python",
   "name": "python3"
  },
  "language_info": {
   "codemirror_mode": {
    "name": "ipython",
    "version": 3
   },
   "file_extension": ".py",
   "mimetype": "text/x-python",
   "name": "python",
   "nbconvert_exporter": "python",
   "pygments_lexer": "ipython3",
   "version": "3.6.3"
  }
 },
 "nbformat": 4,
 "nbformat_minor": 2
}
