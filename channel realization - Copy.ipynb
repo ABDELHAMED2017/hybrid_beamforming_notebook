{
 "cells": [
  {
   "cell_type": "markdown",
   "metadata": {
    "collapsed": true
   },
   "source": [
    "# Channel Model\n",
    "\n",
    "This notebook is used to create Channel Model for mmWave base on extended Saleh-Valenzuela model, which allows us to accurately capture the mathematical structure present in mmWave channels.\n",
    "Most content is base on the paper:\n",
    "\n",
    "O. El Ayach, S. Rajagopal, S. Abu-Surra, Z. Pi, and R. Heath, “Spatially sparse precoding in millimeter wave MIMO systems,” IEEE Transactions on WirelessCommunications, vol. 13, no. 3, pp. 1499–1513, March 2014\n",
    "\n",
    "and Matlab Sourcode from repository https://github.com/xyuam/Alternating-minimization-algorithms-for-hybrid-precoding-in-millimeter-wave-MIMO-systems\n",
    "\n",
    "$$H = \\sqrt{\\frac{N_{t}N_{r}}{N_{cl}N_{ray}}}\\sum_{i=1}^{N_{cl}}\\sum_{l=1}^{N_{ray}}\\alpha_{il}\\mathbf{a_{r}}(\\phi _{il}^{r},\\theta _{il}^{r} )\\mathbf{a_{t}}(\\phi _{il}^{t},\\theta _{il}^{t} )^{H}$$\n",
    "\n",
    "Where $N_{cl}$ and $N_{ray}$ represent the number of clusters and the number of rays in each cluster, and $\\alpha_{il}$ denotes the gain of the $l^{th}$ ray in the $i^{th}$ propagation cluster. We assume that $\\alpha_{il}$ are i.i.d and follow the distribution $\\mathcal{C}\\mathcal{N}(0,\\sigma _{\\alpha ,i}^{2})$ and $\\sum _{i=1}^{N_{cl}}\\sigma _{\\alpha ,i}^{2} = \\hat{\\gamma }$, which is the normalization factor to satisfy $\\mathbf{E}\\left [ \\left \\| \\mathbf{H} \\right \\|_{F}^{2}\\right ] = N_{t}N_{r}$. In addition $\\mathbf{a_{r}}(\\phi _{il}^{r},\\theta _{il}^{r} )$ and $\\mathbf{a_{t}}(\\phi _{il}^{t},\\theta _{il}^{t} )$ represent the receive and transmit array response vectors, where $\\phi _{il}^{r}$($\\phi _{il}^{t}$) and $\\theta _{il}^{r}$($\\theta _{il}^{t}$) stand for azimuth and elevation angles of arrival and departure, respectively. We use the uniform square planar array (USPA) with $\\sqrt{N}$x$\\sqrt{N}$ antenna elements."
   ]
  },
  {
   "cell_type": "code",
   "execution_count": 1,
   "metadata": {
    "collapsed": true
   },
   "outputs": [],
   "source": [
    "# import necessary module \n",
    "%matplotlib inline\n",
    "import numpy as np\n",
    "import matplotlib.pyplot as plt\n",
    "import scipy.io as io\n",
    "steeringvector = io.loadmat('steeringvector_2.mat')\n"
   ]
  },
  {
   "cell_type": "code",
   "execution_count": 18,
   "metadata": {
    "collapsed": true
   },
   "outputs": [],
   "source": [
    "AoD_matrix = steeringvector['AoD_matrix'] + 1j*0\n",
    "AoA_matrix = steeringvector['AoA_matrix'] + 1j*0\n",
    "alpha = steeringvector['alpha'] \n",
    "H_matlab = steeringvector['H'] \n",
    "Fopt_matlab = steeringvector['Fopt']\n",
    "Wopt_matlab = steeringvector['Wopt'] "
   ]
  },
  {
   "cell_type": "code",
   "execution_count": 3,
   "metadata": {},
   "outputs": [
    {
     "data": {
      "text/plain": [
       "{'AoA_matrix': array([[[ 2.31121383,  0.97148301,  0.37951546, ...,  0.28522158,\n",
       "           2.59276493,  3.3082232 ],\n",
       "         [ 2.25096735,  0.75135728,  0.11821006, ...,  0.9022028 ,\n",
       "           2.862533  ,  3.25940709],\n",
       "         [ 2.39422394,  0.94797197,  0.36270414, ...,  0.54535963,\n",
       "           2.58637211,  3.20515753],\n",
       "         ..., \n",
       "         [ 3.58319588,  3.72615147,  0.45861313, ...,  2.35999441,\n",
       "           0.46904974,  2.87272642],\n",
       "         [ 3.27199346,  4.08604908,  1.17296529, ...,  2.3189071 ,\n",
       "           0.7090424 ,  2.75498422],\n",
       "         [ 3.33231231,  3.94154196,  0.99792342, ...,  2.31251787,\n",
       "           0.4510016 ,  2.8109667 ]],\n",
       " \n",
       "        [[ 2.05886281,  1.1016383 ,  1.05913977, ...,  6.22526053,\n",
       "           0.83344234,  1.02601047],\n",
       "         [ 1.85439658,  1.26237106,  1.35343623, ...,  5.85505681,\n",
       "           1.0196464 ,  1.06465825],\n",
       "         [ 1.78046655,  1.48316043,  1.50001984, ...,  5.83508481,\n",
       "           0.55998286,  1.05752086],\n",
       "         ..., \n",
       "         [ 4.66242528,  3.78294084,  6.00317662, ...,  3.43121962,\n",
       "           4.87231118,  4.13487465],\n",
       "         [ 4.40354645,  3.72429188,  5.99583055, ...,  3.60925208,\n",
       "           5.29000064,  4.1901452 ],\n",
       "         [ 4.61280788,  3.30063815,  5.70567985, ...,  3.46042835,\n",
       "           5.21056567,  4.08441225]]]),\n",
       " 'AoD_matrix': array([[[ 2.81166775,  1.73137933,  5.85418191, ...,  3.88847638,\n",
       "           6.19898716,  4.98510993],\n",
       "         [ 2.82946904,  1.78489832,  5.89608885, ...,  4.07402496,\n",
       "           6.02445684,  4.63436596],\n",
       "         [ 2.87051564,  1.71750145,  6.13937512, ...,  3.86214549,\n",
       "           6.060505  ,  4.73561325],\n",
       "         ..., \n",
       "         [ 1.39481624,  5.59531853,  1.55287512, ...,  5.69404948,\n",
       "           3.21882503,  4.71420906],\n",
       "         [ 1.63509137,  5.89631119,  1.47633232, ...,  5.79119688,\n",
       "           3.25498026,  4.39673187],\n",
       "         [ 1.54961029,  5.67914879,  1.60329836, ...,  5.57209964,\n",
       "           3.21086528,  4.50115719]],\n",
       " \n",
       "        [[ 4.6162771 ,  5.81302408,  0.78767308, ...,  2.61836101,\n",
       "           4.91261626,  0.12194764],\n",
       "         [ 4.67559312,  6.09447654,  0.92250072, ...,  2.69204445,\n",
       "           5.01878384,  0.20786186],\n",
       "         [ 4.75283763,  5.56340608,  0.70896929, ...,  2.74028448,\n",
       "           4.97684916,  0.00925382],\n",
       "         ..., \n",
       "         [ 4.47799781,  3.29603029,  5.93012769, ...,  3.4760554 ,\n",
       "           2.13961798,  1.13532818],\n",
       "         [ 4.61467718,  3.43813823,  6.15032025, ...,  3.71414587,\n",
       "           2.18908531,  1.13365814],\n",
       "         [ 4.58220007,  3.51558447,  5.60671177, ...,  3.63430472,\n",
       "           2.00840973,  1.01670366]]]),\n",
       " 'Fopt': array([[[  1.03247086e-01+0.08554323j,  -2.63871157e-02-0.06806862j,\n",
       "           -6.95328927e-02+0.09370683j, ...,   4.26369022e-03+0.00894716j,\n",
       "           -4.36059159e-02-0.02173304j,  -5.94812874e-03-0.07403694j],\n",
       "         [ -1.16966480e-01-0.04369566j,   2.66514846e-02-0.04733216j,\n",
       "            4.02515735e-02+0.07209766j, ...,   1.56090566e-02+0.0114484j ,\n",
       "           -6.39556613e-02-0.0590042j ,  -6.97850957e-02+0.12672459j],\n",
       "         [  1.08816755e-01+0.02425371j,  -4.09258185e-02-0.02240944j,\n",
       "            5.07213439e-03-0.06172482j, ...,  -7.17482912e-02-0.10715748j,\n",
       "           -1.14412323e-01-0.0169981j ,   1.01272838e-02-0.04045464j]],\n",
       " \n",
       "        [[ -1.00024153e-01-0.09261354j,  -1.46106318e-03+0.01686171j,\n",
       "            3.95967269e-02-0.07925967j, ...,   1.47326975e-02+0.03800115j,\n",
       "           -4.91095182e-02-0.04778415j,   7.97748356e-03+0.05902038j],\n",
       "         [ -5.60265522e-02-0.02408202j,  -5.26040063e-02-0.06661183j,\n",
       "            7.84364327e-02+0.1063892j , ...,  -1.57792047e-02-0.06820709j,\n",
       "            1.87389751e-02-0.04356336j,  -7.94938058e-02-0.1071842j ],\n",
       "         [  8.96078789e-02+0.00410249j,   9.42927182e-05+0.0335913j ,\n",
       "           -5.35771396e-02-0.02112694j, ...,   3.93020163e-02-0.08088747j,\n",
       "           -2.94722219e-03+0.09993207j,   2.60123161e-02+0.07498161j]],\n",
       " \n",
       "        [[ -6.76122559e-03+0.05662735j,   3.00430991e-02+0.0163968j ,\n",
       "           -1.38963541e-02+0.0745825j , ...,  -4.08035957e-03-0.05032749j,\n",
       "           -5.85123454e-02+0.02402501j,   5.83846228e-03-0.05674544j],\n",
       "         [ -6.35365960e-02+0.01445266j,   2.21244852e-02-0.05759024j,\n",
       "            1.19440983e-01-0.03508204j, ...,   3.43421252e-02+0.04211733j,\n",
       "            9.19502490e-02+0.02317849j,   1.00341638e-01-0.02862447j],\n",
       "         [  6.88107066e-02-0.01054716j,  -2.96911764e-02-0.03261848j,\n",
       "           -4.35707085e-02+0.01007332j, ...,   1.09060113e-01-0.02792518j,\n",
       "            5.63347381e-02+0.01499093j,  -7.72420796e-02-0.05562527j]],\n",
       " \n",
       "        ..., \n",
       "        [[ -1.14810468e-01-0.01129679j,   4.40772339e-02+0.06012542j,\n",
       "            8.12314632e-02-0.02383815j, ...,   2.30206220e-02-0.01207467j,\n",
       "            2.41156089e-02-0.00439305j,  -4.32691628e-02+0.06757563j],\n",
       "         [  3.73891342e-02+0.02594547j,  -3.62645224e-02+0.02903876j,\n",
       "           -1.73215178e-02+0.14122362j, ...,   1.80389092e-02+0.04388365j,\n",
       "           -3.12704492e-02-0.00260119j,   1.74306608e-02+0.09367666j],\n",
       "         [  3.41730511e-02-0.03919197j,  -7.19474030e-02-0.00352275j,\n",
       "            7.94781285e-02-0.01539666j, ...,  -5.40109412e-02-0.04419721j,\n",
       "           -5.09676919e-03-0.02215102j,   5.15494709e-02+0.07583373j]],\n",
       " \n",
       "        [[  5.31768411e-02+0.03401667j,   3.49630285e-02-0.06521137j,\n",
       "           -1.01483807e-01+0.0045907j , ...,   9.10882679e-03-0.02178913j,\n",
       "           -4.66507261e-02-0.0143201j ,   3.49218008e-02-0.06797816j],\n",
       "         [ -1.80352195e-02+0.08889086j,  -4.67514412e-02+0.01286732j,\n",
       "           -1.78147393e-02+0.0069297j , ...,  -1.88927821e-02+0.0862674j ,\n",
       "           -6.99124690e-02+0.01699314j,  -8.45894073e-02+0.01348323j],\n",
       "         [  2.68070100e-02-0.05730148j,   6.98219332e-02-0.03878528j,\n",
       "            5.96344962e-02-0.06195051j, ...,   2.92005189e-03-0.04825131j,\n",
       "           -3.23879542e-03+0.0093834j ,  -7.35555600e-02-0.03833357j]],\n",
       " \n",
       "        [[ -3.77352571e-02+0.01068158j,  -3.08927559e-02-0.00162331j,\n",
       "            4.16695574e-02-0.01447846j, ...,  -5.94763157e-03-0.00577906j,\n",
       "           -5.95418364e-02-0.03601924j,  -2.99981735e-02+0.05981245j],\n",
       "         [  3.42335866e-02+0.10981006j,  -1.67685147e-02+0.04267182j,\n",
       "           -1.73973661e-02+0.14258947j, ...,   2.51690484e-02+0.02802678j,\n",
       "            2.47157429e-02-0.10319824j,  -2.16371317e-03-0.09102003j],\n",
       "         [  7.58918806e-02-0.07999215j,  -2.82381531e-02+0.0665002j ,\n",
       "           -2.03476644e-02-0.0749958j , ...,   1.14703972e-02-0.07300168j,\n",
       "            3.01119752e-02-0.02588119j,   6.12976359e-02+0.00895192j]]]),\n",
       " 'H': array([[[  1.70513645e-01-0.20507655j,   1.11820303e+00-0.47387657j,\n",
       "            2.49834091e-01+0.41413942j, ...,  -1.58049264e-01-0.0188662j ,\n",
       "           -3.52314287e-01+0.74439708j,  -2.71810210e-01-1.19719402j],\n",
       "         [  1.08052955e+00+0.13509709j,  -3.55400049e-01-0.10575856j,\n",
       "           -3.76610174e-01-0.3884122j , ...,   1.60311912e-01-0.5309141j ,\n",
       "            1.11436009e+00-0.17586874j,  -4.21341016e-01+0.80214441j],\n",
       "         [  1.72935923e+00+0.00610023j,  -3.08268772e-01+0.91332388j,\n",
       "           -3.55683990e-01+0.38495761j, ...,  -3.60389738e-01+0.13022644j,\n",
       "            6.82133676e-01+0.53554736j,   1.80302174e-01-0.02944488j],\n",
       "         ..., \n",
       "         [  6.91226651e-01-0.46414526j,  -1.39123696e-01+1.04680145j,\n",
       "           -1.00466023e+00-0.23950869j, ...,   1.38757517e-01-0.01247314j,\n",
       "            8.92259360e-02-0.50163879j,   4.55016598e-01-0.61736407j],\n",
       "         [  1.60398973e-01+0.77487142j,  -6.88402778e-01-0.78564285j,\n",
       "            1.00476676e-01-0.18728457j, ...,   1.47416225e-01-0.09814766j,\n",
       "           -1.59671112e-01-0.35077211j,  -8.57701582e-01-0.10209521j],\n",
       "         [  4.55141506e-01+0.68922324j,   2.82487352e-01-0.52819489j,\n",
       "            1.60002610e-01-0.68044957j, ...,   2.39052150e-02-0.45242873j,\n",
       "            1.45188730e+00+0.20475113j,   1.96813089e-01+0.36187579j]],\n",
       " \n",
       "        [[  5.81126281e-01-1.30207465j,  -6.89503127e-01+0.67492192j,\n",
       "            7.26011784e-02-1.0006043j , ...,   1.55027883e-01-0.67194688j,\n",
       "            1.97258441e-01-0.91533521j,   7.25977312e-01+0.29003648j],\n",
       "         [  1.05479172e+00-0.41533396j,   1.67026098e-01-0.18396144j,\n",
       "            9.48385951e-01+1.09729042j, ...,  -4.67237683e-01+0.20621694j,\n",
       "            1.03579398e-01+0.13811244j,  -3.83351545e-01+0.02339048j],\n",
       "         [  3.79714689e-01-0.08078356j,   5.27168608e-01-0.26983024j,\n",
       "            5.56573274e-01-0.19673139j, ...,  -3.24629990e-01+0.09129297j,\n",
       "            1.98804835e-01+1.22320585j,   7.04248379e-01-0.4338023j ],\n",
       "         ..., \n",
       "         [  1.03707211e-01+0.94833976j,   3.86150559e-01-1.41822741j,\n",
       "            1.48862588e+00-0.45552716j, ...,   6.45913521e-01-0.15857511j,\n",
       "            6.18633065e-01-0.19922675j,  -1.06386678e+00+1.05948647j],\n",
       "         [  1.30687789e+00-0.4795719j ,   5.64858545e-01+1.22379705j,\n",
       "            6.17931888e-02-0.3395742j , ...,   3.13151183e-01-0.57850163j,\n",
       "            5.61126839e-04-0.35780066j,   1.14271270e+00-0.32220768j],\n",
       "         [  1.18158766e-01+0.26271836j,  -2.22780689e-02+0.00949765j,\n",
       "            4.54837850e-01+0.36171273j, ...,  -2.55726284e-01-0.33590886j,\n",
       "           -9.45166590e-01-0.91510736j,  -7.67815682e-01+0.19665641j]],\n",
       " \n",
       "        [[  6.16774561e-01-1.63265148j,  -7.16299831e-03-0.12183903j,\n",
       "           -7.21074004e-01+1.34543639j, ...,  -1.78496653e-01-0.56204194j,\n",
       "           -2.48498815e-01-0.15091772j,  -7.04366350e-01+0.36527941j],\n",
       "         [ -4.59676052e-01+0.10956369j,   2.68297802e-01+0.11299202j,\n",
       "           -1.04260102e+00-0.20905289j, ...,  -4.56255515e-01-0.61136389j,\n",
       "            7.97623898e-01+0.26266267j,   3.42495755e-01-0.05953867j],\n",
       "         [  1.12320968e+00-1.29873206j,  -6.85921249e-01-0.05311968j,\n",
       "           -2.80245769e-01-0.82911586j, ...,  -3.37403856e-01+0.09197142j,\n",
       "           -8.85363005e-01-0.65630984j,   3.17115419e-02+0.26681659j],\n",
       "         ..., \n",
       "         [ -3.59160722e-01-1.17189443j,  -9.90487146e-01+0.74203214j,\n",
       "           -1.33828630e+00+1.14273627j, ...,   6.67548140e-02-0.0870161j ,\n",
       "            1.14733080e-01+1.90003866j,   1.07689267e-01-0.63345532j],\n",
       "         [  5.66184308e-01+0.72928148j,  -5.71722421e-01-0.29628516j,\n",
       "            5.51599820e-01+0.23262616j, ...,  -1.82104464e-01+0.03801568j,\n",
       "           -9.42052214e-01+0.1851385j ,  -5.63466286e-01+0.15236965j],\n",
       "         [  1.53019350e+00-0.42638309j,   2.84530259e-01-0.69527969j,\n",
       "           -1.45917441e+00+0.67635598j, ...,  -3.55644098e-01-0.23520852j,\n",
       "            3.35275730e-01+0.3211634j ,   3.73535446e-01+0.63541978j]],\n",
       " \n",
       "        ..., \n",
       "        [[ -1.52508574e+00+0.24379706j,   7.95694236e-01+0.47871578j,\n",
       "            8.60945537e-01-0.30233174j, ...,   3.67599099e-01-0.44273136j,\n",
       "           -2.85982156e-01+1.08167768j,   6.34697216e-01-0.49859952j],\n",
       "         [ -5.41667727e-01+0.74952355j,  -3.95550806e-01-0.55933053j,\n",
       "           -7.35808545e-01+0.17785942j, ...,  -1.11728738e+00-0.39819744j,\n",
       "           -5.27928928e-01+1.48882792j,  -5.42350932e-01-0.12480259j],\n",
       "         [  1.97880030e-01+0.6515598j ,   1.38702768e+00+0.40370632j,\n",
       "            2.13496318e+00+0.07154066j, ...,   3.08924389e-01-0.28294446j,\n",
       "           -4.07653041e-01-0.58911725j,   9.18261886e-02+0.17072186j],\n",
       "         ..., \n",
       "         [  1.34626535e+00-0.52323552j,   5.20192262e-01+0.27133237j,\n",
       "           -8.51632609e-01-0.37895311j, ...,   6.92025111e-01+0.02139988j,\n",
       "            1.77505706e-01-0.48603994j,  -4.87349133e-01+0.61057348j],\n",
       "         [ -1.36197762e+00-0.31575148j,   3.56968613e-01+0.20672207j,\n",
       "            1.04456039e+00-0.42658537j, ...,   4.61735012e-01-0.20939992j,\n",
       "           -4.75056234e-01+0.19530246j,   6.87864785e-01-0.19171877j],\n",
       "         [  5.75777588e-01-0.03987183j,  -6.10301937e-01-0.1291912j ,\n",
       "            8.41180887e-03+0.12861182j, ...,   5.84720629e-01+0.68157557j,\n",
       "            4.21786586e-02+0.15789544j,  -4.25464870e-01+0.10931614j]],\n",
       " \n",
       "        [[ -5.24514729e-01-0.38941923j,  -4.88734827e-01-1.01247857j,\n",
       "           -1.44578453e+00-0.83499387j, ...,   6.21195071e-03-0.43010772j,\n",
       "           -4.41866793e-01+1.39592764j,   4.60427631e-01+0.70082349j],\n",
       "         [ -3.08068894e-01+1.58442798j,  -7.29787857e-02+0.5837168j ,\n",
       "            1.25675828e+00-0.10480955j, ...,   8.05995682e-01-0.35466031j,\n",
       "           -3.01683136e-01-0.39642736j,  -1.49370338e-01-0.76239087j],\n",
       "         [ -7.21685145e-01+0.21434104j,  -6.45792445e-01-0.30143931j,\n",
       "           -8.35991413e-01-0.65202117j, ...,  -1.16548985e+00+0.15216932j,\n",
       "           -1.29177204e-01+0.90366656j,  -1.09192152e-02+0.54379873j],\n",
       "         ..., \n",
       "         [ -1.25014645e+00+1.1771749j ,  -6.74528723e-01-0.58298568j,\n",
       "            5.37501353e-01-0.43825987j, ...,  -8.54759483e-01-0.72926217j,\n",
       "            6.06038274e-01-0.06501448j,   5.72575622e-01-0.13885208j],\n",
       "         [  9.70601339e-02-1.23538184j,  -3.59070840e-01+0.39167812j,\n",
       "           -2.50096804e+00-0.09173932j, ...,  -1.31649720e+00+0.40253931j,\n",
       "           -6.44891353e-01-0.5128758j ,   5.49419065e-02+0.11645059j],\n",
       "         [ -1.03478320e+00-0.00420038j,   1.00121721e+00-0.39074652j,\n",
       "           -1.34899831e-02+0.57131441j, ...,  -6.73450236e-01-0.54687962j,\n",
       "           -3.11041362e-01-0.24738092j,   1.83667637e-02-0.62841488j]],\n",
       " \n",
       "        [[  1.79260756e+00+0.69060821j,  -2.20940666e-02+1.63809312j,\n",
       "            4.99378527e-01+1.17371195j, ...,  -9.79760810e-02-0.20852614j,\n",
       "            6.00228130e-01-0.25558196j,  -4.20349280e-01-0.90503432j],\n",
       "         [ -1.50254173e+00+0.73208339j,   9.74068777e-01-0.51553672j,\n",
       "           -3.34460887e-01+1.28200838j, ...,  -1.10005159e+00+0.20947933j,\n",
       "            2.65988231e-01-0.40162206j,  -4.84461739e-01+0.49535764j],\n",
       "         [  5.14262773e-01+0.62132814j,  -1.86351909e-01+0.19336514j,\n",
       "            5.47968256e-01+0.29451824j, ...,   3.19505610e-01+0.20663841j,\n",
       "            1.39596585e+00+0.17539549j,   3.07008846e-01+0.3166648j ],\n",
       "         ..., \n",
       "         [ -1.57115188e+00-0.04602123j,  -4.91327643e-02-0.86361908j,\n",
       "            5.68101882e-01-0.36155613j, ...,   1.00610404e-01-0.12148145j,\n",
       "           -1.27565331e+00+0.44858825j,   1.13459102e-01-0.57024045j],\n",
       "         [ -3.32131049e-01+0.57761922j,  -1.38889424e-02+1.03881832j,\n",
       "            1.57621451e+00-0.35611059j, ...,   8.58141226e-01+0.06839185j,\n",
       "           -2.62566461e-01+0.82994961j,  -3.11624589e-01-0.01841219j],\n",
       "         [ -8.67858934e-01-0.21740214j,  -7.25118691e-02-0.6340727j ,\n",
       "            3.39230194e-01+0.60935441j, ...,   6.68203954e-01+0.65651217j,\n",
       "            3.57796946e-01-0.09463571j,  -2.04543000e-01+0.02631159j]]]),\n",
       " 'Wopt': array([[[-0.09799358 +1.15639629e-17j, -0.20236660 -2.81687979e-18j,\n",
       "          -0.10692022 -4.69178915e-17j, ..., -0.10670372 -7.72423792e-17j,\n",
       "          -0.12993590 +5.83648024e-17j, -0.19754041 -7.55172775e-17j],\n",
       "         [-0.16228167 -3.72527166e-17j,  0.08790707 +4.67848017e-17j,\n",
       "          -0.09558561 +2.36504824e-17j, ..., -0.23618576 +3.19244028e-17j,\n",
       "           0.22571687 +6.49579733e-17j,  0.18326421 +1.06917487e-17j],\n",
       "         [ 0.18517421 -3.17922715e-17j, -0.02905879 +1.18326090e-16j,\n",
       "          -0.19811394 +6.46210472e-17j, ..., -0.12556844 +6.64599568e-17j,\n",
       "           0.13204471 -1.21824187e-17j,  0.24374819 -1.36648340e-16j]],\n",
       " \n",
       "        [[ 0.04173207 -8.35970000e-02j,  0.18070894 -6.82758462e-02j,\n",
       "           0.16816618 -3.32861371e-03j, ...,  0.09886038 +1.35211728e-02j,\n",
       "          -0.05949539 +1.71539033e-01j,  0.01738627 -2.42991859e-01j],\n",
       "         [-0.05265806 +1.64577929e-01j, -0.09511372 +5.88468175e-03j,\n",
       "           0.12403668 +5.56441678e-02j, ...,  0.22765744 +2.36273162e-02j,\n",
       "          -0.16964052 +8.90363886e-02j, -0.14975456 -3.13229644e-02j],\n",
       "         [ 0.15868889 -6.72702345e-02j,  0.01586947 -1.34008715e-02j,\n",
       "           0.12663633 -1.62590729e-01j, ..., -0.17305547 +2.68741542e-02j,\n",
       "          -0.01452390 +1.70527667e-01j, -0.08193624 -6.53921123e-02j]],\n",
       " \n",
       "        [[ 0.10203793 +1.18576644e-01j, -0.12056912 +9.73691418e-02j,\n",
       "          -0.19584104 +2.41006534e-02j, ..., -0.09163489 -2.28655072e-02j,\n",
       "           0.12562782 +1.19281676e-01j,  0.19650550 +4.52002309e-02j],\n",
       "         [ 0.00530671 +1.52026807e-01j,  0.12079539 -1.53380601e-02j,\n",
       "          -0.11026717 -1.26550975e-01j, ..., -0.24803613 -2.37736632e-03j,\n",
       "           0.12117132 -9.68858888e-02j,  0.22535923 +5.71825838e-03j],\n",
       "         [ 0.15912934 -1.63220804e-01j,  0.15435363 +1.28934795e-01j,\n",
       "           0.05495118 +1.56276520e-01j, ..., -0.11405107 +1.09761811e-01j,\n",
       "          -0.00654504 +4.32260824e-02j, -0.05744875 +1.55432271e-01j]],\n",
       " \n",
       "        ..., \n",
       "        [[-0.18018453 -4.25612555e-02j,  0.16992503 +2.02472029e-02j,\n",
       "          -0.11147810 +1.32767208e-01j, ..., -0.06142212 -1.25382781e-01j,\n",
       "           0.11814081 +4.43637794e-02j, -0.01804373 -9.45879734e-02j],\n",
       "         [ 0.12335942 +9.39241418e-02j, -0.06818782 -5.55832117e-02j,\n",
       "           0.05976539 +1.01599826e-01j, ...,  0.00959480 +2.08371547e-01j,\n",
       "           0.01057436 -1.65248372e-01j,  0.09610373 +9.62381885e-02j],\n",
       "         [-0.15397598 +1.89644351e-01j,  0.10436085 -1.59975203e-01j,\n",
       "           0.05767237 +1.06507682e-01j, ..., -0.12869347 +1.55147705e-02j,\n",
       "          -0.06739518 -1.30773119e-01j, -0.09285591 -4.87248426e-02j]],\n",
       " \n",
       "        [[ 0.12822578 -1.87037302e-01j, -0.16789527 +1.05719802e-02j,\n",
       "           0.08568563 -4.11340834e-02j, ...,  0.07193411 +1.31693826e-01j,\n",
       "           0.02093962 -4.61989570e-02j,  0.14445005 -8.87792049e-03j],\n",
       "         [ 0.13761203 +1.13927794e-01j,  0.01387803 +4.19467092e-02j,\n",
       "          -0.00753491 -1.13681945e-01j, ..., -0.02834429 -1.98070027e-01j,\n",
       "           0.11518426 +1.35268925e-01j, -0.13280027 -2.74826535e-02j],\n",
       "         [-0.04581621 +2.32567587e-01j,  0.10105278 +2.44877330e-01j,\n",
       "          -0.19611468 -2.16994002e-02j, ..., -0.09566696 +1.22795331e-01j,\n",
       "           0.13149080 -2.54262491e-01j,  0.07850352 +2.49446773e-02j]],\n",
       " \n",
       "        [[ 0.20852704 +1.26157492e-01j,  0.20286486 -6.92237909e-02j,\n",
       "           0.01682078 +2.10600911e-02j, ..., -0.07865449 -1.39345850e-01j,\n",
       "          -0.12094403 -7.91966657e-02j, -0.00711835 +1.11144810e-01j],\n",
       "         [ 0.01928072 -8.94175079e-02j,  0.06321886 -9.85837936e-02j,\n",
       "          -0.04098813 +9.99309243e-02j, ...,  0.02655137 +2.11291713e-01j,\n",
       "          -0.08347035 -1.15149178e-01j,  0.14897710 +8.38621965e-02j],\n",
       "         [ 0.11679852 +2.19084888e-01j, -0.06685102 +9.80116078e-02j,\n",
       "           0.12323034 -1.84733971e-01j, ..., -0.01507614 +1.06953485e-01j,\n",
       "           0.21036406 +1.23199842e-01j, -0.09979676 +2.24403362e-02j]]]),\n",
       " '__globals__': [],\n",
       " '__header__': b'MATLAB 5.0 MAT-file, Platform: PCWIN64, Created on: Wed Nov 29 12:08:54 2017',\n",
       " '__version__': '1.0',\n",
       " 'alpha': array([[-0.11902738+0.42181416j,  0.14374093+1.07973472j,\n",
       "         -0.15983554-0.25018132j, ..., -0.47575676-0.44034622j,\n",
       "          0.33679143+0.21085522j, -0.35027462-0.33562166j],\n",
       "        [-0.87097114-0.33171946j,  0.45686425+0.44671724j,\n",
       "          0.21746061+0.15198888j, ..., -0.03339361+0.34597385j,\n",
       "          0.39936849+0.3183577j , -0.62445558+0.42088373j],\n",
       "        [ 0.82977676-0.80294362j,  0.47339614+0.76273199j,\n",
       "          0.28116710-0.85591928j, ..., -0.29005324-0.11951686j,\n",
       "          0.47775249-0.11923177j,  0.49373433-0.02483771j],\n",
       "        ..., \n",
       "        [ 0.57569675+0.30255448j, -0.61780165-0.34592736j,\n",
       "          0.27587265-0.41020568j, ...,  0.70373900-0.08133638j,\n",
       "         -0.03272131-0.48081227j, -0.56403097-0.64174676j],\n",
       "        [-0.01941977-0.15331812j,  0.58487362+0.13718164j,\n",
       "         -0.72202967+0.73503542j, ..., -0.52205278+0.95297445j,\n",
       "         -1.54277408+0.74564048j,  0.32134172-0.27547785j],\n",
       "        [ 1.01019408+0.39289919j,  1.07336713+0.28164747j,\n",
       "         -1.17655776-0.28898182j, ..., -0.83681271-0.43782898j,\n",
       "         -0.69431232-0.79040733j,  0.42363188-0.08588636j]])}"
      ]
     },
     "execution_count": 3,
     "metadata": {},
     "output_type": "execute_result"
    }
   ],
   "source": [
    "steeringvector"
   ]
  },
  {
   "cell_type": "markdown",
   "metadata": {},
   "source": [
    "### Array Response\n",
    "\n",
    "This function is used to calculate the array response in uniform square planar array (USPA) with given azimuth, elevation angle and number of element\n",
    "$$\\mathbf{a}(\\phi _{il},\\theta _{il}) = \\frac{1}{\\sqrt{N}}[1,...,e^{j\\frac{2\\pi }{\\lambda}d(psin\\phi _{il}sin\\theta _{il}+qcos\\theta _{il})},...,e^{j\\frac{2\\pi }{\\lambda}d((\\sqrt{N}-1)sin\\phi _{il}sin\\theta _{il}+(\\sqrt{N}-1)cos\\theta _{il})}]^{T}$$"
   ]
  },
  {
   "cell_type": "code",
   "execution_count": 4,
   "metadata": {
    "collapsed": true
   },
   "outputs": [],
   "source": [
    "def array_response(a1,a2,N):\n",
    "    y = np.zeros((N,1),dtype=complex)\n",
    "    for m in range(int(np.sqrt(N))):\n",
    "        for n in range(int(np.sqrt(N))):\n",
    "            y[m*(int(np.sqrt(N)))+n] = np.exp(1j*np.pi*(m*np.sin(a1)*np.sin(a2) + n*np.cos(a2)))\n",
    "    y = y/np.sqrt(N)\n",
    "    y = np.ravel(y) # Convent to 1-dimention, MAY BE NOT THE BEST WAY\n",
    "    return y"
   ]
  },
  {
   "cell_type": "code",
   "execution_count": 5,
   "metadata": {
    "scrolled": true
   },
   "outputs": [
    {
     "name": "stdout",
     "output_type": "stream",
     "text": [
      "[ 0.50000000+0.j         -0.49425097-0.07560412j  0.47577741+0.15373956j\n",
      " -0.44706020-0.22391332j]\n"
     ]
    }
   ],
   "source": [
    "test = array_response(AoD_matrix[0,0,0],AoD_matrix[0,1,0],4) # Test output of array response\n",
    "print(test)"
   ]
  },
  {
   "cell_type": "markdown",
   "metadata": {},
   "source": [
    "### Parameters declaration\n",
    "\n",
    "Declare parameters needed for channel realization"
   ]
  },
  {
   "cell_type": "code",
   "execution_count": 6,
   "metadata": {
    "collapsed": true,
    "scrolled": true
   },
   "outputs": [],
   "source": [
    "Ns = 3 # number of streams\n",
    "\n",
    "Nc = 5 # number of cluster\n",
    "Nray = 10 # number of rays in each cluster\n",
    "\n",
    "Nt = 144 # number of transmit antennas\n",
    "Nr = 36 # number of receive antennas\n",
    "\n",
    "angle_sigma = 10/180*np.pi # standard deviation of the angles in azimuth and elevation both of Rx and Tx\n",
    "\n",
    "gamma = np.sqrt((Nt*Nr)/(Nc*Nray))\n",
    "sigma = 1 # according to the normalization condition of H\n",
    "\n",
    "realization = 1000 # equivalent to number of taking sample\n",
    "count = 0\n"
   ]
  },
  {
   "cell_type": "code",
   "execution_count": 7,
   "metadata": {},
   "outputs": [
    {
     "name": "stdout",
     "output_type": "stream",
     "text": [
      "0.17453292519943295\n"
     ]
    }
   ],
   "source": [
    "print(angle_sigma)"
   ]
  },
  {
   "cell_type": "markdown",
   "metadata": {},
   "source": [
    "### Example of Laplacian Distribution\n",
    "Using Laplacian distributed for declaration of azimuth and elevation angles of arrival and departure (has been found to be a good fit for a variaty of propagation scenarios)"
   ]
  },
  {
   "cell_type": "code",
   "execution_count": 8,
   "metadata": {},
   "outputs": [
    {
     "data": {
      "text/plain": [
       "array([[-2.05822042,  0.72048906,  0.14775091],\n",
       "       [-0.49961295,  0.44227408, -0.02614177]])"
      ]
     },
     "execution_count": 8,
     "metadata": {},
     "output_type": "execute_result"
    },
    {
     "data": {
      "image/png": "[encoded data removed]",
      "text/plain": [
       "<matplotlib.figure.Figure at 0x2a3f50079e8>"
      ]
     },
     "metadata": {},
     "output_type": "display_data"
    }
   ],
   "source": [
    "# plot the probability density function (PDF) of Laplacian Distribution\n",
    "loc, scale = 0., 1.\n",
    "s = np.random.laplace(loc, scale, 1000)\n",
    "# count, bins, ignored = plt.hist(s, 30, normed=True)\n",
    "x = np.arange(-8., 8., .01)\n",
    "pdf = np.exp(-abs(x-loc)/scale)/(2.*scale)\n",
    "plt.plot(x, pdf)\n",
    "# example of create matrix of laplacian variables\n",
    "y = np.random.laplace(loc, scale, (2,3))\n",
    "y"
   ]
  },
  {
   "cell_type": "markdown",
   "metadata": {
    "collapsed": true
   },
   "source": [
    "### Channel Realization\n",
    "\n",
    "Create Channel Matrix H and also the optimal Precoder and Combiner (Fopt and Wopt) for MIMO system"
   ]
  },
  {
   "cell_type": "code",
   "execution_count": 9,
   "metadata": {},
   "outputs": [],
   "source": [
    "H = np.zeros((Nr,Nt,realization),dtype=complex)\n",
    "At = np.zeros((Nt,Nc*Nray,realization),dtype=complex)\n",
    "Ar = np.zeros((Nr,Nc*Nray,realization),dtype=complex)\n",
    "Fopt = np.zeros((Nt,Ns,realization),dtype=complex)\n",
    "Wopt = np.zeros((Nr,Ns,realization),dtype=complex)\n",
    "\n",
    "AoD = np.zeros((2,Nc*Nray),dtype=complex)\n",
    "AoA = np.zeros((2,Nc*Nray),dtype=complex)\n",
    "\n",
    "for reali in range(realization):\n",
    "    AoD = AoD_matrix[:,:,reali]\n",
    "    AoA = AoA_matrix[:,:,reali]\n",
    "    \n",
    "    for j in range(Nc*Nray):\n",
    "        At[:,j,reali] = array_response(AoD[0,j],AoD[1,j],Nt) # UPA array response\n",
    "        Ar[:,j,reali] = array_response(AoA[0,j],AoA[1,j],Nr)\n",
    "        H[:,:,reali] = H[:,:,reali] + alpha[j,reali]*Ar[:,[j],reali]@At[:,[j],reali].conj().T\n",
    "    H[:,:,reali] = gamma * H[:,:,reali]\n",
    "    if (np.linalg.matrix_rank(H[:,:,reali])>=Ns):\n",
    "        count = count + 1\n",
    "        U, s, V = np.linalg.svd(H[:,:,reali], full_matrices=True)\n",
    "        Fopt[:,:,reali] = V[0:Nt,0:Ns]\n",
    "        Wopt[:,:,reali] = U[0:Nr,0:Ns]"
   ]
  },
  {
   "cell_type": "code",
   "execution_count": 10,
   "metadata": {},
   "outputs": [
    {
     "name": "stdout",
     "output_type": "stream",
     "text": [
      "[ 0.17051364-0.20507655j  0.58112628-1.30207465j  0.61677456-1.63265148j\n",
      "  0.15237734+0.30933742j -1.00905940-1.04661916j  0.76296983+0.14134202j\n",
      " -0.16379400+0.28492533j  2.22674986+0.08825693j  0.95306112+0.81358351j\n",
      "  0.04123477+0.14015698j  0.09161558-1.29826087j  0.56478031+0.25584725j\n",
      " -0.52083595+0.22410843j  0.82316897+1.61855229j -1.50900509+0.84055355j\n",
      "  0.26900471-0.92702236j  1.09658129-0.07920158j  0.37337196+0.16580461j\n",
      " -0.53608390+0.44429395j -0.48283792+0.53359361j -0.55157115-1.10331086j\n",
      "  2.01669872-0.32542049j  0.13602250+1.65235837j  0.09841299-0.32745594j\n",
      " -1.03999737+0.24218184j -0.20892857-0.27159661j  0.75676231+0.68920805j\n",
      "  0.70296233+1.79379887j -1.59856088+0.78669949j  0.94662125-0.97341119j\n",
      " -0.51206611-0.25318454j -0.20799193-0.6346923j  -1.16336940+1.12819295j\n",
      " -1.52508574+0.24379706j -0.52451473-0.38941923j  1.79260756+0.69060821j]\n"
     ]
    }
   ],
   "source": [
    "print(H[:,0,0])"
   ]
  },
  {
   "cell_type": "code",
   "execution_count": 11,
   "metadata": {},
   "outputs": [
    {
     "name": "stdout",
     "output_type": "stream",
     "text": [
      "(36, 144, 1000)\n",
      "(36, 50, 1000)\n",
      "(144, 50, 1000)\n",
      "(144, 3, 1000)\n",
      "(36, 3, 1000)\n"
     ]
    }
   ],
   "source": [
    "print(H.shape)\n",
    "print(Ar.shape)\n",
    "print(At.shape)\n",
    "print(Fopt.shape)\n",
    "print(Wopt.shape)"
   ]
  },
  {
   "cell_type": "markdown",
   "metadata": {},
   "source": [
    "**Store Variables to reuse**"
   ]
  },
  {
   "cell_type": "code",
   "execution_count": 12,
   "metadata": {
    "collapsed": true
   },
   "outputs": [],
   "source": [
    "# %store Ns\n",
    "# %store Nt\n",
    "# %store Nr\n",
    "# %store Nc\n",
    "# %store Nray\n",
    "\n",
    "# %store H\n",
    "# %store Fopt\n",
    "# %store Wopt\n",
    "# %store realization\n",
    "# %store At\n",
    "# %store Ar"
   ]
  },
  {
   "cell_type": "code",
   "execution_count": 13,
   "metadata": {
    "collapsed": true
   },
   "outputs": [],
   "source": [
    "# print(H.shape)\n",
    "# plt.plot(Wopt[:,2,1].real)\n",
    "# np.absolute(1.2 + 1j)\n",
    "# a = np.array([1+2j, 3+4j, 5+6j])\n",
    "# a.imag\n"
   ]
  },
  {
   "cell_type": "code",
   "execution_count": 30,
   "metadata": {},
   "outputs": [
    {
     "name": "stdout",
     "output_type": "stream",
     "text": [
      "(0.167026098371-0.18396143915j)\n",
      "(0.167026098371-0.18396143915j)\n"
     ]
    },
    {
     "data": {
      "text/plain": [
       "True"
      ]
     },
     "execution_count": 30,
     "metadata": {},
     "output_type": "execute_result"
    }
   ],
   "source": [
    "print(H[1,1,1])\n",
    "print(H_matlab[1,1,1])\n",
    "np.all(np.isclose(Wopt,Wopt_matlab))"
   ]
  },
  {
   "cell_type": "code",
   "execution_count": 14,
   "metadata": {
    "collapsed": true
   },
   "outputs": [],
   "source": [
    "var = {}\n",
    "var['H']=H\n",
    "var['Wopt']=Wopt\n",
    "var['Fopt']=Fopt\n",
    "var['Ns']=[[Ns]]\n",
    "var['Nt']=[[Nt]]\n",
    "var['Nr']=[[Nr]]\n",
    "var['Nc']=[[Nc]]\n",
    "var['Nray']=[[Nray]]\n",
    "var['realization']=[[realization]]\n",
    "var['At']=At\n",
    "var['Ar']=Ar\n",
    "\n",
    "io.savemat('temp',var)\n"
   ]
  }
 ],
 "metadata": {
  "kernelspec": {
   "display_name": "Python 3",
   "language": "python",
   "name": "python3"
  },
  "language_info": {
   "codemirror_mode": {
    "name": "ipython",
    "version": 3
   },
   "file_extension": ".py",
   "mimetype": "text/x-python",
   "name": "python",
   "nbconvert_exporter": "python",
   "pygments_lexer": "ipython3",
   "version": "3.6.3"
  }
 },
 "nbformat": 4,
 "nbformat_minor": 2
}
