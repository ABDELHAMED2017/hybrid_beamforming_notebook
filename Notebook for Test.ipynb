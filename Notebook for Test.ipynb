{
 "cells": [
  {
   "cell_type": "code",
   "execution_count": null,
   "metadata": {
    "collapsed": true
   },
   "outputs": [],
   "source": [
    "A = np.arange(12).reshape(3,-1)\n",
    "A1 = A[:,1]\n",
    "print('A =',A)\n",
    "print('A1 =',A1)\n",
    "print('A1 dimension =',A1.shape)\n",
    "B = np.arange(16).reshape(4,-1)\n",
    "B1 = B[0,:]\n",
    "print('B =', B)\n",
    "print('B1 =', B1)\n",
    "print('B1 dimension =',B1.shape)\n",
    "# C = np.dot(A1,B1)\n",
    "# print(C)\n",
    "C = np.dot(A1.reshape(3,1),B1.reshape(1,4))\n",
    "print(\"inner product of A1 and B1: \", C)"
   ]
  }
 ],
 "metadata": {
  "kernelspec": {
   "display_name": "Python 3",
   "language": "python",
   "name": "python3"
  },
  "language_info": {
   "codemirror_mode": {
    "name": "ipython",
    "version": 3
   },
   "file_extension": ".py",
   "mimetype": "text/x-python",
   "name": "python",
   "nbconvert_exporter": "python",
   "pygments_lexer": "ipython3",
   "version": "3.6.3"
  }
 },
 "nbformat": 4,
 "nbformat_minor": 2
}
