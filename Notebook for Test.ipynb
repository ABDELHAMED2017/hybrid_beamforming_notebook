{
 "cells": [
  {
   "cell_type": "code",
   "execution_count": 2,
   "metadata": {},
   "outputs": [
    {
     "name": "stdout",
     "output_type": "stream",
     "text": [
      "A = [[ 0  1  2  3]\n",
      " [ 4  5  6  7]\n",
      " [ 8  9 10 11]]\n",
      "A1 = [1 5 9]\n",
      "A1 dimension = (3,)\n",
      "B = [[ 0  1  2  3]\n",
      " [ 4  5  6  7]\n",
      " [ 8  9 10 11]\n",
      " [12 13 14 15]]\n",
      "B1 = [0 1 2 3]\n",
      "B1 dimension = (4,)\n",
      "inner product of A1 and B1:  [[ 0  1  2  3]\n",
      " [ 0  5 10 15]\n",
      " [ 0  9 18 27]]\n"
     ]
    },
    {
     "data": {
      "text/plain": [
       "array([[ 0,  4,  8],\n",
       "       [ 1,  5,  9],\n",
       "       [ 2,  6, 10],\n",
       "       [ 3,  7, 11]])"
      ]
     },
     "execution_count": 2,
     "metadata": {},
     "output_type": "execute_result"
    }
   ],
   "source": [
    "import numpy as np\n",
    "A = np.arange(12).reshape(3,-1)\n",
    "A1 = A[:,1]\n",
    "print('A =',A)\n",
    "print('A1 =',A1)\n",
    "print('A1 dimension =',A1.shape)\n",
    "B = np.arange(16).reshape(4,-1)\n",
    "B1 = B[0,:]\n",
    "print('B =', B)\n",
    "print('B1 =', B1)\n",
    "print('B1 dimension =',B1.shape)\n",
    "# C = np.dot(A1,B1)\n",
    "# print(C)\n",
    "C = np.dot(A1.reshape(3,1),B1.reshape(1,4))\n",
    "print(\"inner product of A1 and B1: \", C)\n",
    "np.transpose(A)"
   ]
  }
 ],
 "metadata": {
  "kernelspec": {
   "display_name": "Python 3",
   "language": "python",
   "name": "python3"
  },
  "language_info": {
   "codemirror_mode": {
    "name": "ipython",
    "version": 3
   },
   "file_extension": ".py",
   "mimetype": "text/x-python",
   "name": "python",
   "nbconvert_exporter": "python",
   "pygments_lexer": "ipython3",
   "version": "3.6.3"
  }
 },
 "nbformat": 4,
 "nbformat_minor": 2
}
