{
 "cells": [
  {
   "cell_type": "markdown",
   "metadata": {},
   "source": [
    "$$(\\mathbf{w}^{opt},\\mathbf{f}^{opt})=argmax\\left | \\mathbf{w^{*}Hf} \\right |^{2}$$\n",
    "s.t. $\\left \\| w \\right \\|^{2}=1$ and $\\left \\| f \\right \\|^{2}=1$\n",
    "\n",
    "Letting the channel’s singular value decomposition be $\\mathbf{H = U\\Sigma V^{*}}$. The optimal vectors are $\\mathbf{w}^{opt}=U^{(1)}$ and $\\mathbf{f}^{opt}=V^{(1)}$"
   ]
  }
 ],
 "metadata": {
  "kernelspec": {
   "display_name": "Python 3",
   "language": "python",
   "name": "python3"
  },
  "language_info": {
   "codemirror_mode": {
    "name": "ipython",
    "version": 3
   },
   "file_extension": ".py",
   "mimetype": "text/x-python",
   "name": "python",
   "nbconvert_exporter": "python",
   "pygments_lexer": "ipython3",
   "version": "3.6.3"
  }
 },
 "nbformat": 4,
 "nbformat_minor": 2
}
