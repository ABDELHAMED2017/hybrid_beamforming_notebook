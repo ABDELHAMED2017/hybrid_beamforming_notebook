{
 "cells": [
  {
   "cell_type": "markdown",
   "metadata": {},
   "source": [
    "$$(\\mathbf{w}^{opt},\\mathbf{f}^{opt})=argmax\\left | \\mathbf{w^{*}Hf} \\right |^{2}$$\n",
    "s.t. $\\left \\| w \\right \\|^{2}=1$ and $\\left \\| f \\right \\|^{2}=1$\n",
    "\n",
    "Letting the channel’s singular value decomposition be $\\mathbf{H = U\\Sigma V^{*}}$. U, V are Unitary Matrix, s.t. $U^{*}U=UU^{*}=I$ and $\\Sigma$ is diagonal\n",
    "\n",
    "The optimal vectors are $\\mathbf{w}^{opt}=U^{(1)}$ and $\\mathbf{f}^{opt}=V^{(1)}$\n",
    "\n",
    "$$H = \\sqrt{\\frac{N_{t}N_{r}}L}\\sum_{l=1}^{L}\\alpha_{l}\\mathbf{a_{r}}(\\phi _{l}^{r},\\theta _{l}^{r} )\\mathbf{a_{t}}(\\phi _{l}^{t},\\theta _{l}^{t} )^{H}=\\textbf{A}_{r}\\textbf{D}\\textbf{A}_{t}^{*}$$\n",
    "$$\\textbf{A}_{r}=\\left [ \\mathbf{a_{r}}(\\phi _{1}^{t},\\theta _{1}^{t}),...,\\mathbf{a_{r}}(\\phi _{L}^{t},\\theta _{L}^{t}) \\right ],\\textbf{A}_{t}=\\left [ \\mathbf{a_{t}}(\\phi _{1}^{t},\\theta _{1}^{t}),...,\\mathbf{a_{t}}(\\phi _{L}^{t},\\theta _{L}^{t}) \\right ],\\textbf{D}=diag(\\left [ \\alpha _{1}\\sqrt{\\frac{N_{t}N_{r}}L},...,\\alpha _{L}\\sqrt{\\frac{N_{t}N_{r}}L} \\right ])$$\n",
    "\n",
    "When number of atenna elements tend to infinity, we have:  $\\mathbf{a}(\\phi _{k}) \\perp span(\\left \\{ \\mathbf{a}(\\phi _{l})  \\right \\} | \\forall l\\neq k)$\n",
    "\n",
    "$$\\Rightarrow k^{opt} = argmax(|\\alpha _{l}|)$$\n",
    "$$H_{pol}=\\begin{bmatrix}\n",
    "H_{hh} & H_{hv}\\\\ \n",
    "H_{vh} & H_{vv}\n",
    "\\end{bmatrix}$$\n",
    "\n",
    "$$H_{pol} = \\sqrt{\\frac{N_{t}N_{r}}C}\\sum_{i=1}^{C}\\begin{bmatrix}\n",
    "\\alpha^{hh}(\\phi _{i}^{t},\\phi _{i}^{r} ) & \\alpha^{hv}(\\theta _{i}^{t},\\phi _{i}^{r} ) \\\\ \n",
    "\\alpha^{vh}(\\phi _{i}^{t},\\theta _{i}^{r} ) & \\alpha^{vv}(\\theta _{i}^{t},\\theta _{i}^{r} )\n",
    "\\end{bmatrix}\\otimes \\mathbf{a_{r}}(\\phi _{i}^{r},\\theta _{i}^{r} )\\mathbf{a_{t}}(\\phi _{i}^{t},\\theta _{i}^{t} )^{H}$$"
   ]
  }
 ],
 "metadata": {
  "kernelspec": {
   "display_name": "Python 3",
   "language": "python",
   "name": "python3"
  },
  "language_info": {
   "codemirror_mode": {
    "name": "ipython",
    "version": 3
   },
   "file_extension": ".py",
   "mimetype": "text/x-python",
   "name": "python",
   "nbconvert_exporter": "python",
   "pygments_lexer": "ipython3",
   "version": "3.6.3"
  }
 },
 "nbformat": 4,
 "nbformat_minor": 2
}
