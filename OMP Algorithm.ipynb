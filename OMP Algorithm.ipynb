{
 "cells": [
  {
   "cell_type": "markdown",
   "metadata": {
    "collapsed": true
   },
   "source": [
    "# Orthogonal Matching Pursuit (OMP)"
   ]
  },
  {
   "cell_type": "markdown",
   "metadata": {},
   "source": [
    "### Restore Variable "
   ]
  },
  {
   "cell_type": "code",
   "execution_count": 1,
   "metadata": {
    "collapsed": true
   },
   "outputs": [],
   "source": [
    "# import necessary module \n",
    "\n",
    "%matplotlib inline\n",
    "import numpy as np\n",
    "import matplotlib.pyplot as plt\n",
    "\n",
    "%store -r H \n",
    "%store -r Wopt\n",
    "%store -r Fopt\n",
    "\n",
    "%store -r Ns\n",
    "%store -r Nt\n",
    "%store -r Nr\n",
    "%store -r Nc\n",
    "%store -r Nray\n",
    "%store -r realization\n",
    "%store -r At\n",
    "%store -r Ar"
   ]
  },
  {
   "cell_type": "markdown",
   "metadata": {},
   "source": [
    "### Calculate FRF, FBB by OMP algorithm"
   ]
  },
  {
   "cell_type": "code",
   "execution_count": 2,
   "metadata": {
    "collapsed": true
   },
   "outputs": [],
   "source": [
    "def OMP(_Fopt,_NRF,_At):\n",
    "    _FRF = np.empty((_At.shape[0],0))\n",
    "    Fres = _Fopt\n",
    "    for k in range(_NRF):\n",
    "        PU = np.dot(_At.T,Fres)\n",
    "        ind = np.argmax(np.sum((np.absolute(PU))**2,axis=1))\n",
    "        _FRF = np.append(_FRF,_At[:,ind].reshape(-1,1),axis=1)\n",
    "        _FBB = np.dot(np.linalg.pinv(_FRF),_Fopt)\n",
    "        _Fopt = (_Fopt-np.dot(_FRF,_FBB))/np.linalg.norm((_Fopt-np.dot(_FRF,_FBB)),'fro')\n",
    "    return _FRF,_FBB\n"
   ]
  },
  {
   "cell_type": "code",
   "execution_count": 3,
   "metadata": {},
   "outputs": [
    {
     "name": "stdout",
     "output_type": "stream",
     "text": [
      "(36, 144, 100)\n",
      "(144, 3, 100)\n",
      "(36, 3, 100)\n"
     ]
    }
   ],
   "source": [
    "print(H.shape)\n",
    "print(Fopt.shape)\n",
    "print(Wopt.shape)"
   ]
  },
  {
   "cell_type": "markdown",
   "metadata": {},
   "source": [
    "### Plot Spectral Efficiency with Precoder and Combiner getting from OMP"
   ]
  },
  {
   "cell_type": "code",
   "execution_count": 4,
   "metadata": {},
   "outputs": [
    {
     "name": "stderr",
     "output_type": "stream",
     "text": [
      "C:\\Users\\dienh\\Anaconda3\\lib\\site-packages\\numpy\\core\\numeric.py:531: ComplexWarning: Casting complex values to real discards the imaginary part\n",
      "  return array(a, dtype, copy=False, order=order)\n"
     ]
    },
    {
     "data": {
      "image/png": "[encoded data removed]",
      "text/plain": [
       "<matplotlib.figure.Figure at 0x17daf6e23c8>"
      ]
     },
     "metadata": {},
     "output_type": "display_data"
    }
   ],
   "source": [
    "NRF = 3\n",
    "SNR_dB = np.arange(-35,10,5)\n",
    "SNR = 10**(SNR_dB/10)\n",
    "smax = SNR.shape[0]\n",
    "R = np.zeros((smax, realization),dtype=complex)\n",
    "\n",
    "for reali in range(realization):\n",
    "    FRF, FBB = OMP( Fopt[:,:,reali], NRF, At[:,:,reali] )\n",
    "    FBB = np.sqrt(Ns)*FBB/np.linalg.norm(np.dot(FRF,FBB),'fro')\n",
    "    WRF, WBB = OMP( Wopt[:,:,reali], NRF, Ar[:,:,reali])\n",
    "    for s in range(smax):\n",
    "        R[s,reali] = np.log2(np.linalg.det(np.eye(Ns)+SNR[s]/Ns*np.linalg.pinv(np.dot(WRF,WBB))@H[:,:,reali]@FRF@FBB.T@FRF.T@H[:,:,reali].T@WRF@WBB))\n",
    "        \n",
    "plt.plot(SNR_dB, np.sum(R,axis=1)/realization)\n",
    "plt.xlabel('SNR(dB)')\n",
    "plt.ylabel('Spectral Efficiency (bits/s/Hz)')\n",
    "plt.grid()\n",
    "plt.show()\n"
   ]
  },
  {
   "cell_type": "code",
   "execution_count": 5,
   "metadata": {},
   "outputs": [],
   "source": [
    "# _At = At[:,:,1]\n",
    "# print(_At.shape[0])\n",
    "# test = _At[:,5].reshape(-1,1)\n",
    "# print(test.shape)\n",
    "# _Wopt = Wopt[:,:,1]\n",
    "# _Ar = Ar[:,:,1]\n",
    "# for s in range(smax):\n",
    "#     print(s)\n",
    "# np.zeros(2,2)\n",
    "# A = np.arange(12).reshape(4,3)\n",
    "# print(A)\n",
    "# B = np.arange(3).reshape(3,1)\n",
    "# C = A@B\n",
    "# print(C)\n"
   ]
  }
 ],
 "metadata": {
  "kernelspec": {
   "display_name": "Python 3",
   "language": "python",
   "name": "python3"
  },
  "language_info": {
   "codemirror_mode": {
    "name": "ipython",
    "version": 3
   },
   "file_extension": ".py",
   "mimetype": "text/x-python",
   "name": "python",
   "nbconvert_exporter": "python",
   "pygments_lexer": "ipython3",
   "version": "3.6.3"
  }
 },
 "nbformat": 4,
 "nbformat_minor": 2
}
