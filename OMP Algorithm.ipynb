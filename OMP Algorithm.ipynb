{
 "cells": [
  {
   "cell_type": "markdown",
   "metadata": {
    "collapsed": true
   },
   "source": [
    "# Orthogonal Matching Pursuit (OMP)"
   ]
  },
  {
   "cell_type": "markdown",
   "metadata": {},
   "source": [
    "### Restore Variable "
   ]
  },
  {
   "cell_type": "code",
   "execution_count": 1,
   "metadata": {},
   "outputs": [
    {
     "name": "stdout",
     "output_type": "stream",
     "text": [
      "(36, 144, 1000)\n"
     ]
    }
   ],
   "source": [
    "import scipy.io as io\n",
    "import numpy as np\n",
    "import matplotlib.pyplot as plt\n",
    "mat = io.loadmat('temp.mat')\n",
    "\n",
    "H = mat['H']\n",
    "Wopt = mat['Wopt']\n",
    "Fopt = mat['Fopt']\n",
    "Ns = mat['Ns'][0,0]\n",
    "Nt = mat['Nt'][0,0]\n",
    "Nr = mat['Nr'][0,0]\n",
    "Nc = mat['Nc'][0,0]\n",
    "Nray = mat['Nray'][0,0]\n",
    "realization = mat['realization'][0,0]\n",
    "At = mat['At']\n",
    "Ar = mat['Ar']\n",
    "print(H.shape)"
   ]
  },
  {
   "cell_type": "markdown",
   "metadata": {},
   "source": [
    "### Calculate FRF, FBB by OMP algorithm"
   ]
  },
  {
   "cell_type": "code",
   "execution_count": 3,
   "metadata": {
    "collapsed": true
   },
   "outputs": [],
   "source": [
    "def OMP(_Fopt,_NRF,_At):\n",
    "    _FRF = np.empty((_At.shape[0],0))\n",
    "    _Fres = _Fopt\n",
    "    for k in range(_NRF):\n",
    "        PU = _At.conj().T@_Fres\n",
    "        ind = np.argmax(np.sum((np.absolute(PU))**2,axis=1))\n",
    "        _FRF = np.append(_FRF,_At[:,[ind]],axis=1)\n",
    "        _FBB = (np.linalg.pinv(_FRF))@_Fopt\n",
    "        _Fres = (_Fopt-_FRF@_FBB)/np.linalg.norm((_Fopt-_FRF@_FBB),'fro')\n",
    "    return _FRF,_FBB\n"
   ]
  },
  {
   "cell_type": "markdown",
   "metadata": {},
   "source": [
    "### Plot Spectral Efficiency with Precoder and Combiner getting from OMP"
   ]
  },
  {
   "cell_type": "code",
   "execution_count": 4,
   "metadata": {
    "collapsed": true
   },
   "outputs": [],
   "source": [
    "NRF = 3\n",
    "SNR_dB = np.arange(-35,10,5)\n",
    "SNR = 10**(SNR_dB/10)\n",
    "smax = SNR.shape[0]\n",
    "R = np.zeros([smax, realization],dtype=complex)\n",
    "R_o = np.zeros([smax, realization],dtype=complex)\n",
    "\n",
    "for reali in range(realization):\n",
    "    FRF, FBB = OMP( Fopt[:,:,reali], NRF, At[:,:,reali] )\n",
    "    FBB = np.sqrt(Ns)*FBB/np.linalg.norm(FRF@FBB,'fro')\n",
    "    WRF, WBB = OMP( Wopt[:,:,reali], NRF, Ar[:,:,reali])\n",
    "    for s in range(smax):\n",
    "        R[s,reali] = np.log2(np.linalg.det(np.eye(Ns)+SNR[s]/Ns*np.linalg.pinv(WRF@WBB)@H[:,:,reali]@FRF@FBB@FBB.conj().T@FRF.conj().T@H[:,:,reali].conj().T@WRF@WBB))\n",
    "        R_o[s,reali] = np.log2(np.linalg.det(np.eye(Ns)+SNR[s]/Ns*np.linalg.pinv(Wopt[:,:,reali])@H[:,:,reali]@Fopt[:,:,reali]@Fopt[:,:,reali].conj().T@H[:,:,reali].conj().T@Wopt[:,:,reali]))\n"
   ]
  },
  {
   "cell_type": "code",
   "execution_count": 5,
   "metadata": {},
   "outputs": [
    {
     "data": {
      "image/png": "[encoded data removed]",
      "text/plain": [
       "<matplotlib.figure.Figure at 0x1af61a87fd0>"
      ]
     },
     "metadata": {},
     "output_type": "display_data"
    }
   ],
   "source": [
    "plt.plot(SNR_dB, (np.sum(R,axis=1).real)/realization, label='OMP')\n",
    "plt.plot(SNR_dB, (np.sum(R_o,axis=1).real)/realization, label='Optimal')\n",
    "plt.legend(loc='upper left')\n",
    "plt.xlabel('SNR(dB)')\n",
    "plt.ylabel('Spectral Efficiency (bits/s/Hz)')\n",
    "plt.grid()\n",
    "plt.show()"
   ]
  }
 ],
 "metadata": {
  "kernelspec": {
   "display_name": "Python 3",
   "language": "python",
   "name": "python3"
  },
  "language_info": {
   "codemirror_mode": {
    "name": "ipython",
    "version": 3
   },
   "file_extension": ".py",
   "mimetype": "text/x-python",
   "name": "python",
   "nbconvert_exporter": "python",
   "pygments_lexer": "ipython3",
   "version": "3.6.3"
  }
 },
 "nbformat": 4,
 "nbformat_minor": 2
}
