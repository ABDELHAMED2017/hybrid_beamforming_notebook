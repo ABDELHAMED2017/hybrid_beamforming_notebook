{
 "cells": [
  {
   "cell_type": "code",
   "execution_count": null,
   "metadata": {
    "collapsed": true
   },
   "outputs": [],
   "source": []
  },
  {
   "cell_type": "code",
   "execution_count": 34,
   "metadata": {
    "collapsed": true
   },
   "outputs": [],
   "source": [
    "# import necessary module \n",
    "\n",
    "%matplotlib inline\n",
    "import numpy as np\n",
    "import matplotlib.pyplot as plt\n",
    "\n",
    "%store -r H \n",
    "%store -r Wopt\n",
    "%store -r Fopt\n",
    "\n",
    "%store -r Ns\n",
    "%store -r Nt\n",
    "%store -r Nr\n",
    "%store -r Nc\n",
    "%store -r Nray"
   ]
  },
  {
   "cell_type": "code",
   "execution_count": 50,
   "metadata": {
    "collapsed": true
   },
   "outputs": [],
   "source": [
    "def OMP(Fopt,NRF,At):\n",
    "    FRF = np.array([])\n",
    "#     FBB = np.array([])\n",
    "    Fres = Fopt\n",
    "    for k in range(NRF):\n",
    "        PU = np.dot(np.tranpose(At),Fres)\n",
    "        ind = np.argmax(np.sum((np.absolute(PU))**2,axis=1))\n",
    "        FRF = np.append(FRF,At[:,ind])\n",
    "        FBB = np.dot(np.linalg.pinv(FRF),Fopt)\n",
    "        Fopt = (Fopt-np.dot(FRF,FBB))/np.linalg.norm((Fopt-np.dot(FRF,FBB)),'fro')\n",
    "    return FRF,FBB\n"
   ]
  },
  {
   "cell_type": "code",
   "execution_count": 33,
   "metadata": {},
   "outputs": [
    {
     "name": "stdout",
     "output_type": "stream",
     "text": [
      "(36, 144, 100)\n",
      "(144, 3, 100)\n",
      "(36, 3, 100)\n"
     ]
    }
   ],
   "source": [
    "print(H.shape)\n",
    "print(Fopt.shape)\n",
    "print(Wopt.shape)"
   ]
  },
  {
   "cell_type": "markdown",
   "metadata": {},
   "source": []
  }
 ],
 "metadata": {
  "kernelspec": {
   "display_name": "Python 3",
   "language": "python",
   "name": "python3"
  },
  "language_info": {
   "codemirror_mode": {
    "name": "ipython",
    "version": 3
   },
   "file_extension": ".py",
   "mimetype": "text/x-python",
   "name": "python",
   "nbconvert_exporter": "python",
   "pygments_lexer": "ipython3",
   "version": "3.6.3"
  }
 },
 "nbformat": 4,
 "nbformat_minor": 2
}
