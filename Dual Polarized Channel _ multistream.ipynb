{
 "cells": [
  {
   "cell_type": "code",
   "execution_count": 1,
   "metadata": {},
   "outputs": [],
   "source": [
    "# import necessary module\n",
    "%matplotlib inline\n",
    "import numpy as np\n",
    "import matplotlib.pyplot as plt\n",
    "import matplotlib.patches as mpatches\n",
    "\n",
    "import seaborn as sns\n",
    "import scipy\n",
    "from array_response import *\n",
    "import itertools \n",
    "\n",
    "from IPython.display import Image\n",
    "from matplotlib.gridspec import GridSpec\n",
    "\n"
   ]
  },
  {
   "cell_type": "markdown",
   "metadata": {},
   "source": [
    "### Parameters declaration\n",
    "\n",
    "Declare parameters needed for channel realization"
   ]
  },
  {
   "cell_type": "code",
   "execution_count": 2,
   "metadata": {},
   "outputs": [],
   "source": [
    "Ns = 5 # number of streams\n",
    "\n",
    "Nc = 6 # number of cluster\n",
    "Nray = 5 # number of rays in each cluster\n",
    "\n",
    "Nt = 64 # number of transmit antennas\n",
    "Nr = 16 # number of receive antennas\n",
    "\n",
    "angle_sigma = 10/180*np.pi # standard deviation of the angles in azimuth and elevation both of Rx and Tx\n",
    "\n",
    "gamma = np.sqrt((Nt*Nr)/(Nc*Nray))\n",
    "realization = 1000 # equivalent to number of taking sample\n",
    "count = 0\n",
    "\n",
    "eps = 0.1 # 20dB isolation\n",
    "sigma = np.sqrt(8/(1+eps**2)) # according to the normalization condition of H\n"
   ]
  },
  {
   "cell_type": "markdown",
   "metadata": {},
   "source": [
    "### Channel Realization\n",
    "\n",
    "Realize channel H for Dual-Polarized antenna array"
   ]
  },
  {
   "cell_type": "code",
   "execution_count": 3,
   "metadata": {},
   "outputs": [],
   "source": [
    "H_pol = np.zeros((2*Nr,2*Nt,realization),dtype=complex)\n",
    "At = np.zeros((Nt,Nc*Nray,realization),dtype=complex)\n",
    "Ar = np.zeros((Nr,Nc*Nray,realization),dtype=complex)\n",
    "alpha_hh = np.zeros((Nc*Nray,realization),dtype=complex)\n",
    "alpha_hv = np.zeros((Nc*Nray,realization),dtype=complex)\n",
    "alpha_vh = np.zeros((Nc*Nray,realization),dtype=complex)\n",
    "alpha_vv = np.zeros((Nc*Nray,realization),dtype=complex)\n",
    "Fopt = np.zeros((2*Nt,Ns,realization),dtype=complex)\n",
    "Wopt = np.zeros((2*Nr,Ns,realization),dtype=complex)\n",
    "\n",
    "\n",
    "AoD = np.zeros((2,Nc*Nray),dtype=complex)\n",
    "AoA = np.zeros((2,Nc*Nray),dtype=complex)\n",
    "\n",
    "H = np.zeros((2*Nr,2*Nt,realization),dtype=complex)\n",
    "azi_rot = np.random.uniform(0,2*np.pi,realization)\n",
    "ele_rot = np.random.uniform(0,np.pi/2,realization) # Why PI/2 ??\n",
    "R = np.array([[np.cos(ele_rot)*np.cos(azi_rot),np.sin(ele_rot)],[-np.sin(ele_rot)*np.cos(azi_rot),np.cos(ele_rot)]]) # rotation matrix\n",
    "\n",
    "for reali in range(realization):\n",
    "    for c in range(1,Nc+1):\n",
    "        AoD_azi_m = np.random.uniform(0,2*np.pi,1) # Mean Angle of Departure _ azimuth\n",
    "        AoD_ele_m = np.random.uniform(0,np.pi,1) # Mean Angle of Departure _ elevation\n",
    "        AoA_azi_m = np.random.uniform(0,2*np.pi,1) # Mean Angle of Arrival_ azimuth\n",
    "        AoA_ele_m = np.random.uniform(0,np.pi,1) # Mean Angle of Arrival_ elevation\n",
    "        AoD[0,(c-1)*Nray:Nray*c] = np.random.laplace(AoD_azi_m, angle_sigma, (1,Nray))\n",
    "        AoD[1,(c-1)*Nray:Nray*c] = np.random.laplace(AoD_ele_m, angle_sigma, (1,Nray))\n",
    "        AoA[0,(c-1)*Nray:Nray*c] = np.random.laplace(AoA_azi_m, angle_sigma, (1,Nray))\n",
    "        AoA[1,(c-1)*Nray:Nray*c] = np.random.laplace(AoA_ele_m, angle_sigma, (1,Nray))\n",
    "    for j in range(Nc*Nray):\n",
    "        At[:,j,reali] = array_response(AoD[0,j],AoD[1,j],Nt)/np.sqrt(2) # UPA array response\n",
    "        Ar[:,j,reali] = array_response(AoA[0,j],AoA[1,j],Nr)/np.sqrt(2)\n",
    "        var_hh = ((sigma**2)*(np.cos(AoD[0,j])**2)*(np.cos(AoA[0,j])**2)).real\n",
    "        var_hv = ((eps**2)*(sigma**2)*(np.cos(AoD[1,j])**2)*(np.cos(AoA[0,j])**2)).real\n",
    "        var_vh = ((eps**2)*(sigma**2)*(np.cos(AoD[0,j])**2)*(np.cos(AoA[1,j])**2)).real\n",
    "        var_vv = ((sigma**2)*(np.cos(AoD[1,j])**2)*(np.cos(AoA[1,j])**2)).real\n",
    "        alpha_hh[j,reali] = np.random.normal(0, np.sqrt(var_hh/2)) + 1j*np.random.normal(0, np.sqrt(var_hh/2))\n",
    "        alpha_hv[j,reali] = np.random.normal(0, np.sqrt(var_hv/2)) + 1j*np.random.normal(0, np.sqrt(var_hv/2))\n",
    "        alpha_vh[j,reali] = np.random.normal(0, np.sqrt(var_vh/2)) + 1j*np.random.normal(0, np.sqrt(var_vh/2))\n",
    "        alpha_vv[j,reali] = np.random.normal(0, np.sqrt(var_vv/2)) + 1j*np.random.normal(0, np.sqrt(var_vv/2))\n",
    "        alpha = np.vstack((np.hstack((alpha_hh[j,reali],alpha_hv[j,reali])),np.hstack((alpha_vh[j,reali],alpha_vv[j,reali]))))\n",
    "        H_pol[:,:,reali] = H_pol[:,:,reali] + np.kron(alpha,Ar[:,[j],reali]@At[:,[j],reali].conj().T)\n",
    "    H_pol[:,:,reali] = 2*gamma* H_pol[:,:,reali]\n",
    "    H[:,:,reali] = (np.kron(R[:,:,reali],np.eye(Nr)))@H_pol[:,:,reali]\n",
    "    H[:,:,reali] = np.sqrt(4/3)* H[:,:,reali]\n",
    "    \n",
    "    if (np.linalg.matrix_rank(H[:,:,reali])>=Ns):\n",
    "        U, s, V = np.linalg.svd(H[:,:,reali], full_matrices=True)\n",
    "        V = V.conj().T\n",
    "        Fopt[:,:,reali] = V[0:2*Nt,0:Ns]\n",
    "        Wopt[:,:,reali] = U[0:2*Nr,0:Ns]"
   ]
  },
  {
   "cell_type": "markdown",
   "metadata": {},
   "source": [
    "### Check normalized condition"
   ]
  },
  {
   "cell_type": "code",
   "execution_count": 4,
   "metadata": {},
   "outputs": [
    {
     "name": "stdout",
     "output_type": "stream",
     "text": [
      "4*Nt*Nr = 4096    Frobenius norm H pol= 4077.2328517001365\n"
     ]
    }
   ],
   "source": [
    "channel_fro_1 = np.zeros(realization)\n",
    "for reali in range(realization):\n",
    "    channel_fro_1[reali] = np.linalg.norm(H_pol[:,:,reali],'fro')\n",
    "print(\"4*Nt*Nr =\", 4*Nt*Nr , \"   Frobenius norm H pol=\", np.mean(channel_fro_1**2))"
   ]
  },
  {
   "cell_type": "code",
   "execution_count": 5,
   "metadata": {},
   "outputs": [
    {
     "name": "stdout",
     "output_type": "stream",
     "text": [
      "4*Nt*Nr = 4096    Frobenius norm = 4078.4450591177324\n"
     ]
    }
   ],
   "source": [
    "channel_fro_2 = np.zeros(realization)\n",
    "for reali in range(realization):\n",
    "    channel_fro_2[reali] = np.linalg.norm(H[:,:,reali],'fro')\n",
    "print(\"4*Nt*Nr =\", 4*Nt*Nr , \"   Frobenius norm =\", np.mean(channel_fro_2**2))"
   ]
  },
  {
   "cell_type": "markdown",
   "metadata": {},
   "source": [
    "### OMP"
   ]
  },
  {
   "cell_type": "code",
   "execution_count": 6,
   "metadata": {},
   "outputs": [],
   "source": [
    "def OMP_dual(_Fopt,_NRF,_At):\n",
    "    _FRF = np.empty((2*_At.shape[0],0))\n",
    "    _Fres = _Fopt\n",
    "#     Nt = int(Fopt.shape[0]/2)\n",
    "    Nt = int(_At[:,:].shape[0])\n",
    "    for k in range(_NRF):\n",
    "        PU_h = _At.conj().T@_Fres[0:Nt,:]\n",
    "        ind_h = np.argmax(np.sum((np.absolute(PU_h))**2,axis=1))\n",
    "        PU_v = _At.conj().T@_Fres[Nt:2*Nt,:]\n",
    "        ind_v = np.argmax(np.sum((np.absolute(PU_v))**2,axis=1))\n",
    "        _FRF = np.append(_FRF,np.vstack((_At[:,[ind_h]],_At[:,[ind_v]])) ,axis=1)\n",
    "        _FBB = (np.linalg.pinv(_FRF))@_Fopt\n",
    "        _Fres = (_Fopt-_FRF@_FBB)/np.linalg.norm((_Fopt-_FRF@_FBB),'fro')\n",
    "#         _Fres = (_Fopt-_FRF@_FBB)\n",
    "    return _FRF,_FBB"
   ]
  },
  {
   "cell_type": "code",
   "execution_count": 7,
   "metadata": {},
   "outputs": [
    {
     "data": {
      "text/plain": [
       "64"
      ]
     },
     "execution_count": 7,
     "metadata": {},
     "output_type": "execute_result"
    }
   ],
   "source": [
    "int(At[:,:].shape[0])"
   ]
  },
  {
   "cell_type": "markdown",
   "metadata": {},
   "source": [
    "### Plot Spectral Efficiency with Precoder and Combiner getting from OMP"
   ]
  },
  {
   "cell_type": "code",
   "execution_count": 8,
   "metadata": {},
   "outputs": [],
   "source": [
    "NRF = 10\n",
    "SNR_dB = np.arange(-35,10,5)\n",
    "SNR = 10**(SNR_dB/10)\n",
    "smax = SNR.shape[0]\n",
    "R = np.zeros([smax, realization],dtype=complex)\n",
    "R_o = np.zeros([smax, realization],dtype=complex)\n",
    "\n",
    "for reali in range(realization):\n",
    "    FRF, FBB = OMP_dual( Fopt[:,:,reali], NRF, At[:,:,reali])\n",
    "    FBB = np.sqrt(Ns)*FBB/np.linalg.norm(FRF@FBB,'fro')\n",
    "    WRF, WBB = OMP_dual( Wopt[:,:,reali], NRF, Ar[:,:,reali])\n",
    "    WBB = np.sqrt(Ns)*WBB/np.linalg.norm(WRF@WBB,'fro')\n",
    "    \n",
    "    for s in range(smax):\n",
    "        R[s,reali] = np.log2(np.linalg.det(np.eye(Ns)+SNR[s]/Ns*np.linalg.pinv(WRF@WBB)@H[:,:,reali]@FRF@FBB@FBB.conj().T@FRF.conj().T@H[:,:,reali].conj().T@WRF@WBB))\n",
    "        R_o[s,reali] = np.log2(np.linalg.det(np.eye(Ns)+SNR[s]/Ns*np.linalg.pinv(Wopt[:,:,reali])@H[:,:,reali]@Fopt[:,:,reali]@Fopt[:,:,reali].conj().T@H[:,:,reali].conj().T@Wopt[:,:,reali]))\n"
   ]
  },
  {
   "cell_type": "code",
   "execution_count": 23,
   "metadata": {},
   "outputs": [
    {
     "data": {
      "text/plain": [
       "(128, 5, 1000)"
      ]
     },
     "execution_count": 23,
     "metadata": {},
     "output_type": "execute_result"
    }
   ],
   "source": [
    "Fopt.shape"
   ]
  },
  {
   "cell_type": "code",
   "execution_count": 26,
   "metadata": {},
   "outputs": [
    {
     "name": "stdout",
     "output_type": "stream",
     "text": [
      "Ns 5    Frobenius norm FRF*FBB= 5.000000000000003\n"
     ]
    }
   ],
   "source": [
    "x = np.linalg.norm(FRF@FBB,'fro')\n",
    "print(\"Ns\", Ns , \"   Frobenius norm FRF*FBB=\", x**2)"
   ]
  },
  {
   "cell_type": "code",
   "execution_count": 10,
   "metadata": {},
   "outputs": [
    {
     "data": {
      "image/png": "[encoded data removed]",
      "text/plain": [
       "<matplotlib.figure.Figure at 0x7f592a7f2b38>"
      ]
     },
     "metadata": {},
     "output_type": "display_data"
    }
   ],
   "source": [
    "# plt.plot(SNR_dB, (np.sum(R,axis=1).real)/realization, label='OMP')\n",
    "plt.plot(SNR_dB, (np.sum(R_o,axis=1).real)/realization, label='Optimal')\n",
    "plt.plot(SNR_dB, (np.sum(R,axis=1).real)/realization, label='OMP')\n",
    "\n",
    "plt.legend(loc='upper left')\n",
    "plt.xlabel('SNR(dB)')\n",
    "plt.ylabel('Spectral Efficiency (bits/s/Hz)')\n",
    "plt.grid()\n",
    "plt.show()"
   ]
  },
  {
   "cell_type": "markdown",
   "metadata": {},
   "source": [
    "### Joint Horizontal/Vertical Beamformer Selection"
   ]
  },
  {
   "cell_type": "markdown",
   "metadata": {},
   "source": [
    "| hori_tx | hori_rx | verti_tx | verti_rx |\n",
    "|:--------|--------|--------:|:---------:|"
   ]
  },
  {
   "cell_type": "code",
   "execution_count": 11,
   "metadata": {},
   "outputs": [
    {
     "data": {
      "image/png": "[encoded data removed]",
      "text/plain": [
       "<IPython.core.display.Image object>"
      ]
     },
     "execution_count": 11,
     "metadata": {},
     "output_type": "execute_result"
    }
   ],
   "source": [
    "Image(\"img/cluster.png\")"
   ]
  },
  {
   "cell_type": "markdown",
   "metadata": {},
   "source": [
    "### Histogram of chosen path\n",
    "\n",
    "__path gain of each combination__\n",
    "\n",
    "Numpath = number of total combination\n",
    "\n",
    "path_combi = arrangement of combination"
   ]
  },
  {
   "cell_type": "code",
   "execution_count": 12,
   "metadata": {
    "scrolled": true
   },
   "outputs": [
    {
     "name": "stdout",
     "output_type": "stream",
     "text": [
      "[ 0  1  2  3  4  5  6  7  8  9 10 11 12 13 14 15 16 17 18 19 20 21 22 23\n",
      " 24 25 26 27 28 29]\n",
      "(1770, 4)\n"
     ]
    }
   ],
   "source": [
    "total_combi = Nc*Nray\n",
    "cluster = np.arange(total_combi)\n",
    "print(cluster)\n",
    "c = list(itertools.combinations(cluster, 2))\n",
    "num_path = (2*total_combi-1)*total_combi\n",
    "path_combi = np.zeros((num_path,4),dtype=int)\n",
    "\n",
    "print(path_combi.shape)\n",
    "path_combi[0:total_combi,:]=np.arange(total_combi).reshape(total_combi,1).repeat(4,axis=1)\n",
    "\n",
    "count = 0\n",
    "for i in range(int(total_combi*(total_combi-1)/2)):\n",
    "    path_combi[total_combi+4*i,:] = np.array([c[count][0],c[count][0],c[count][1],c[count][1]])\n",
    "    path_combi[total_combi+4*i+1,:] = np.array([c[count][1],c[count][1],c[count][0],c[count][0]])\n",
    "    path_combi[total_combi+4*i+2,:] = np.array([c[count][0],c[count][1],c[count][1],c[count][0]])\n",
    "    path_combi[total_combi+4*i+3,:] = np.array([c[count][1],c[count][0],c[count][0],c[count][1]])\n",
    "    count = count+1\n",
    "# print(path_combi[0:10,:])\n",
    "path_gain = np.zeros((num_path,realization)) # 2 to save the position and maximum value\n",
    "for reali in range(realization):\n",
    "    for combi in range(num_path):\n",
    "        path_gain[combi,reali] =\\\n",
    "        (np.abs\\\n",
    "         ((np.cos(ele_rot[reali])*np.cos(azi_rot[reali])*alpha_hh[path_combi[combi,0],reali]+np.sin(ele_rot[reali])*alpha_vh[path_combi[combi,0],reali])*(path_combi[combi,0]==path_combi[combi,1])+\\\n",
    "         (np.cos(ele_rot[reali])*np.cos(azi_rot[reali])*alpha_hv[path_combi[combi,2],reali]+np.sin(ele_rot[reali])*alpha_vv[path_combi[combi,2],reali])*(path_combi[combi,2]==path_combi[combi,1])+\\\n",
    "         (-np.sin(ele_rot[reali])*np.cos(azi_rot[reali])*alpha_hh[path_combi[combi,0],reali]+np.cos(ele_rot[reali])*alpha_vh[path_combi[combi,0],reali])*(path_combi[combi,0]==path_combi[combi,3])+\\\n",
    "         (-np.sin(ele_rot[reali])*np.cos(azi_rot[reali])*alpha_hv[path_combi[combi,2],reali]+np.cos(ele_rot[reali])*alpha_vv[path_combi[combi,2],reali])*(path_combi[combi,2]==path_combi[combi,3])\n",
    "         ))**2\n"
   ]
  },
  {
   "cell_type": "code",
   "execution_count": 13,
   "metadata": {},
   "outputs": [
    {
     "name": "stdout",
     "output_type": "stream",
     "text": [
      "1770\n",
      "(1770, 1000)\n",
      "(30, 1000)\n"
     ]
    }
   ],
   "source": [
    "print(num_path)\n",
    "print(path_gain.shape)\n",
    "print(alpha_hh.shape)"
   ]
  },
  {
   "cell_type": "markdown",
   "metadata": {},
   "source": [
    "__Check maximum gain from combination of path in each realization__\n",
    "\n",
    "To do the joint polar beam steering later"
   ]
  },
  {
   "cell_type": "code",
   "execution_count": 14,
   "metadata": {},
   "outputs": [],
   "source": [
    "index = np.zeros(realization,dtype=int)\n",
    "for reali in range(realization):\n",
    "    index[reali] = np.argmax(path_gain[:,reali])\n",
    "\n",
    "sort_path_gain = np.zeros([num_path,realization])\n",
    "sort_path_gain = np.argsort(path_gain,axis=0)"
   ]
  },
  {
   "cell_type": "code",
   "execution_count": 15,
   "metadata": {},
   "outputs": [
    {
     "name": "stdout",
     "output_type": "stream",
     "text": [
      "[ 0.01415204 12.32593159  0.18863584 ...  0.04197879  0.02063302\n",
      "  0.34582246]\n",
      "[1610 1712 1726 ... 1117  292   11]\n",
      "1117\n",
      "[2 2 2 2]\n",
      "5\n"
     ]
    }
   ],
   "source": [
    "print(path_gain[:,0])\n",
    "print(sort_path_gain[:,0])\n",
    "print(sort_path_gain[-3,0])\n",
    "print(path_combi[2])\n",
    "print(Ns)"
   ]
  },
  {
   "cell_type": "code",
   "execution_count": 31,
   "metadata": {
    "scrolled": true
   },
   "outputs": [
    {
     "name": "stdout",
     "output_type": "stream",
     "text": [
      "[1610 1712 1726 ... 1117  292   11]\n",
      "[11 11 11 11]\n",
      "1\n",
      "[ 2 11 11  2]\n",
      "[11 11 11 11]\n",
      "no\n",
      "2\n",
      "[19 11 11 19]\n",
      "[11 11 11 11]\n",
      "no\n",
      "3\n",
      "[ 5 11 11  5]\n",
      "[11 11 11 11]\n",
      "no\n",
      "4\n",
      "[26 11 11 26]\n",
      "[11 11 11 11]\n",
      "no\n",
      "5\n",
      "[29 11 11 29]\n",
      "[11 11 11 11]\n",
      "no\n",
      "6\n",
      "[14 11 11 14]\n",
      "[11 11 11 11]\n",
      "no\n",
      "7\n",
      "[27 11 11 27]\n",
      "[11 11 11 11]\n",
      "no\n",
      "8\n",
      "[28 11 11 28]\n",
      "[11 11 11 11]\n",
      "no\n",
      "9\n",
      "[25 11 11 25]\n",
      "[11 11 11 11]\n",
      "no\n",
      "10\n",
      "[ 6 11 11  6]\n",
      "[11 11 11 11]\n",
      "no\n",
      "11\n",
      "[15 11 11 15]\n",
      "[11 11 11 11]\n",
      "no\n",
      "12\n",
      "[18 11 11 18]\n",
      "[11 11 11 11]\n",
      "no\n",
      "13\n",
      "[23 11 11 23]\n",
      "[11 11 11 11]\n",
      "no\n",
      "14\n",
      "[20 11 11 20]\n",
      "[11 11 11 11]\n",
      "no\n",
      "15\n",
      "[ 0 11 11  0]\n",
      "[11 11 11 11]\n",
      "no\n",
      "16\n",
      "[17 11 11 17]\n",
      "[11 11 11 11]\n",
      "no\n",
      "17\n",
      "[ 1 11 11  1]\n",
      "[11 11 11 11]\n",
      "no\n",
      "18\n",
      "[24 11 11 24]\n",
      "[11 11 11 11]\n",
      "no\n",
      "19\n",
      "[ 9 11 11  9]\n",
      "[11 11 11 11]\n",
      "no\n",
      "20\n",
      "[12 11 11 12]\n",
      "[11 11 11 11]\n",
      "no\n",
      "21\n",
      "[16 11 11 16]\n",
      "[11 11 11 11]\n",
      "no\n",
      "22\n",
      "[ 3 11 11  3]\n",
      "[11 11 11 11]\n",
      "no\n",
      "23\n",
      "[ 4 11 11  4]\n",
      "[11 11 11 11]\n",
      "no\n",
      "24\n",
      "[21 11 11 21]\n",
      "[11 11 11 11]\n",
      "no\n",
      "25\n",
      "[22 11 11 22]\n",
      "[11 11 11 11]\n",
      "no\n",
      "26\n",
      "[10 11 11 10]\n",
      "[11 11 11 11]\n",
      "no\n",
      "27\n",
      "[13 11 11 13]\n",
      "[11 11 11 11]\n",
      "no\n",
      "28\n",
      "[ 7 11 11  7]\n",
      "[11 11 11 11]\n",
      "no\n",
      "29\n",
      "[ 2 10 10  2]\n",
      "[11 11 11 11]\n",
      "yes\n",
      "30\n",
      "[19 10 10 19]\n",
      "[11 11 11 11]\n",
      "[19 10 10 19]\n",
      "[ 2 11 11  2]\n",
      "yes\n",
      "31\n",
      "[1 1 1 1]\n",
      "[11 11 11 11]\n",
      "[1 1 1 1]\n",
      "[ 2 11 11  2]\n",
      "[1 1 1 1]\n",
      "[19 11 11 19]\n",
      "yes\n",
      "32\n",
      "[10 10 10 10]\n",
      "[11 11 11 11]\n",
      "[10 10 10 10]\n",
      "[ 2 11 11  2]\n",
      "[10 10 10 10]\n",
      "[19 11 11 19]\n",
      "[10 10 10 10]\n",
      "[ 5 11 11  5]\n",
      "yes\n",
      "[[11 11 11 11]\n",
      " [ 2 10 10  2]\n",
      " [19 10 10 19]\n",
      " [ 1  1  1  1]\n",
      " [10 10 10 10]]\n"
     ]
    }
   ],
   "source": [
    "print(sort_path_gain[:,0])\n",
    "_chosen_combi_path = np.zeros([Ns,4],dtype=int)\n",
    "_chosen_combi_path[0] = path_combi[sort_path_gain[-1,0]]\n",
    "print(path_combi[sort_path_gain[-1,0]])\n",
    "count = 1\n",
    "index = 1\n",
    "\n",
    "while count<Ns:\n",
    "    score = 0\n",
    "    print(index)\n",
    "    for i in range(count):\n",
    "        print(path_combi[sort_path_gain[-1-index,0]])\n",
    "        print(path_combi[sort_path_gain[-1-i,0]])\n",
    "        if sum(path_combi[sort_path_gain[-1-index,0]] == path_combi[sort_path_gain[-1-i,0]])>0:\n",
    "            score += 1\n",
    "    if score == 0:\n",
    "        _chosen_combi_path[count] = path_combi[sort_path_gain[-1-index,0]]\n",
    "        count += 1\n",
    "        print('yes')\n",
    "    else:\n",
    "        print('no')\n",
    "    index += 1\n",
    "print(_chosen_combi_path)"
   ]
  },
  {
   "cell_type": "code",
   "execution_count": 17,
   "metadata": {},
   "outputs": [
    {
     "name": "stdout",
     "output_type": "stream",
     "text": [
      "[[11 11 11 11]\n",
      " [ 2 10 10  2]\n",
      " [19 10 10 19]\n",
      " [ 1  1  1  1]\n",
      " [10 10 10 10]]\n"
     ]
    }
   ],
   "source": [
    "print(_chosen_combi_path)"
   ]
  },
  {
   "cell_type": "code",
   "execution_count": 18,
   "metadata": {},
   "outputs": [],
   "source": [
    "SNR_dB = np.arange(-35,10,5)\n",
    "SNR = 10**(SNR_dB/10)\n",
    "smax = SNR.shape[0]\n",
    "R_cross = np.zeros([smax, realization],dtype=complex)\n",
    "\n",
    "\n",
    "for reali in range(realization):\n",
    "    _chosen_combi_path = np.zeros([Ns,4],dtype=int)\n",
    "    _chosen_combi_path[0] = path_combi[sort_path_gain[-1,reali]]\n",
    "    count = 1\n",
    "    index = 1\n",
    "    while count<Ns:\n",
    "        score = 0\n",
    "        for i in range(count):\n",
    "            if sum(path_combi[sort_path_gain[-1-index,reali]] == path_combi[sort_path_gain[-1-i,reali]])>0:\n",
    "                score += 1\n",
    "        if score == 0:\n",
    "            _chosen_combi_path[count] = path_combi[sort_path_gain[-1-index,0]]\n",
    "            count += 1\n",
    "        index += 1\n",
    "        \n",
    "    W_cross = np.vstack((Ar[:,[_chosen_combi_path[0,1]],reali],Ar[:,[_chosen_combi_path[0,3]],reali]))\n",
    "    F_cross = np.vstack((At[:,[_chosen_combi_path[0,0]],reali],At[:,[_chosen_combi_path[0,2]],reali]))\n",
    "    for i in range(Ns-1):\n",
    "        W_cross = np.hstack((W_cross,np.vstack((Ar[:,[_chosen_combi_path[i+1,1]],reali],Ar[:,[_chosen_combi_path[i+1,3]],reali]))))\n",
    "        F_cross = np.hstack((F_cross,np.vstack((At[:,[_chosen_combi_path[i+1,0]],reali],At[:,[_chosen_combi_path[i+1,2]],reali]))))\n",
    "        \n",
    "    FBB_cross = np.sqrt(Ns)*np.eye(Ns)/np.linalg.norm(F_cross@np.eye(Ns),'fro')\n",
    "    WBB_cross = np.sqrt(Ns)*np.eye(Ns)/np.linalg.norm(W_cross@np.eye(Ns),'fro')\n",
    "    for s in range(smax):\n",
    "        R_cross[s,reali] = np.log2(np.linalg.det(np.eye(Ns)+(SNR[s]/Ns)*np.linalg.pinv(W_cross@WBB_cross)@H[:,:,reali]@F_cross@FBB_cross@FBB_cross.conj().T@F_cross.conj().T@H[:,:,reali].conj().T@W_cross@WBB_cross))"
   ]
  },
  {
   "cell_type": "code",
   "execution_count": 28,
   "metadata": {},
   "outputs": [
    {
     "data": {
      "text/plain": [
       "array([[22,  2,  2, 22],\n",
       "       [ 2, 11, 11,  2],\n",
       "       [19, 11, 11, 19],\n",
       "       [26, 11, 11, 26],\n",
       "       [17, 10, 10, 17]])"
      ]
     },
     "execution_count": 28,
     "metadata": {},
     "output_type": "execute_result"
    }
   ],
   "source": [
    "_chosen_combi_path"
   ]
  },
  {
   "cell_type": "code",
   "execution_count": 30,
   "metadata": {},
   "outputs": [
    {
     "data": {
      "text/plain": [
       "(1770, 1000)"
      ]
     },
     "execution_count": 30,
     "metadata": {},
     "output_type": "execute_result"
    }
   ],
   "source": [
    "path_gain.shape"
   ]
  },
  {
   "cell_type": "code",
   "execution_count": 19,
   "metadata": {},
   "outputs": [
    {
     "data": {
      "image/png": "[encoded data removed]",
      "text/plain": [
       "<matplotlib.figure.Figure at 0x7f592a2f3dd8>"
      ]
     },
     "metadata": {},
     "output_type": "display_data"
    }
   ],
   "source": [
    "# plt.plot(SNR_dB, (np.sum(R,axis=1).real)/realization, label='OMP')\n",
    "plt.plot(SNR_dB, (np.sum(R_o,axis=1).real)/realization, label='Optimal')\n",
    "plt.plot(SNR_dB, (np.sum(R,axis=1).real)/realization, label='OMP')\n",
    "plt.plot(SNR_dB, (np.sum(R_cross,axis=1).real)/realization, label='joint polarization beam steering')\n",
    "\n",
    "plt.legend(loc='upper left')\n",
    "plt.xlabel('SNR(dB)')\n",
    "plt.ylabel('Spectral Efficiency (bits/s/Hz)')\n",
    "plt.grid()\n",
    "plt.show()"
   ]
  },
  {
   "cell_type": "code",
   "execution_count": 20,
   "metadata": {},
   "outputs": [],
   "source": [
    "FBB_cross = np.sqrt(Ns)*np.eye(Ns)/np.linalg.norm(F_cross@np.eye(Ns),'fro')"
   ]
  },
  {
   "cell_type": "code",
   "execution_count": 21,
   "metadata": {},
   "outputs": [
    {
     "name": "stdout",
     "output_type": "stream",
     "text": [
      "Ns 5    Frobenius norm FRF*FBB= 5.000000000000001\n"
     ]
    }
   ],
   "source": [
    "x = np.linalg.norm(F_cross@FBB_cross,'fro')\n",
    "print(\"Ns\", Ns , \"   Frobenius norm FRF*FBB=\", x**2)"
   ]
  }
 ],
 "metadata": {
  "kernelspec": {
   "display_name": "Python 3",
   "language": "python",
   "name": "python3"
  },
  "language_info": {
   "codemirror_mode": {
    "name": "ipython",
    "version": 3
   },
   "file_extension": ".py",
   "mimetype": "text/x-python",
   "name": "python",
   "nbconvert_exporter": "python",
   "pygments_lexer": "ipython3",
   "version": "3.5.2"
  }
 },
 "nbformat": 4,
 "nbformat_minor": 2
}
