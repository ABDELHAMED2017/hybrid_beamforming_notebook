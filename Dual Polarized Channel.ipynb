{
 "cells": [
  {
   "cell_type": "code",
   "execution_count": 86,
   "metadata": {
    "collapsed": true
   },
   "outputs": [],
   "source": [
    "# import necessary module\n",
    "%matplotlib inline\n",
    "import numpy as np\n",
    "import matplotlib.pyplot as plt\n",
    "import matplotlib.patches as mpatches\n",
    "\n",
    "import seaborn as sns\n",
    "import scipy\n",
    "from array_response import *\n",
    "import itertools \n"
   ]
  },
  {
   "cell_type": "markdown",
   "metadata": {},
   "source": [
    "### Parameters declaration\n",
    "\n",
    "Declare parameters needed for channel realization"
   ]
  },
  {
   "cell_type": "code",
   "execution_count": 2,
   "metadata": {
    "collapsed": true
   },
   "outputs": [],
   "source": [
    "Ns = 1 # number of streams\n",
    "\n",
    "Nc = 6 # number of cluster\n",
    "Nray = 1 # number of rays in each cluster\n",
    "\n",
    "Nt = 64 # number of transmit antennas\n",
    "Nr = 16 # number of receive antennas\n",
    "\n",
    "angle_sigma = 10/180*np.pi # standard deviation of the angles in azimuth and elevation both of Rx and Tx\n",
    "\n",
    "gamma = np.sqrt((Nt*Nr)/(Nc*Nray))\n",
    "realization = 1000 # equivalent to number of taking sample\n",
    "count = 0\n",
    "\n",
    "eps = 0.1 # 20dB isolation\n",
    "sigma = np.sqrt(8/(1+eps**2)) # according to the normalization condition of H\n"
   ]
  },
  {
   "cell_type": "markdown",
   "metadata": {},
   "source": [
    "### Channel Realization\n",
    "\n",
    "Realize channel H for Dual-Polarized antenna array"
   ]
  },
  {
   "cell_type": "code",
   "execution_count": 3,
   "metadata": {
    "collapsed": true
   },
   "outputs": [],
   "source": [
    "H_pol = np.zeros((2*Nr,2*Nt,realization),dtype=complex)\n",
    "At = np.zeros((Nt,Nc*Nray,realization),dtype=complex)\n",
    "Ar = np.zeros((Nr,Nc*Nray,realization),dtype=complex)\n",
    "alpha_hh = np.zeros((Nc*Nray,realization),dtype=complex)\n",
    "alpha_hv = np.zeros((Nc*Nray,realization),dtype=complex)\n",
    "alpha_vh = np.zeros((Nc*Nray,realization),dtype=complex)\n",
    "alpha_vv = np.zeros((Nc*Nray,realization),dtype=complex)\n",
    "\n",
    "AoD = np.zeros((2,Nc*Nray),dtype=complex)\n",
    "AoA = np.zeros((2,Nc*Nray),dtype=complex)\n",
    "\n",
    "H = np.zeros((2*Nr,2*Nt,realization),dtype=complex)\n",
    "azi_rot = np.random.uniform(0,2*np.pi,realization)\n",
    "ele_rot = np.random.uniform(0,np.pi/2,realization) # Why PI/2 ??\n",
    "R = np.array([[np.cos(ele_rot)*np.cos(azi_rot),np.sin(ele_rot)],[-np.sin(ele_rot)*np.cos(azi_rot),np.cos(ele_rot)]]) # rotation matrix\n",
    "\n",
    "for reali in range(realization):\n",
    "    for c in range(1,Nc+1):\n",
    "        AoD_azi_m = np.random.uniform(0,2*np.pi,1) # Mean Angle of Departure _ azimuth\n",
    "        AoD_ele_m = np.random.uniform(0,np.pi,1) # Mean Angle of Departure _ elevation\n",
    "        AoA_azi_m = np.random.uniform(0,2*np.pi,1) # Mean Angle of Arrival_ azimuth\n",
    "        AoA_ele_m = np.random.uniform(0,np.pi,1) # Mean Angle of Arrival_ elevation\n",
    "        AoD[0,(c-1)*Nray:Nray*c] = np.random.laplace(AoD_azi_m, angle_sigma, (1,Nray))\n",
    "        AoD[1,(c-1)*Nray:Nray*c] = np.random.laplace(AoD_ele_m, angle_sigma, (1,Nray))\n",
    "        AoA[0,(c-1)*Nray:Nray*c] = np.random.laplace(AoA_azi_m, angle_sigma, (1,Nray))\n",
    "        AoA[1,(c-1)*Nray:Nray*c] = np.random.laplace(AoA_ele_m, angle_sigma, (1,Nray))\n",
    "    for j in range(Nc*Nray):\n",
    "        At[:,j,reali] = array_response(AoD[0,j],AoD[1,j],Nt) # UPA array response\n",
    "        Ar[:,j,reali] = array_response(AoA[0,j],AoA[1,j],Nr)\n",
    "        var_hh = ((sigma**2)*(np.cos(AoD[0,j])**2)*(np.cos(AoA[0,j])**2)).real\n",
    "        var_hv = ((eps**2)*(sigma**2)*(np.cos(AoD[1,j])**2)*(np.cos(AoA[0,j])**2)).real\n",
    "        var_vh = ((eps**2)*(sigma**2)*(np.cos(AoD[0,j])**2)*(np.cos(AoA[1,j])**2)).real\n",
    "        var_vv = ((sigma**2)*(np.cos(AoD[1,j])**2)*(np.cos(AoA[1,j])**2)).real\n",
    "        alpha_hh[j,reali] = np.random.normal(0, np.sqrt(var_hh/2)) + 1j*np.random.normal(0, np.sqrt(var_hh/2))\n",
    "        alpha_hv[j,reali] = np.random.normal(0, np.sqrt(var_hv/2)) + 1j*np.random.normal(0, np.sqrt(var_hv/2))\n",
    "        alpha_vh[j,reali] = np.random.normal(0, np.sqrt(var_vh/2)) + 1j*np.random.normal(0, np.sqrt(var_vh/2))\n",
    "        alpha_vv[j,reali] = np.random.normal(0, np.sqrt(var_vv/2)) + 1j*np.random.normal(0, np.sqrt(var_vv/2))\n",
    "        alpha = np.vstack((np.hstack((alpha_hh[j,reali],alpha_hv[j,reali])),np.hstack((alpha_vh[j,reali],alpha_vv[j,reali]))))\n",
    "        H_pol[:,:,reali] = H_pol[:,:,reali] + np.kron(alpha,Ar[:,[j],reali]@At[:,[j],reali].conj().T)\n",
    "    H_pol[:,:,reali] = gamma* H_pol[:,:,reali]\n",
    "    H[:,:,reali] = (np.kron(R[:,:,reali],np.eye(Nr)))@H_pol[:,:,reali]\n",
    "    H[:,:,reali] = np.sqrt(4/3)* H[:,:,reali]\n"
   ]
  },
  {
   "cell_type": "markdown",
   "metadata": {},
   "source": [
    "### Check normalized condition"
   ]
  },
  {
   "cell_type": "code",
   "execution_count": 4,
   "metadata": {},
   "outputs": [
    {
     "name": "stdout",
     "output_type": "stream",
     "text": [
      "4*Nt*Nr = 4096    Frobenius norm H pol= 4065.79449664\n"
     ]
    }
   ],
   "source": [
    "channel_fro_1 = np.zeros(realization)\n",
    "for reali in range(realization):\n",
    "    channel_fro_1[reali] = np.linalg.norm(H_pol[:,:,reali],'fro')\n",
    "print(\"4*Nt*Nr =\", 4*Nt*Nr , \"   Frobenius norm H pol=\", np.mean(channel_fro_1**2))"
   ]
  },
  {
   "cell_type": "code",
   "execution_count": 5,
   "metadata": {},
   "outputs": [
    {
     "name": "stdout",
     "output_type": "stream",
     "text": [
      "4*Nt*Nr = 4096    Frobenius norm = 4079.07288851\n"
     ]
    }
   ],
   "source": [
    "channel_fro_2 = np.zeros(realization)\n",
    "for reali in range(realization):\n",
    "    channel_fro_2[reali] = np.linalg.norm(H[:,:,reali],'fro')\n",
    "print(\"4*Nt*Nr =\", 4*Nt*Nr , \"   Frobenius norm =\", np.mean(channel_fro_2**2))"
   ]
  },
  {
   "cell_type": "markdown",
   "metadata": {},
   "source": [
    "### Joint Horizontal/Vertical Beamformer Selection"
   ]
  },
  {
   "cell_type": "markdown",
   "metadata": {},
   "source": [
    "| hori_tx | hori_rx | verti_tx | verti_rx |\n",
    "|:--------|--------|--------:|:---------:|\n"
   ]
  },
  {
   "cell_type": "code",
   "execution_count": 6,
   "metadata": {
    "scrolled": true
   },
   "outputs": [
    {
     "name": "stdout",
     "output_type": "stream",
     "text": [
      "[0 1 2 3 4 5]\n",
      "(66, 4)\n"
     ]
    }
   ],
   "source": [
    "cluster = np.arange(Nc)\n",
    "print(cluster)\n",
    "c = list(itertools.combinations(cluster, 2))\n",
    "num_path = (2*Nc-1)*Nc\n",
    "path_combi = np.zeros((num_path,4),dtype=int)\n",
    "\n",
    "print(path_combi.shape)\n",
    "path_combi[0:Nc,:]=np.arange(Nc).reshape(Nc,1).repeat(4,axis=1)\n",
    "\n",
    "count = 0\n",
    "for i in range(int(Nc*(Nc-1)/2)):\n",
    "    path_combi[Nc+4*i,:] = np.array([c[count][0],c[count][0],c[count][1],c[count][1]])\n",
    "    path_combi[Nc+4*i+1,:] = np.array([c[count][1],c[count][1],c[count][0],c[count][0]])\n",
    "    path_combi[Nc+4*i+2,:] = np.array([c[count][0],c[count][1],c[count][1],c[count][0]])\n",
    "    path_combi[Nc+4*i+3,:] = np.array([c[count][1],c[count][0],c[count][0],c[count][1]])\n",
    "    count = count+1\n",
    "# print(path_combi[0:10,:])\n",
    "path_gain = np.zeros((num_path,realization)) # 2 to save the position and maximum value\n",
    "for reali in range(realization):\n",
    "    for combi in range(num_path):\n",
    "        path_gain[combi,reali] =\\\n",
    "        (np.abs\\\n",
    "         ((np.cos(ele_rot[reali])*np.cos(azi_rot[reali])*alpha_hh[path_combi[combi,0],reali]+np.sin(ele_rot[reali])*alpha_vh[path_combi[combi,0],reali])*(path_combi[combi,0]==path_combi[combi,1])+\\\n",
    "         (np.cos(ele_rot[reali])*np.cos(azi_rot[reali])*alpha_hv[path_combi[combi,2],reali]+np.sin(ele_rot[reali])*alpha_vv[path_combi[combi,2],reali])*(path_combi[combi,2]==path_combi[combi,1])+\\\n",
    "         (-np.sin(ele_rot[reali])*np.cos(azi_rot[reali])*alpha_hh[path_combi[combi,0],reali]+np.cos(ele_rot[reali])*alpha_vh[path_combi[combi,0],reali])*(path_combi[combi,0]==path_combi[combi,3])+\\\n",
    "         (-np.sin(ele_rot[reali])*np.cos(azi_rot[reali])*alpha_hv[path_combi[combi,2],reali]+np.sin(ele_rot[reali])*alpha_vv[path_combi[combi,2],reali])*(path_combi[combi,2]==path_combi[combi,3])\n",
    "         ))**2\n"
   ]
  },
  {
   "cell_type": "code",
   "execution_count": 21,
   "metadata": {},
   "outputs": [
    {
     "data": {
      "text/plain": [
       "(6, 1000)"
      ]
     },
     "execution_count": 21,
     "metadata": {},
     "output_type": "execute_result"
    }
   ],
   "source": [
    "alpha_hh.shape"
   ]
  },
  {
   "cell_type": "code",
   "execution_count": 8,
   "metadata": {
    "collapsed": true
   },
   "outputs": [],
   "source": [
    "index = np.zeros(realization,dtype=int)\n",
    "for test in range(realization):\n",
    "    index[test] = np.argmax(path_gain[:,test])\n",
    "    #print(path_gain[index,test])"
   ]
  },
  {
   "cell_type": "code",
   "execution_count": 9,
   "metadata": {
    "scrolled": true
   },
   "outputs": [
    {
     "name": "stdout",
     "output_type": "stream",
     "text": [
      "[[0 0 0 0]\n",
      " [1 1 1 1]\n",
      " [2 2 2 2]\n",
      " [3 3 3 3]\n",
      " [4 4 4 4]\n",
      " [5 5 5 5]\n",
      " [0 0 1 1]\n",
      " [1 1 0 0]\n",
      " [0 1 1 0]\n",
      " [1 0 0 1]\n",
      " [0 0 2 2]\n",
      " [2 2 0 0]\n",
      " [0 2 2 0]\n",
      " [2 0 0 2]\n",
      " [0 0 3 3]\n",
      " [3 3 0 0]\n",
      " [0 3 3 0]\n",
      " [3 0 0 3]\n",
      " [0 0 4 4]\n",
      " [4 4 0 0]\n",
      " [0 4 4 0]\n",
      " [4 0 0 4]\n",
      " [0 0 5 5]\n",
      " [5 5 0 0]\n",
      " [0 5 5 0]\n",
      " [5 0 0 5]\n",
      " [1 1 2 2]\n",
      " [2 2 1 1]\n",
      " [1 2 2 1]\n",
      " [2 1 1 2]\n",
      " [1 1 3 3]\n",
      " [3 3 1 1]\n",
      " [1 3 3 1]\n",
      " [3 1 1 3]\n",
      " [1 1 4 4]\n",
      " [4 4 1 1]\n",
      " [1 4 4 1]\n",
      " [4 1 1 4]\n",
      " [1 1 5 5]\n",
      " [5 5 1 1]\n",
      " [1 5 5 1]\n",
      " [5 1 1 5]\n",
      " [2 2 3 3]\n",
      " [3 3 2 2]\n",
      " [2 3 3 2]\n",
      " [3 2 2 3]\n",
      " [2 2 4 4]\n",
      " [4 4 2 2]\n",
      " [2 4 4 2]\n",
      " [4 2 2 4]\n",
      " [2 2 5 5]\n",
      " [5 5 2 2]\n",
      " [2 5 5 2]\n",
      " [5 2 2 5]\n",
      " [3 3 4 4]\n",
      " [4 4 3 3]\n",
      " [3 4 4 3]\n",
      " [4 3 3 4]\n",
      " [3 3 5 5]\n",
      " [5 5 3 3]\n",
      " [3 5 5 3]\n",
      " [5 3 3 5]\n",
      " [4 4 5 5]\n",
      " [5 5 4 4]\n",
      " [4 5 5 4]\n",
      " [5 4 4 5]]\n"
     ]
    }
   ],
   "source": [
    "print(path_combi)"
   ]
  },
  {
   "cell_type": "code",
   "execution_count": 10,
   "metadata": {
    "scrolled": true
   },
   "outputs": [
    {
     "data": {
      "text/plain": [
       "array([31,  3,  0, 33, 57,  1,  5, 42,  4, 31,  5, 50, 46,  5,  4, 39,  4,\n",
       "        4, 26,  2, 38, 19,  2,  3,  2, 26,  3,  1,  1,  0, 65,  1,  5, 16,\n",
       "       62,  5, 38, 10,  1,  0,  4,  3,  1,  4,  5, 44,  3,  2,  3,  1,  1,\n",
       "        4,  5,  7,  5,  4,  0,  4,  1,  0, 62, 15, 19, 18, 22,  5,  0,  0,\n",
       "        2,  3,  3,  3,  4, 42, 54,  2, 63,  3,  2,  5,  5,  1,  1,  2,  2,\n",
       "       14,  4, 14, 17, 50, 64, 55, 11,  0,  3, 29,  5,  5,  2,  5,  2,  2,\n",
       "        5,  4, 59,  4, 47,  1,  2, 62,  0, 55,  4,  1,  1,  4,  4,  3,  0,\n",
       "        5,  5,  2,  2,  1,  0, 22,  2,  4, 22,  1, 32,  2,  2,  5,  4,  2,\n",
       "        7,  5,  0,  4, 51,  4,  5, 42, 54,  2,  5, 29,  1, 23,  0, 26, 17,\n",
       "        6,  3,  4,  0,  1, 13,  0,  0,  0,  0,  1,  0,  1,  3,  2,  0, 38,\n",
       "        5, 42,  1,  2,  1,  5, 18, 55, 38, 23,  0,  0, 35, 46,  4,  3, 37,\n",
       "        4,  3,  4,  1,  2,  4,  3,  4,  0,  0, 26,  4, 47,  5,  0,  5,  5,\n",
       "        0, 43,  1, 58,  5,  3,  4,  2,  3,  3, 51,  4,  3,  4,  2,  5,  1,\n",
       "       42,  0,  0, 39, 63,  4,  2, 44,  5,  3,  3,  3,  3,  4, 65, 51,  1,\n",
       "       43,  3,  2,  2, 46,  0,  0,  3, 38,  2,  0, 39,  1,  1,  3,  2, 19,\n",
       "        3,  5, 44,  3,  1,  3, 51, 25,  5,  4,  5, 55,  3, 43,  0, 46,  4,\n",
       "        1, 26, 31,  0,  2, 55,  7,  4,  0,  4,  6,  5, 32, 28,  3, 58,  0,\n",
       "        0,  1,  5,  0,  2,  5, 62,  3, 43,  2,  2,  3,  5, 58,  5,  2,  1,\n",
       "       35, 61, 52, 30,  4,  1,  0,  3, 44,  2,  2,  0,  0, 51,  1,  1,  5,\n",
       "        2,  5, 27,  4,  4,  2,  3,  1,  4, 44,  0,  4,  3,  3,  5, 58,  0,\n",
       "        3, 23,  5,  2,  1,  4,  1,  0, 59,  3,  4,  6,  1, 37,  3, 47, 45,\n",
       "        0,  1, 27, 15, 32, 59, 59,  0, 47,  5,  3, 59, 54, 35,  2, 36, 63,\n",
       "       65, 54,  1, 42,  3, 32,  4,  4,  1,  3, 27,  3,  0, 54,  2, 63,  1,\n",
       "       55, 19,  5,  2,  3,  1, 41,  2, 14, 58,  0,  5,  4,  4,  3, 62, 58,\n",
       "        1,  2, 39,  0, 57,  2, 46,  3,  3,  5,  1,  4, 17,  5,  3,  3, 47,\n",
       "        5, 62, 59, 31,  2,  1,  5,  2,  0, 21, 14, 27, 29,  1, 15, 43, 23,\n",
       "        0,  0,  3,  3,  0, 24,  2,  5,  4,  3,  1,  4,  3, 43, 33,  5,  2,\n",
       "        1, 44, 33,  2,  6, 62,  2, 58, 26,  5,  2, 23,  4,  3,  0,  5,  4,\n",
       "        0,  5,  3, 22,  1, 23,  0,  1, 58,  5,  3,  1,  2,  1,  1, 27,  5,\n",
       "       24,  1,  1,  5,  2, 41, 43,  4,  4,  0,  5, 63, 32,  4, 48,  3,  5,\n",
       "       50,  0, 36,  4,  3,  2,  3,  1,  0,  3,  4,  1,  2,  3,  2, 42,  2,\n",
       "        1, 17,  5, 59,  5,  0,  3,  1, 35,  3,  1,  3,  5, 19,  4,  5,  0,\n",
       "        1, 39,  1,  2, 31,  3,  3, 38,  2,  1, 54,  3,  2,  2, 54,  2, 36,\n",
       "        0, 11, 42,  3, 60,  1,  5,  5,  0,  4, 19,  0,  0,  4,  0, 46,  1,\n",
       "       53,  2, 39,  3,  3, 39, 47,  4,  4,  4,  3,  2,  5, 15,  2,  0, 31,\n",
       "        3,  1,  2,  2,  4,  2,  1,  5,  3,  4,  4,  0,  0, 30,  1, 63, 55,\n",
       "       23,  4, 18,  2,  4,  4,  5, 57, 43,  5,  2, 42,  4, 14,  2, 43, 26,\n",
       "        2,  2,  1,  2,  5,  3, 58,  0,  3, 54,  4,  5,  4,  5, 43, 50,  0,\n",
       "       23,  3,  1, 10, 46,  5,  0,  1,  2, 46, 43,  4,  5,  1, 18,  5, 60,\n",
       "       46, 41,  5, 60,  0,  5,  1,  2, 61,  1,  2,  5, 35,  1,  3,  4,  3,\n",
       "       63,  4, 39,  3, 25,  2,  1,  0,  1,  6,  3,  3,  1,  4,  0,  3,  5,\n",
       "        2,  2,  2, 42,  4, 35,  0,  5,  0,  2,  3, 46,  4,  6,  5,  1,  1,\n",
       "        4,  4,  1,  4, 62,  2,  4,  5, 22, 11, 41, 54,  3,  0,  3,  1,  3,\n",
       "        5,  1, 58,  1,  0,  2,  3,  0, 43, 58,  3,  6,  1,  4,  2,  4, 48,\n",
       "        1,  2, 51,  3, 27,  2,  1,  0,  4,  5, 30, 32,  4,  1,  0,  4,  1,\n",
       "        1,  3, 51, 31, 63,  1,  0, 35,  3,  1,  4,  4,  4,  4,  4,  3, 65,\n",
       "        3,  3,  4,  2,  0,  5, 42,  0,  4, 39, 47, 27,  2,  2,  2, 63, 14,\n",
       "        5,  5,  1,  4,  0,  1,  4,  3,  3, 23,  4, 29,  5, 50,  2, 11,  0,\n",
       "        3, 10,  2,  0, 24,  2,  3,  4,  4,  0,  3,  1,  2,  5, 52,  3,  2,\n",
       "        3,  2, 28,  1,  4, 14,  3, 14,  2,  0, 47, 43, 22,  0,  3, 19, 34,\n",
       "        2, 43,  0,  6,  2, 54,  5,  2, 58,  3,  0,  3, 20, 30,  5, 29, 61,\n",
       "        5,  3, 30, 39,  1,  3,  2,  0,  2,  1,  0,  5, 19,  0,  2,  3,  2,\n",
       "       57, 63, 25,  3,  3,  5,  3,  4,  3, 54,  0,  0,  0,  0,  3,  3, 33,\n",
       "        0, 46,  0, 40,  5,  1,  0,  2,  3,  0,  5,  1, 59,  0, 23, 44, 46,\n",
       "        2,  3,  5,  5,  0,  9,  2,  4,  5,  5,  1,  4,  3,  4,  0, 25,  3,\n",
       "        5,  5, 32,  1,  5,  4,  5, 45,  4,  0,  5,  5,  2,  0, 18,  4,  4,\n",
       "       63,  3, 36, 22,  3, 31,  3,  6,  3,  0,  5,  2,  2,  0,  3,  2, 58,\n",
       "        1, 38,  2,  1, 54,  1,  0,  5,  1,  3,  3,  4,  5,  3, 11,  5,  1,\n",
       "        0,  3, 14, 23,  1,  2,  4,  0,  0, 46, 31,  1, 42,  3])"
      ]
     },
     "execution_count": 10,
     "metadata": {},
     "output_type": "execute_result"
    }
   ],
   "source": [
    "index"
   ]
  },
  {
   "cell_type": "code",
   "execution_count": 11,
   "metadata": {},
   "outputs": [
    {
     "data": {
      "text/plain": [
       "array([  2.42309159e-01,   4.24720857e-01,   4.27322041e-01,\n",
       "         9.26233343e+00,   8.35368103e-03,   3.05566542e+00,\n",
       "         3.92910800e-02,   5.53132748e-01,   1.14434265e-01,\n",
       "         3.68283220e-01,   7.70450409e-02,   3.78532312e-01,\n",
       "         1.99557862e-01,   3.60275528e-02,   1.36074114e+00,\n",
       "         5.59437456e-02,   1.13147677e+00,   4.99079666e-01,\n",
       "         1.39188470e-02,   1.46205331e-01,   6.30590731e-02,\n",
       "         1.39470469e-01,   6.34270158e-01,   1.25058835e-01,\n",
       "         4.77582313e-01,   1.15590106e-01,   9.80582955e-02,\n",
       "         1.96694434e-02,   1.05604780e+00,   3.24199719e-01,\n",
       "         2.87405135e+00,   6.22869634e-02,   7.32166053e-01,\n",
       "         3.12644156e-01,   3.16832272e-01,   9.51853236e-03,\n",
       "         7.16378679e-01,   9.66794816e-03,   1.62871758e+00,\n",
       "         1.66347967e-02,   1.57106454e-01,   1.57222906e-02,\n",
       "         1.65467572e+00,   5.27687713e-02,   1.15998200e+00,\n",
       "         1.09807110e-01,   5.81827514e-02,   5.85251798e-02,\n",
       "         2.38262146e-01,   6.89224198e-02,   1.28751901e+00,\n",
       "         6.49167297e-02,   2.00779147e-01,   5.92605899e-02,\n",
       "         4.08709060e-02,   1.42002053e+00,   3.86695095e-01,\n",
       "         1.45082896e+00,   5.97036207e-01,   1.38618057e+00,\n",
       "         1.46754431e+00,   1.49574644e+00,   8.04497427e-01,\n",
       "         3.57477309e-03,   8.28092129e-01,   6.29606285e-03])"
      ]
     },
     "execution_count": 11,
     "metadata": {},
     "output_type": "execute_result"
    }
   ],
   "source": [
    "path_gain[:,1]"
   ]
  },
  {
   "cell_type": "code",
   "execution_count": 50,
   "metadata": {
    "collapsed": true
   },
   "outputs": [],
   "source": [
    "cross_index =  []\n",
    "count = 7\n",
    "while (count<num_path):\n",
    "    cross_index.extend([count+1,count+2])\n",
    "    count = count + 4\n",
    "cross_index = np.array(cross_index)"
   ]
  },
  {
   "cell_type": "code",
   "execution_count": 53,
   "metadata": {
    "scrolled": true
   },
   "outputs": [
    {
     "name": "stdout",
     "output_type": "stream",
     "text": [
      "[ 8  9 12 13 16 17 20 21 24 25 28 29 32 33 36 37 40 41 44 45 48 49 52 53 56\n",
      " 57 60 61 64 65]\n",
      "(30,)\n",
      "[3 3 3 3]\n"
     ]
    }
   ],
   "source": [
    "print(cross_index)\n",
    "print(cross_index.shape)\n",
    "print(path_combi[index[1]])"
   ]
  },
  {
   "cell_type": "code",
   "execution_count": 15,
   "metadata": {},
   "outputs": [
    {
     "name": "stdout",
     "output_type": "stream",
     "text": [
      "74\n"
     ]
    }
   ],
   "source": [
    "cross_index_in = np.isin(index, cross_index)\n",
    "# print(cross_index_in)\n",
    "print(sum(cross_index_in))"
   ]
  },
  {
   "cell_type": "code",
   "execution_count": 16,
   "metadata": {},
   "outputs": [
    {
     "name": "stdout",
     "output_type": "stream",
     "text": [
      "309\n"
     ]
    }
   ],
   "source": [
    "diff_clus_index = np.arange(6,66)\n",
    "diff_clus_index_in = np.isin(index, diff_clus_index)\n",
    "# print(diff_clus_index_in)\n",
    "print(sum(diff_clus_index_in))"
   ]
  },
  {
   "cell_type": "code",
   "execution_count": 92,
   "metadata": {},
   "outputs": [
    {
     "data": {
      "image/png": "[encoded data removed]",
      "text/plain": [
       "<matplotlib.figure.Figure at 0x26a8f5915f8>"
      ]
     },
     "metadata": {},
     "output_type": "display_data"
    }
   ],
   "source": [
    "fig = plt.figure(figsize=(10,4), dpi=200)\n",
    "n, bins, patches = plt.hist(index, bins=range(0,67),facecolor='green', alpha=0.75,edgecolor='black')\n",
    "# print(n.shape)\n",
    "# print(bins.shape)\n",
    "# print(n)\n",
    "# print(bins)\n",
    "for i in range(0,6):\n",
    "    patches[i].set_fc('r')\n",
    "for i in cross_index:\n",
    "    patches[i].set_fc('b')\n",
    "    \n",
    "cluster_same = mpatches.Patch(color='red', label='Same Cluster')\n",
    "cross_polar = mpatches.Patch(color='blue', label='Cross polar steering')\n",
    "diff_clus_same_polar = mpatches.Patch(color='green', label='Diff Cluster - Same Polar')\n",
    "\n",
    "plt.legend(handles=[cluster_same,cross_polar,diff_clus_same_polar])\n",
    "\n",
    "plt.show()\n"
   ]
  },
  {
   "cell_type": "code",
   "execution_count": 23,
   "metadata": {},
   "outputs": [
    {
     "name": "stdout",
     "output_type": "stream",
     "text": [
      "{0: 114, 1: 111, 2: 116, 3: 131, 4: 110, 5: 109, 6: 9, 7: 3, 9: 1, 10: 3, 11: 5, 13: 1, 14: 9, 15: 4, 16: 1, 17: 4, 18: 5, 19: 8, 20: 1, 21: 1, 22: 7, 23: 11, 24: 3, 25: 4, 26: 7, 27: 7, 28: 2, 29: 5, 30: 5, 31: 9, 32: 7, 33: 4, 34: 1, 35: 7, 36: 4, 37: 2, 38: 7, 39: 10, 40: 1, 41: 4, 42: 12, 43: 14, 44: 7, 45: 2, 46: 13, 47: 8, 48: 2, 50: 5, 51: 7, 52: 2, 53: 1, 54: 12, 55: 7, 57: 4, 58: 13, 59: 8, 60: 3, 61: 3, 62: 8, 63: 11, 64: 1, 65: 4}\n"
     ]
    }
   ],
   "source": [
    "unique, counts = np.unique(index, return_counts=True)\n",
    "print(dict(zip(unique, counts)))\n"
   ]
  },
  {
   "cell_type": "markdown",
   "metadata": {},
   "source": [
    "### Independent Beam Steering Horizontal | Vertical "
   ]
  },
  {
   "cell_type": "code",
   "execution_count": 17,
   "metadata": {
    "collapsed": true
   },
   "outputs": [],
   "source": [
    "steer_path = np.zeros((2,realization),dtype=int)\n",
    "for reali in range(realization):\n",
    "    steer_path[0,reali] = np.argmax((np.abs(alpha_hh[:,reali]))**2)\n",
    "    steer_path[1,reali] = np.argmax((np.abs(alpha_vv[:,reali]))**2)\n",
    "    "
   ]
  },
  {
   "cell_type": "code",
   "execution_count": 18,
   "metadata": {},
   "outputs": [
    {
     "data": {
      "text/plain": [
       "array([0, 0])"
      ]
     },
     "execution_count": 18,
     "metadata": {},
     "output_type": "execute_result"
    }
   ],
   "source": [
    "steer_path[:,2]"
   ]
  },
  {
   "cell_type": "markdown",
   "metadata": {},
   "source": [
    "### Plot Spectral Efficiency"
   ]
  },
  {
   "cell_type": "code",
   "execution_count": 19,
   "metadata": {
    "collapsed": true
   },
   "outputs": [],
   "source": [
    "SNR_dB = np.arange(-35,10,5)\n",
    "SNR = 10**(SNR_dB/10)\n",
    "smax = SNR.shape[0]\n",
    "R_cross = np.zeros([smax, realization],dtype=complex)\n",
    "R_steer = np.zeros([smax, realization],dtype=complex)\n",
    "\n",
    "for reali in range(realization):\n",
    "    _chosen_combi_path = path_combi[index[reali]]\n",
    "    _chosen_steer_path = steer_path[:,reali]\n",
    "    \n",
    "    W_cross = np.vstack((Ar[:,[_chosen_combi_path[1]],reali],Ar[:,[_chosen_combi_path[3]],reali]))\n",
    "    F_cross = np.vstack((At[:,[_chosen_combi_path[0]],reali],At[:,[_chosen_combi_path[2]],reali]))\n",
    "    \n",
    "    W_steer = np.vstack((Ar[:,[_chosen_steer_path[0]],reali],Ar[:,[_chosen_steer_path[1]],reali]))\n",
    "    F_steer = np.vstack((At[:,[_chosen_steer_path[0]],reali],At[:,[_chosen_steer_path[1]],reali]))\n",
    "    \n",
    "    for s in range(smax):\n",
    "        R_cross[s,reali] = np.log2(np.linalg.det(np.eye(Ns)+SNR[s]/Ns*np.linalg.pinv(W_cross)@H[:,:,reali]@F_cross@F_cross.conj().T@H[:,:,reali].conj().T@W_cross))\n",
    "        R_steer[s,reali] = np.log2(np.linalg.det(np.eye(Ns)+SNR[s]/Ns*np.linalg.pinv(W_steer)@H[:,:,reali]@F_steer@F_steer.conj().T@H[:,:,reali].conj().T@W_steer))"
   ]
  },
  {
   "cell_type": "code",
   "execution_count": 20,
   "metadata": {},
   "outputs": [
    {
     "data": {
      "image/png": "[encoded data removed]",
      "text/plain": [
       "<matplotlib.figure.Figure at 0x26a84c8c198>"
      ]
     },
     "metadata": {},
     "output_type": "display_data"
    }
   ],
   "source": [
    "plt.plot(SNR_dB, (np.sum(R_cross,axis=1).real)/realization, label='cross polar')\n",
    "plt.plot(SNR_dB, (np.sum(R_steer,axis=1).real)/realization, label='beam steer')\n",
    "\n",
    "plt.legend(loc='upper left')\n",
    "plt.xlabel('SNR(dB)')\n",
    "plt.ylabel('Spectral Efficiency (bits/s/Hz)')\n",
    "plt.grid()\n",
    "plt.show()"
   ]
  }
 ],
 "metadata": {
  "kernelspec": {
   "display_name": "Python 3",
   "language": "python",
   "name": "python3"
  },
  "language_info": {
   "codemirror_mode": {
    "name": "ipython",
    "version": 3
   },
   "file_extension": ".py",
   "mimetype": "text/x-python",
   "name": "python",
   "nbconvert_exporter": "python",
   "pygments_lexer": "ipython3",
   "version": "3.6.3"
  }
 },
 "nbformat": 4,
 "nbformat_minor": 2
}
