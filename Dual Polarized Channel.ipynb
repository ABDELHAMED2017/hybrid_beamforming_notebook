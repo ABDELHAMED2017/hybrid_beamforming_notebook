{
 "cells": [
  {
   "cell_type": "code",
   "execution_count": 1,
   "metadata": {
    "collapsed": true
   },
   "outputs": [],
   "source": [
    "# import necessary module \n",
    "%matplotlib inline\n",
    "import numpy as np\n",
    "import matplotlib.pyplot as plt\n",
    "import scipy.io as io\n",
    "from array_response import *"
   ]
  },
  {
   "cell_type": "code",
   "execution_count": 2,
   "metadata": {
    "collapsed": true
   },
   "outputs": [],
   "source": [
    "Ns = 1 # number of streams\n",
    "\n",
    "Nc = 5 # number of cluster\n",
    "Nray = 10 # number of rays in each cluster\n",
    "\n",
    "Nt = 64 # number of transmit antennas\n",
    "Nr = 16 # number of receive antennas\n",
    "\n",
    "angle_sigma = 10/180*np.pi # standard deviation of the angles in azimuth and elevation both of Rx and Tx\n",
    "\n",
    "gamma = np.sqrt((Nt*Nr)/(Nc*Nray))\n",
    "sigma = 1 # according to the normalization condition of H\n",
    "\n",
    "realization = 1 # equivalent to number of taking sample\n",
    "count = 0\n",
    "\n",
    "eps = 0.1 # 20dB isolation\n"
   ]
  },
  {
   "cell_type": "code",
   "execution_count": 3,
   "metadata": {},
   "outputs": [
    {
     "data": {
      "text/plain": [
       "array([[ 1.,  0.,  2.,  0.,  3.,  0.],\n",
       "       [ 0.,  1.,  0.,  2.,  0.,  3.],\n",
       "       [ 4.,  0.,  5.,  0.,  6.,  0.],\n",
       "       [ 0.,  4.,  0.,  5.,  0.,  6.]])"
      ]
     },
     "execution_count": 3,
     "metadata": {},
     "output_type": "execute_result"
    }
   ],
   "source": [
    "# test kronecker product\n",
    "a = np.array([[1,2,3],[4,5,6]])\n",
    "b = np.eye(2)\n",
    "np.kron(a,b)"
   ]
  },
  {
   "cell_type": "code",
   "execution_count": 4,
   "metadata": {
    "collapsed": true
   },
   "outputs": [],
   "source": [
    "At = np.zeros((Nt,Nc*Nray,realization),dtype=complex)\n",
    "Ar = np.zeros((Nr,Nc*Nray,realization),dtype=complex)\n",
    "\n",
    "At = array_response(0.2,0.3,Nt)\n",
    "Ar = array_response(0.3,0.4,Nr)\n",
    "At = At.reshape(-1,1)\n",
    "Ar = Ar.reshape(-1,1)\n",
    "test = Ar@At.conj().T\n",
    "# print(test.shape)\n"
   ]
  },
  {
   "cell_type": "code",
   "execution_count": 21,
   "metadata": {
    "collapsed": true
   },
   "outputs": [],
   "source": [
    "H = np.zeros((2*Nr,2*Nt,realization),dtype=complex)\n",
    "At = np.zeros((Nt,Nc*Nray,realization),dtype=complex)\n",
    "Ar = np.zeros((Nr,Nc*Nray,realization),dtype=complex)\n",
    "alpha_hh = np.zeros((Nc*Nray,realization),dtype=complex)\n",
    "alpha_hv = np.zeros((Nc*Nray,realization),dtype=complex)\n",
    "alpha_vh = np.zeros((Nc*Nray,realization),dtype=complex)\n",
    "alpha_vv = np.zeros((Nc*Nray,realization),dtype=complex)\n",
    "\n",
    "AoD = np.zeros((2,Nc*Nray),dtype=complex)\n",
    "AoA = np.zeros((2,Nc*Nray),dtype=complex)\n",
    "\n",
    "for reali in range(realization):\n",
    "    for c in range(1,Nc+1):\n",
    "        AoD_azi_m = np.random.uniform(0,2*np.pi,1) # Mean Angle of Departure _ azimuth\n",
    "        AoD_ele_m = np.random.uniform(0,np.pi,1) # Mean Angle of Departure _ elevation\n",
    "        AoA_azi_m = np.random.uniform(0,2*np.pi,1) # Mean Angle of Arrival_ azimuth\n",
    "        AoA_ele_m = np.random.uniform(0,np.pi,1) # Mean Angle of Arrival_ elevation\n",
    "        AoD[0,(c-1)*Nray:Nray*c] = np.random.laplace(AoD_azi_m, angle_sigma, (1,Nray))\n",
    "        AoD[1,(c-1)*Nray:Nray*c] = np.random.laplace(AoD_ele_m, angle_sigma, (1,Nray))\n",
    "        AoA[0,(c-1)*Nray:Nray*c] = np.random.laplace(AoA_azi_m, angle_sigma, (1,Nray))\n",
    "        AoA[1,(c-1)*Nray:Nray*c] = np.random.laplace(AoA_ele_m, angle_sigma, (1,Nray))\n",
    "    for j in range(Nc*Nray):\n",
    "        At[:,j,reali] = array_response(AoD[0,j],AoD[1,j],Nt) # UPA array response\n",
    "        Ar[:,j,reali] = array_response(AoA[0,j],AoA[1,j],Nr)\n",
    "#         alpha_hh = np.random.normal(0, np.sqrt(sigma/2)) + 1j*np.random.normal(0, np.sqrt(sigma/2))\n",
    "        var_hh = (sigma**2)*(np.cos(AoD[0,j])**2)*(np.cos(AoA[0,j])**2)\n",
    "        var_hv = (eps**2)*(sigma**2)*(np.cos(AoD[1,j])**2)*(np.cos(AoA[0,j])**2)\n",
    "        var_vh = (eps**2)*(sigma**2)*(np.cos(AoD[0,j])**2)*(np.cos(AoA[1,j])**2)\n",
    "        var_vv = (sigma**2)*(np.cos(AoD[1,j])**2)*(np.cos(AoA[1,j])**2)\n",
    "        alpha_hh = np.random.normal(0, np.sqrt(var_hh/2)) + 1j*np.random.normal(0, np.sqrt(var_hh/2))\n",
    "        alpha_hv = np.random.normal(0, np.sqrt(var_hv/2)) + 1j*np.random.normal(0, np.sqrt(var_hv/2))\n",
    "        alpha_vh = np.random.normal(0, np.sqrt(var_vh/2)) + 1j*np.random.normal(0, np.sqrt(var_vh/2))\n",
    "        alpha_vv = np.random.normal(0, np.sqrt(var_vv/2)) + 1j*np.random.normal(0, np.sqrt(var_vv/2))\n",
    "#         sqrt(var/2)*(randn(1,N)+1i*randn(1,N))\n",
    "\n",
    "# for reali in range(realization):\n",
    "#     for j in range(Nc): # test with just number of cluster only\n",
    "#         AoD = np.random.uniform(0,2*np.pi,2)\n",
    "#         AoA = np.random.uniform(0,2*np.pi,2)\n",
    "#         At[:,j,reali] = array_response(AoD[0],AoD[1],Nt)\n",
    "#         Ar[:,j,reali] = array_response(AoA[0],AoA[1],Nr)"
   ]
  },
  {
   "cell_type": "code",
   "execution_count": 6,
   "metadata": {},
   "outputs": [
    {
     "name": "stdout",
     "output_type": "stream",
     "text": [
      "[ 62.84502854]\n"
     ]
    }
   ],
   "source": [
    "AoD_ele_m = np.random.uniform(0,np.pi,1)\n",
    "print(AoD_ele_m*180/3.14)"
   ]
  },
  {
   "cell_type": "code",
   "execution_count": 20,
   "metadata": {},
   "outputs": [
    {
     "data": {
      "text/plain": [
       "array([   3.21559498+0.j,    9.68046655+0.j,  -10.40309941+0.j,\n",
       "         -4.49565187+0.j,   12.67368616+0.j,    5.29022529+0.j,\n",
       "        -10.69588215+0.j,    5.05506857+0.j,    7.26154174+0.j,\n",
       "         17.32160644+0.j,   93.01646353+0.j,   83.11436118+0.j,\n",
       "         94.96380108+0.j,   96.68789498+0.j,   77.29151995+0.j,\n",
       "         94.30467788+0.j,   73.63901970+0.j,   86.57782427+0.j,\n",
       "         93.68747911+0.j,   89.23680447+0.j,  309.39736353+0.j,\n",
       "        284.71904935+0.j,  325.73735066+0.j,  323.42128262+0.j,\n",
       "        318.42620933+0.j,  296.64540865+0.j,  314.62503709+0.j,\n",
       "        298.08808141+0.j,  312.38230986+0.j,  303.14396831+0.j,\n",
       "        113.19430044+0.j,  129.17532866+0.j,  131.99971209+0.j,\n",
       "        130.27472363+0.j,  160.47692098+0.j,  146.05595047+0.j,\n",
       "        132.03013957+0.j,  134.42820710+0.j,  136.06403950+0.j,\n",
       "        125.35951405+0.j,  139.43899956+0.j,  134.94876820+0.j,\n",
       "        161.90786440+0.j,  102.86820518+0.j,  141.63066182+0.j,\n",
       "        136.09665475+0.j,  132.66785138+0.j,  129.96022451+0.j,\n",
       "        117.60980807+0.j,  171.17454366+0.j])"
      ]
     },
     "execution_count": 20,
     "metadata": {},
     "output_type": "execute_result"
    }
   ],
   "source": [
    "AoA[0,:]*180/3.14"
   ]
  }
 ],
 "metadata": {
  "kernelspec": {
   "display_name": "Python 3",
   "language": "python",
   "name": "python3"
  },
  "language_info": {
   "codemirror_mode": {
    "name": "ipython",
    "version": 3
   },
   "file_extension": ".py",
   "mimetype": "text/x-python",
   "name": "python",
   "nbconvert_exporter": "python",
   "pygments_lexer": "ipython3",
   "version": "3.6.3"
  }
 },
 "nbformat": 4,
 "nbformat_minor": 2
}
