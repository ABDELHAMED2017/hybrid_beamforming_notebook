{
 "cells": [
  {
   "cell_type": "code",
   "execution_count": 1,
   "metadata": {
    "collapsed": true
   },
   "outputs": [],
   "source": [
    "# import necessary module\n",
    "%matplotlib inline\n",
    "import numpy as np\n",
    "import matplotlib.pyplot as plt\n",
    "import matplotlib.patches as mpatches\n",
    "\n",
    "import seaborn as sns\n",
    "import scipy\n",
    "from array_response import *\n",
    "import itertools \n"
   ]
  },
  {
   "cell_type": "markdown",
   "metadata": {},
   "source": [
    "### Parameters declaration\n",
    "\n",
    "Declare parameters needed for channel realization"
   ]
  },
  {
   "cell_type": "code",
   "execution_count": 2,
   "metadata": {
    "collapsed": true
   },
   "outputs": [],
   "source": [
    "Ns = 1 # number of streams\n",
    "\n",
    "Nc = 6 # number of cluster\n",
    "Nray = 1 # number of rays in each cluster\n",
    "\n",
    "Nt = 64 # number of transmit antennas\n",
    "Nr = 16 # number of receive antennas\n",
    "\n",
    "angle_sigma = 10/180*np.pi # standard deviation of the angles in azimuth and elevation both of Rx and Tx\n",
    "\n",
    "gamma = np.sqrt((Nt*Nr)/(Nc*Nray))\n",
    "realization = 1000 # equivalent to number of taking sample\n",
    "count = 0\n",
    "\n",
    "eps = 0.1 # 20dB isolation\n",
    "sigma = np.sqrt(8/(1+eps**2)) # according to the normalization condition of H\n"
   ]
  },
  {
   "cell_type": "markdown",
   "metadata": {},
   "source": [
    "### Channel Realization\n",
    "\n",
    "Realize channel H for Dual-Polarized antenna array"
   ]
  },
  {
   "cell_type": "code",
   "execution_count": 3,
   "metadata": {
    "collapsed": true
   },
   "outputs": [],
   "source": [
    "H_pol = np.zeros((2*Nr,2*Nt,realization),dtype=complex)\n",
    "At = np.zeros((Nt,Nc*Nray,realization),dtype=complex)\n",
    "Ar = np.zeros((Nr,Nc*Nray,realization),dtype=complex)\n",
    "alpha_hh = np.zeros((Nc*Nray,realization),dtype=complex)\n",
    "alpha_hv = np.zeros((Nc*Nray,realization),dtype=complex)\n",
    "alpha_vh = np.zeros((Nc*Nray,realization),dtype=complex)\n",
    "alpha_vv = np.zeros((Nc*Nray,realization),dtype=complex)\n",
    "\n",
    "AoD = np.zeros((2,Nc*Nray),dtype=complex)\n",
    "AoA = np.zeros((2,Nc*Nray),dtype=complex)\n",
    "\n",
    "H = np.zeros((2*Nr,2*Nt,realization),dtype=complex)\n",
    "azi_rot = np.random.uniform(0,2*np.pi,realization)\n",
    "ele_rot = np.random.uniform(0,np.pi/2,realization) # Why PI/2 ??\n",
    "R = np.array([[np.cos(ele_rot)*np.cos(azi_rot),np.sin(ele_rot)],[-np.sin(ele_rot)*np.cos(azi_rot),np.cos(ele_rot)]]) # rotation matrix\n",
    "\n",
    "for reali in range(realization):\n",
    "    for c in range(1,Nc+1):\n",
    "        AoD_azi_m = np.random.uniform(0,2*np.pi,1) # Mean Angle of Departure _ azimuth\n",
    "        AoD_ele_m = np.random.uniform(0,np.pi,1) # Mean Angle of Departure _ elevation\n",
    "        AoA_azi_m = np.random.uniform(0,2*np.pi,1) # Mean Angle of Arrival_ azimuth\n",
    "        AoA_ele_m = np.random.uniform(0,np.pi,1) # Mean Angle of Arrival_ elevation\n",
    "        AoD[0,(c-1)*Nray:Nray*c] = np.random.laplace(AoD_azi_m, angle_sigma, (1,Nray))\n",
    "        AoD[1,(c-1)*Nray:Nray*c] = np.random.laplace(AoD_ele_m, angle_sigma, (1,Nray))\n",
    "        AoA[0,(c-1)*Nray:Nray*c] = np.random.laplace(AoA_azi_m, angle_sigma, (1,Nray))\n",
    "        AoA[1,(c-1)*Nray:Nray*c] = np.random.laplace(AoA_ele_m, angle_sigma, (1,Nray))\n",
    "    for j in range(Nc*Nray):\n",
    "        At[:,j,reali] = array_response(AoD[0,j],AoD[1,j],Nt) # UPA array response\n",
    "        Ar[:,j,reali] = array_response(AoA[0,j],AoA[1,j],Nr)\n",
    "        var_hh = ((sigma**2)*(np.cos(AoD[0,j])**2)*(np.cos(AoA[0,j])**2)).real\n",
    "        var_hv = ((eps**2)*(sigma**2)*(np.cos(AoD[1,j])**2)*(np.cos(AoA[0,j])**2)).real\n",
    "        var_vh = ((eps**2)*(sigma**2)*(np.cos(AoD[0,j])**2)*(np.cos(AoA[1,j])**2)).real\n",
    "        var_vv = ((sigma**2)*(np.cos(AoD[1,j])**2)*(np.cos(AoA[1,j])**2)).real\n",
    "        alpha_hh[j,reali] = np.random.normal(0, np.sqrt(var_hh/2)) + 1j*np.random.normal(0, np.sqrt(var_hh/2))\n",
    "        alpha_hv[j,reali] = np.random.normal(0, np.sqrt(var_hv/2)) + 1j*np.random.normal(0, np.sqrt(var_hv/2))\n",
    "        alpha_vh[j,reali] = np.random.normal(0, np.sqrt(var_vh/2)) + 1j*np.random.normal(0, np.sqrt(var_vh/2))\n",
    "        alpha_vv[j,reali] = np.random.normal(0, np.sqrt(var_vv/2)) + 1j*np.random.normal(0, np.sqrt(var_vv/2))\n",
    "        alpha = np.vstack((np.hstack((alpha_hh[j,reali],alpha_hv[j,reali])),np.hstack((alpha_vh[j,reali],alpha_vv[j,reali]))))\n",
    "        H_pol[:,:,reali] = H_pol[:,:,reali] + np.kron(alpha,Ar[:,[j],reali]@At[:,[j],reali].conj().T)\n",
    "    H_pol[:,:,reali] = gamma* H_pol[:,:,reali]\n",
    "    H[:,:,reali] = (np.kron(R[:,:,reali],np.eye(Nr)))@H_pol[:,:,reali]\n",
    "    H[:,:,reali] = np.sqrt(4/3)* H[:,:,reali]\n"
   ]
  },
  {
   "cell_type": "markdown",
   "metadata": {},
   "source": [
    "### Check normalized condition"
   ]
  },
  {
   "cell_type": "code",
   "execution_count": 4,
   "metadata": {},
   "outputs": [
    {
     "name": "stdout",
     "output_type": "stream",
     "text": [
      "4*Nt*Nr = 4096    Frobenius norm H pol= 4123.21568255\n"
     ]
    }
   ],
   "source": [
    "channel_fro_1 = np.zeros(realization)\n",
    "for reali in range(realization):\n",
    "    channel_fro_1[reali] = np.linalg.norm(H_pol[:,:,reali],'fro')\n",
    "print(\"4*Nt*Nr =\", 4*Nt*Nr , \"   Frobenius norm H pol=\", np.mean(channel_fro_1**2))"
   ]
  },
  {
   "cell_type": "code",
   "execution_count": 5,
   "metadata": {},
   "outputs": [
    {
     "name": "stdout",
     "output_type": "stream",
     "text": [
      "4*Nt*Nr = 4096    Frobenius norm = 4136.68372294\n"
     ]
    }
   ],
   "source": [
    "channel_fro_2 = np.zeros(realization)\n",
    "for reali in range(realization):\n",
    "    channel_fro_2[reali] = np.linalg.norm(H[:,:,reali],'fro')\n",
    "print(\"4*Nt*Nr =\", 4*Nt*Nr , \"   Frobenius norm =\", np.mean(channel_fro_2**2))"
   ]
  },
  {
   "cell_type": "markdown",
   "metadata": {},
   "source": [
    "### Joint Horizontal/Vertical Beamformer Selection"
   ]
  },
  {
   "cell_type": "markdown",
   "metadata": {},
   "source": [
    "| hori_tx | hori_rx | verti_tx | verti_rx |\n",
    "|:--------|--------|--------:|:---------:|\n"
   ]
  },
  {
   "cell_type": "code",
   "execution_count": 6,
   "metadata": {
    "scrolled": true
   },
   "outputs": [
    {
     "name": "stdout",
     "output_type": "stream",
     "text": [
      "[0 1 2 3 4 5]\n",
      "(66, 4)\n"
     ]
    }
   ],
   "source": [
    "cluster = np.arange(Nc)\n",
    "print(cluster)\n",
    "c = list(itertools.combinations(cluster, 2))\n",
    "num_path = (2*Nc-1)*Nc\n",
    "path_combi = np.zeros((num_path,4),dtype=int)\n",
    "\n",
    "print(path_combi.shape)\n",
    "path_combi[0:Nc,:]=np.arange(Nc).reshape(Nc,1).repeat(4,axis=1)\n",
    "\n",
    "count = 0\n",
    "for i in range(int(Nc*(Nc-1)/2)):\n",
    "    path_combi[Nc+4*i,:] = np.array([c[count][0],c[count][0],c[count][1],c[count][1]])\n",
    "    path_combi[Nc+4*i+1,:] = np.array([c[count][1],c[count][1],c[count][0],c[count][0]])\n",
    "    path_combi[Nc+4*i+2,:] = np.array([c[count][0],c[count][1],c[count][1],c[count][0]])\n",
    "    path_combi[Nc+4*i+3,:] = np.array([c[count][1],c[count][0],c[count][0],c[count][1]])\n",
    "    count = count+1\n",
    "# print(path_combi[0:10,:])\n",
    "path_gain = np.zeros((num_path,realization)) # 2 to save the position and maximum value\n",
    "for reali in range(realization):\n",
    "    for combi in range(num_path):\n",
    "        path_gain[combi,reali] =\\\n",
    "        (np.abs\\\n",
    "         ((np.cos(ele_rot[reali])*np.cos(azi_rot[reali])*alpha_hh[path_combi[combi,0],reali]+np.sin(ele_rot[reali])*alpha_vh[path_combi[combi,0],reali])*(path_combi[combi,0]==path_combi[combi,1])+\\\n",
    "         (np.cos(ele_rot[reali])*np.cos(azi_rot[reali])*alpha_hv[path_combi[combi,2],reali]+np.sin(ele_rot[reali])*alpha_vv[path_combi[combi,2],reali])*(path_combi[combi,2]==path_combi[combi,1])+\\\n",
    "         (-np.sin(ele_rot[reali])*np.cos(azi_rot[reali])*alpha_hh[path_combi[combi,0],reali]+np.cos(ele_rot[reali])*alpha_vh[path_combi[combi,0],reali])*(path_combi[combi,0]==path_combi[combi,3])+\\\n",
    "         (-np.sin(ele_rot[reali])*np.cos(azi_rot[reali])*alpha_hv[path_combi[combi,2],reali]+np.sin(ele_rot[reali])*alpha_vv[path_combi[combi,2],reali])*(path_combi[combi,2]==path_combi[combi,3])\n",
    "         ))**2\n"
   ]
  },
  {
   "cell_type": "code",
   "execution_count": 7,
   "metadata": {},
   "outputs": [
    {
     "data": {
      "text/plain": [
       "(6, 1000)"
      ]
     },
     "execution_count": 7,
     "metadata": {},
     "output_type": "execute_result"
    }
   ],
   "source": [
    "alpha_hh.shape"
   ]
  },
  {
   "cell_type": "code",
   "execution_count": 8,
   "metadata": {
    "collapsed": true
   },
   "outputs": [],
   "source": [
    "index = np.zeros(realization,dtype=int)\n",
    "for test in range(realization):\n",
    "    index[test] = np.argmax(path_gain[:,test])\n",
    "    #print(path_gain[index,test])"
   ]
  },
  {
   "cell_type": "code",
   "execution_count": 9,
   "metadata": {
    "scrolled": true
   },
   "outputs": [
    {
     "name": "stdout",
     "output_type": "stream",
     "text": [
      "[[0 0 0 0]\n",
      " [1 1 1 1]\n",
      " [2 2 2 2]\n",
      " [3 3 3 3]\n",
      " [4 4 4 4]\n",
      " [5 5 5 5]\n",
      " [0 0 1 1]\n",
      " [1 1 0 0]\n",
      " [0 1 1 0]\n",
      " [1 0 0 1]\n",
      " [0 0 2 2]\n",
      " [2 2 0 0]\n",
      " [0 2 2 0]\n",
      " [2 0 0 2]\n",
      " [0 0 3 3]\n",
      " [3 3 0 0]\n",
      " [0 3 3 0]\n",
      " [3 0 0 3]\n",
      " [0 0 4 4]\n",
      " [4 4 0 0]\n",
      " [0 4 4 0]\n",
      " [4 0 0 4]\n",
      " [0 0 5 5]\n",
      " [5 5 0 0]\n",
      " [0 5 5 0]\n",
      " [5 0 0 5]\n",
      " [1 1 2 2]\n",
      " [2 2 1 1]\n",
      " [1 2 2 1]\n",
      " [2 1 1 2]\n",
      " [1 1 3 3]\n",
      " [3 3 1 1]\n",
      " [1 3 3 1]\n",
      " [3 1 1 3]\n",
      " [1 1 4 4]\n",
      " [4 4 1 1]\n",
      " [1 4 4 1]\n",
      " [4 1 1 4]\n",
      " [1 1 5 5]\n",
      " [5 5 1 1]\n",
      " [1 5 5 1]\n",
      " [5 1 1 5]\n",
      " [2 2 3 3]\n",
      " [3 3 2 2]\n",
      " [2 3 3 2]\n",
      " [3 2 2 3]\n",
      " [2 2 4 4]\n",
      " [4 4 2 2]\n",
      " [2 4 4 2]\n",
      " [4 2 2 4]\n",
      " [2 2 5 5]\n",
      " [5 5 2 2]\n",
      " [2 5 5 2]\n",
      " [5 2 2 5]\n",
      " [3 3 4 4]\n",
      " [4 4 3 3]\n",
      " [3 4 4 3]\n",
      " [4 3 3 4]\n",
      " [3 3 5 5]\n",
      " [5 5 3 3]\n",
      " [3 5 5 3]\n",
      " [5 3 3 5]\n",
      " [4 4 5 5]\n",
      " [5 5 4 4]\n",
      " [4 5 5 4]\n",
      " [5 4 4 5]]\n"
     ]
    }
   ],
   "source": [
    "print(path_combi)"
   ]
  },
  {
   "cell_type": "code",
   "execution_count": 10,
   "metadata": {},
   "outputs": [
    {
     "data": {
      "text/plain": [
       "array([  5.56163657e-02,   1.63178508e-01,   8.99878825e-02,\n",
       "         3.97213608e-01,   3.79465947e-02,   2.38065238e-01,\n",
       "         1.58907303e-02,   7.81883875e-02,   2.69347331e-02,\n",
       "         5.55270692e-02,   5.78080997e-03,   2.21226142e-02,\n",
       "         4.38849786e-02,   2.71416826e-02,   2.68551550e-02,\n",
       "         3.08525341e-01,   1.11402198e-04,   5.68581332e-02,\n",
       "         7.94464375e-03,   1.51418130e-02,   9.37345727e-03,\n",
       "         2.41290593e-02,   4.90295093e-03,   3.10947060e-01,\n",
       "         3.12566140e-02,   8.64416900e-02,   1.88342913e-01,\n",
       "         4.13421069e-02,   4.36190396e-02,   2.37216881e-02,\n",
       "         1.12006922e-01,   3.06849080e-01,   2.84339452e-02,\n",
       "         1.00971790e-01,   1.61987113e-01,   7.18098288e-03,\n",
       "         1.08467935e-02,   9.09488356e-03,   1.86411438e-01,\n",
       "         1.48984076e-01,   3.84963400e-02,   3.27038199e-02,\n",
       "         8.85213470e-03,   2.52871542e-01,   1.40365323e-02,\n",
       "         1.04967747e-01,   1.59130976e-03,   1.10654717e-02,\n",
       "         5.38475018e-04,   5.96465672e-03,   2.46201558e-02,\n",
       "         1.34110364e-01,   1.32313668e-02,   7.41995702e-03,\n",
       "         1.97078734e-01,   2.12205597e-02,   3.41780999e-02,\n",
       "         2.00281704e-02,   2.48249079e-01,   2.83583184e-01,\n",
       "         8.99962212e-02,   8.16519652e-02,   1.07573169e-02,\n",
       "         2.08931248e-01,   2.62923047e-03,   3.86968311e-02])"
      ]
     },
     "execution_count": 10,
     "metadata": {},
     "output_type": "execute_result"
    }
   ],
   "source": [
    "path_gain[:,1]"
   ]
  },
  {
   "cell_type": "code",
   "execution_count": 11,
   "metadata": {
    "collapsed": true
   },
   "outputs": [],
   "source": [
    "cross_index =  []\n",
    "count = 7\n",
    "while (count<num_path):\n",
    "    cross_index.extend([count+1,count+2])\n",
    "    count = count + 4\n",
    "cross_index = np.array(cross_index)"
   ]
  },
  {
   "cell_type": "code",
   "execution_count": 12,
   "metadata": {
    "scrolled": true
   },
   "outputs": [
    {
     "name": "stdout",
     "output_type": "stream",
     "text": [
      "[ 8  9 12 13 16 17 20 21 24 25 28 29 32 33 36 37 40 41 44 45 48 49 52 53 56\n",
      " 57 60 61 64 65]\n",
      "(30,)\n",
      "[3 3 3 3]\n"
     ]
    }
   ],
   "source": [
    "print(cross_index)\n",
    "print(cross_index.shape)\n",
    "print(path_combi[index[1]])"
   ]
  },
  {
   "cell_type": "code",
   "execution_count": 13,
   "metadata": {},
   "outputs": [
    {
     "name": "stdout",
     "output_type": "stream",
     "text": [
      "78\n"
     ]
    }
   ],
   "source": [
    "cross_index_in = np.isin(index, cross_index)\n",
    "# print(cross_index_in)\n",
    "print(sum(cross_index_in))"
   ]
  },
  {
   "cell_type": "code",
   "execution_count": 14,
   "metadata": {},
   "outputs": [
    {
     "name": "stdout",
     "output_type": "stream",
     "text": [
      "326\n"
     ]
    }
   ],
   "source": [
    "diff_clus_index = np.arange(6,66)\n",
    "diff_clus_index_in = np.isin(index, diff_clus_index)\n",
    "# print(diff_clus_index_in)\n",
    "print(sum(diff_clus_index_in))"
   ]
  },
  {
   "cell_type": "code",
   "execution_count": 15,
   "metadata": {},
   "outputs": [
    {
     "data": {
      "image/png": "[encoded data removed]",
      "text/plain": [
       "<matplotlib.figure.Figure at 0x1bcb863ba20>"
      ]
     },
     "metadata": {},
     "output_type": "display_data"
    }
   ],
   "source": [
    "fig = plt.figure(figsize=(10,4), dpi=200)\n",
    "n, bins, patches = plt.hist(index, bins=range(0,67),facecolor='green', alpha=0.75,edgecolor='black')\n",
    "# print(n.shape)\n",
    "# print(bins.shape)\n",
    "# print(n)\n",
    "# print(bins)\n",
    "for i in range(0,6):\n",
    "    patches[i].set_fc('r')\n",
    "for i in cross_index:\n",
    "    patches[i].set_fc('b')\n",
    "    \n",
    "cluster_same = mpatches.Patch(color='red', label='Same Cluster')\n",
    "cross_polar = mpatches.Patch(color='blue', label='Cross polar steering')\n",
    "diff_clus_same_polar = mpatches.Patch(color='green', label='Diff Cluster - Same Polar')\n",
    "\n",
    "plt.legend(handles=[cluster_same,cross_polar,diff_clus_same_polar])\n",
    "\n",
    "plt.show()\n"
   ]
  },
  {
   "cell_type": "code",
   "execution_count": 16,
   "metadata": {},
   "outputs": [
    {
     "name": "stdout",
     "output_type": "stream",
     "text": [
      "{0: 118, 1: 112, 2: 122, 3: 108, 4: 102, 5: 112, 6: 4, 7: 4, 9: 5, 10: 7, 11: 6, 12: 2, 13: 3, 14: 12, 15: 12, 16: 2, 17: 2, 18: 6, 19: 11, 20: 2, 21: 2, 22: 9, 23: 8, 24: 4, 25: 5, 26: 9, 27: 7, 28: 6, 29: 5, 30: 11, 31: 6, 32: 3, 33: 2, 34: 7, 35: 7, 36: 1, 37: 3, 38: 7, 39: 8, 41: 3, 42: 10, 43: 5, 44: 2, 46: 6, 47: 15, 48: 7, 49: 2, 50: 10, 51: 9, 53: 1, 54: 9, 55: 5, 56: 2, 57: 4, 58: 11, 59: 12, 60: 2, 61: 1, 62: 9, 63: 6, 64: 2, 65: 5}\n"
     ]
    }
   ],
   "source": [
    "unique, counts = np.unique(index, return_counts=True)\n",
    "print(dict(zip(unique, counts)))\n"
   ]
  },
  {
   "cell_type": "markdown",
   "metadata": {},
   "source": [
    "### Independent Beam Steering Horizontal | Vertical "
   ]
  },
  {
   "cell_type": "code",
   "execution_count": 17,
   "metadata": {
    "collapsed": true
   },
   "outputs": [],
   "source": [
    "steer_path = np.zeros((2,realization),dtype=int)\n",
    "for reali in range(realization):\n",
    "    steer_path[0,reali] = np.argmax((np.abs(alpha_hh[:,reali]))**2)\n",
    "    steer_path[1,reali] = np.argmax((np.abs(alpha_vv[:,reali]))**2)\n",
    "    "
   ]
  },
  {
   "cell_type": "code",
   "execution_count": 18,
   "metadata": {},
   "outputs": [
    {
     "data": {
      "text/plain": [
       "array([0, 1])"
      ]
     },
     "execution_count": 18,
     "metadata": {},
     "output_type": "execute_result"
    }
   ],
   "source": [
    "steer_path[:,2]"
   ]
  },
  {
   "cell_type": "markdown",
   "metadata": {},
   "source": [
    "### Plot Spectral Efficiency"
   ]
  },
  {
   "cell_type": "code",
   "execution_count": 19,
   "metadata": {
    "collapsed": true
   },
   "outputs": [],
   "source": [
    "SNR_dB = np.arange(-35,10,5)\n",
    "SNR = 10**(SNR_dB/10)\n",
    "smax = SNR.shape[0]\n",
    "R_cross = np.zeros([smax, realization],dtype=complex)\n",
    "R_steer = np.zeros([smax, realization],dtype=complex)\n",
    "\n",
    "for reali in range(realization):\n",
    "    _chosen_combi_path = path_combi[index[reali]]\n",
    "    _chosen_steer_path = steer_path[:,reali]\n",
    "    \n",
    "    W_cross = np.vstack((Ar[:,[_chosen_combi_path[1]],reali],Ar[:,[_chosen_combi_path[3]],reali]))\n",
    "    F_cross = np.vstack((At[:,[_chosen_combi_path[0]],reali],At[:,[_chosen_combi_path[2]],reali]))\n",
    "    \n",
    "    W_steer = np.vstack((Ar[:,[_chosen_steer_path[0]],reali],Ar[:,[_chosen_steer_path[1]],reali]))\n",
    "    F_steer = np.vstack((At[:,[_chosen_steer_path[0]],reali],At[:,[_chosen_steer_path[1]],reali]))\n",
    "    \n",
    "    for s in range(smax):\n",
    "        R_cross[s,reali] = np.log2(np.linalg.det(np.eye(Ns)+SNR[s]/Ns*np.linalg.pinv(W_cross)@H[:,:,reali]@F_cross@F_cross.conj().T@H[:,:,reali].conj().T@W_cross))\n",
    "        R_steer[s,reali] = np.log2(np.linalg.det(np.eye(Ns)+SNR[s]/Ns*np.linalg.pinv(W_steer)@H[:,:,reali]@F_steer@F_steer.conj().T@H[:,:,reali].conj().T@W_steer))"
   ]
  },
  {
   "cell_type": "code",
   "execution_count": 20,
   "metadata": {},
   "outputs": [
    {
     "data": {
      "image/png": "[encoded data removed]",
      "text/plain": [
       "<matplotlib.figure.Figure at 0x1bcc27f9908>"
      ]
     },
     "metadata": {},
     "output_type": "display_data"
    }
   ],
   "source": [
    "plt.plot(SNR_dB, (np.sum(R_cross,axis=1).real)/realization, label='cross polar')\n",
    "plt.plot(SNR_dB, (np.sum(R_steer,axis=1).real)/realization, label='beam steer')\n",
    "\n",
    "plt.legend(loc='upper left')\n",
    "plt.xlabel('SNR(dB)')\n",
    "plt.ylabel('Spectral Efficiency (bits/s/Hz)')\n",
    "plt.grid()\n",
    "plt.show()"
   ]
  },
  {
   "cell_type": "code",
   "execution_count": null,
   "metadata": {
    "collapsed": true
   },
   "outputs": [],
   "source": []
  },
  {
   "cell_type": "code",
   "execution_count": null,
   "metadata": {
    "collapsed": true
   },
   "outputs": [],
   "source": []
  }
 ],
 "metadata": {
  "kernelspec": {
   "display_name": "Python 3",
   "language": "python",
   "name": "python3"
  },
  "language_info": {
   "codemirror_mode": {
    "name": "ipython",
    "version": 3
   },
   "file_extension": ".py",
   "mimetype": "text/x-python",
   "name": "python",
   "nbconvert_exporter": "python",
   "pygments_lexer": "ipython3",
   "version": "3.6.3"
  }
 },
 "nbformat": 4,
 "nbformat_minor": 2
}
