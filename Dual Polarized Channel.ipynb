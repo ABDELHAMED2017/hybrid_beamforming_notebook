{
 "cells": [
  {
   "cell_type": "code",
   "execution_count": 1,
   "metadata": {
    "collapsed": true
   },
   "outputs": [],
   "source": [
    "# import necessary module\n",
    "%matplotlib inline\n",
    "import numpy as np\n",
    "import matplotlib.pyplot as plt\n",
    "import scipy\n",
    "from array_response import *\n",
    "import itertools "
   ]
  },
  {
   "cell_type": "markdown",
   "metadata": {},
   "source": [
    "### Parameters declaration\n",
    "\n",
    "Declare parameters needed for channel realization"
   ]
  },
  {
   "cell_type": "code",
   "execution_count": 2,
   "metadata": {
    "collapsed": true
   },
   "outputs": [],
   "source": [
    "Ns = 1 # number of streams\n",
    "\n",
    "Nc = 6 # number of cluster\n",
    "Nray = 1 # number of rays in each cluster\n",
    "\n",
    "Nt = 64 # number of transmit antennas\n",
    "Nr = 16 # number of receive antennas\n",
    "\n",
    "angle_sigma = 10/180*np.pi # standard deviation of the angles in azimuth and elevation both of Rx and Tx\n",
    "\n",
    "gamma = np.sqrt((Nt*Nr)/(Nc*Nray))\n",
    "realization = 1000 # equivalent to number of taking sample\n",
    "count = 0\n",
    "\n",
    "eps = 0.1 # 20dB isolation\n",
    "sigma = np.sqrt(8/(1+eps**2)) # according to the normalization condition of H\n"
   ]
  },
  {
   "cell_type": "markdown",
   "metadata": {},
   "source": [
    "### Channel Realization\n",
    "\n",
    "Realize channel H for Dual-Polarized antenna array"
   ]
  },
  {
   "cell_type": "code",
   "execution_count": 3,
   "metadata": {
    "collapsed": true
   },
   "outputs": [],
   "source": [
    "H_pol = np.zeros((2*Nr,2*Nt,realization),dtype=complex)\n",
    "At = np.zeros((Nt,Nc*Nray,realization),dtype=complex)\n",
    "Ar = np.zeros((Nr,Nc*Nray,realization),dtype=complex)\n",
    "alpha_hh = np.zeros((Nc*Nray,realization),dtype=complex)\n",
    "alpha_hv = np.zeros((Nc*Nray,realization),dtype=complex)\n",
    "alpha_vh = np.zeros((Nc*Nray,realization),dtype=complex)\n",
    "alpha_vv = np.zeros((Nc*Nray,realization),dtype=complex)\n",
    "\n",
    "AoD = np.zeros((2,Nc*Nray),dtype=complex)\n",
    "AoA = np.zeros((2,Nc*Nray),dtype=complex)\n",
    "\n",
    "H = np.zeros((2*Nr,2*Nt,realization),dtype=complex)\n",
    "azi_rot = np.random.uniform(0,2*np.pi,realization)\n",
    "ele_rot = np.random.uniform(0,np.pi/2,realization) # Why PI/2 ??\n",
    "R = np.array([[np.cos(ele_rot)*np.cos(azi_rot),np.sin(ele_rot)],[-np.sin(ele_rot)*np.cos(azi_rot),np.cos(ele_rot)]]) # rotation matrix\n",
    "\n",
    "for reali in range(realization):\n",
    "    for c in range(1,Nc+1):\n",
    "        AoD_azi_m = np.random.uniform(0,2*np.pi,1) # Mean Angle of Departure _ azimuth\n",
    "        AoD_ele_m = np.random.uniform(0,np.pi,1) # Mean Angle of Departure _ elevation\n",
    "        AoA_azi_m = np.random.uniform(0,2*np.pi,1) # Mean Angle of Arrival_ azimuth\n",
    "        AoA_ele_m = np.random.uniform(0,np.pi,1) # Mean Angle of Arrival_ elevation\n",
    "        AoD[0,(c-1)*Nray:Nray*c] = np.random.laplace(AoD_azi_m, angle_sigma, (1,Nray))\n",
    "        AoD[1,(c-1)*Nray:Nray*c] = np.random.laplace(AoD_ele_m, angle_sigma, (1,Nray))\n",
    "        AoA[0,(c-1)*Nray:Nray*c] = np.random.laplace(AoA_azi_m, angle_sigma, (1,Nray))\n",
    "        AoA[1,(c-1)*Nray:Nray*c] = np.random.laplace(AoA_ele_m, angle_sigma, (1,Nray))\n",
    "    for j in range(Nc*Nray):\n",
    "        At[:,j,reali] = array_response(AoD[0,j],AoD[1,j],Nt) # UPA array response\n",
    "        Ar[:,j,reali] = array_response(AoA[0,j],AoA[1,j],Nr)\n",
    "        var_hh = ((sigma**2)*(np.cos(AoD[0,j])**2)*(np.cos(AoA[0,j])**2)).real\n",
    "        var_hv = ((eps**2)*(sigma**2)*(np.cos(AoD[1,j])**2)*(np.cos(AoA[0,j])**2)).real\n",
    "        var_vh = ((eps**2)*(sigma**2)*(np.cos(AoD[0,j])**2)*(np.cos(AoA[1,j])**2)).real\n",
    "        var_vv = ((sigma**2)*(np.cos(AoD[1,j])**2)*(np.cos(AoA[1,j])**2)).real\n",
    "        alpha_hh[j,reali] = np.random.normal(0, np.sqrt(var_hh/2)) + 1j*np.random.normal(0, np.sqrt(var_hh/2))\n",
    "        alpha_hv[j,reali] = np.random.normal(0, np.sqrt(var_hv/2)) + 1j*np.random.normal(0, np.sqrt(var_hv/2))\n",
    "        alpha_vh[j,reali] = np.random.normal(0, np.sqrt(var_vh/2)) + 1j*np.random.normal(0, np.sqrt(var_vh/2))\n",
    "        alpha_vv[j,reali] = np.random.normal(0, np.sqrt(var_vv/2)) + 1j*np.random.normal(0, np.sqrt(var_vv/2))\n",
    "        alpha = np.vstack((np.hstack((alpha_hh[j,reali],alpha_hv[j,reali])),np.hstack((alpha_vh[j,reali],alpha_vv[j,reali]))))\n",
    "        H_pol[:,:,reali] = H_pol[:,:,reali] + np.kron(alpha,Ar[:,[j],reali]@At[:,[j],reali].conj().T)\n",
    "    H_pol[:,:,reali] = gamma* H_pol[:,:,reali]\n",
    "    H[:,:,reali] = (np.kron(R[:,:,reali],np.eye(Nr)))@H_pol[:,:,reali]\n",
    "    H[:,:,reali] = np.sqrt(4/3)* H[:,:,reali]\n"
   ]
  },
  {
   "cell_type": "markdown",
   "metadata": {},
   "source": [
    "### Check normalized condition"
   ]
  },
  {
   "cell_type": "code",
   "execution_count": 4,
   "metadata": {},
   "outputs": [
    {
     "name": "stdout",
     "output_type": "stream",
     "text": [
      "4*Nt*Nr = 4096    Frobenius norm H pol= 4115.61194669\n"
     ]
    }
   ],
   "source": [
    "channel_fro_1 = np.zeros(realization)\n",
    "for reali in range(realization):\n",
    "    channel_fro_1[reali] = np.linalg.norm(H_pol[:,:,reali],'fro')\n",
    "print(\"4*Nt*Nr =\", 4*Nt*Nr , \"   Frobenius norm H pol=\", np.mean(channel_fro_1**2))"
   ]
  },
  {
   "cell_type": "code",
   "execution_count": 5,
   "metadata": {},
   "outputs": [
    {
     "name": "stdout",
     "output_type": "stream",
     "text": [
      "4*Nt*Nr = 4096    Frobenius norm = 4084.98571114\n"
     ]
    }
   ],
   "source": [
    "channel_fro_2 = np.zeros(realization)\n",
    "for reali in range(realization):\n",
    "    channel_fro_2[reali] = np.linalg.norm(H[:,:,reali],'fro')\n",
    "print(\"4*Nt*Nr =\", 4*Nt*Nr , \"   Frobenius norm =\", np.mean(channel_fro_2**2))"
   ]
  },
  {
   "cell_type": "markdown",
   "metadata": {},
   "source": [
    "### Joint Horizontal/Vertical Beamformer Selection"
   ]
  },
  {
   "cell_type": "markdown",
   "metadata": {},
   "source": [
    "| hori_tx | hori_rx | verti_tx | verti_rx |\n",
    "|:--------|--------|--------:|:---------:|\n"
   ]
  },
  {
   "cell_type": "code",
   "execution_count": 6,
   "metadata": {
    "scrolled": true
   },
   "outputs": [
    {
     "name": "stdout",
     "output_type": "stream",
     "text": [
      "[0 1 2 3 4 5]\n",
      "(66, 4)\n"
     ]
    }
   ],
   "source": [
    "cluster = np.arange(Nc)\n",
    "print(cluster)\n",
    "c = list(itertools.combinations(cluster, 2))\n",
    "num_path = (2*Nc-1)*Nc\n",
    "path_combi = np.zeros((num_path,4),dtype=int)\n",
    "\n",
    "print(path_combi.shape)\n",
    "path_combi[0:Nc,:]=np.arange(Nc).reshape(Nc,1).repeat(4,axis=1)\n",
    "\n",
    "count = 0\n",
    "for i in range(int(Nc*(Nc-1)/2)):\n",
    "    path_combi[Nc+4*i,:] = np.array([c[count][0],c[count][0],c[count][1],c[count][1]])\n",
    "    path_combi[Nc+4*i+1,:] = np.array([c[count][1],c[count][1],c[count][0],c[count][0]])\n",
    "    path_combi[Nc+4*i+2,:] = np.array([c[count][0],c[count][1],c[count][1],c[count][0]])\n",
    "    path_combi[Nc+4*i+3,:] = np.array([c[count][1],c[count][0],c[count][0],c[count][1]])\n",
    "    count = count+1\n",
    "# print(path_combi[0:10,:])\n",
    "path_gain = np.zeros((num_path,realization)) # 2 to save the position and maximum value\n",
    "for reali in range(realization):\n",
    "    for combi in range(num_path):\n",
    "        path_gain[combi,reali] =\\\n",
    "        (np.abs\\\n",
    "         ((np.cos(ele_rot[reali])*np.cos(azi_rot[reali])*alpha_hh[path_combi[combi,0],reali]+np.sin(ele_rot[reali])*alpha_vh[path_combi[combi,0],reali])*(path_combi[combi,0]==path_combi[combi,1])+\\\n",
    "         (np.cos(ele_rot[reali])*np.cos(azi_rot[reali])*alpha_hv[path_combi[combi,2],reali]+np.sin(ele_rot[reali])*alpha_vv[path_combi[combi,2],reali])*(path_combi[combi,2]==path_combi[combi,1])+\\\n",
    "         (-np.sin(ele_rot[reali])*np.cos(azi_rot[reali])*alpha_hh[path_combi[combi,0],reali]+np.cos(ele_rot[reali])*alpha_vh[path_combi[combi,0],reali])*(path_combi[combi,0]==path_combi[combi,3])+\\\n",
    "         (-np.sin(ele_rot[reali])*np.cos(azi_rot[reali])*alpha_hv[path_combi[combi,2],reali]+np.sin(ele_rot[reali])*alpha_vv[path_combi[combi,2],reali])*(path_combi[combi,2]==path_combi[combi,3])\n",
    "         ))**2\n"
   ]
  },
  {
   "cell_type": "code",
   "execution_count": 7,
   "metadata": {
    "collapsed": true
   },
   "outputs": [],
   "source": [
    "#max_gain = path_gain[:,20]"
   ]
  },
  {
   "cell_type": "code",
   "execution_count": 8,
   "metadata": {
    "collapsed": true
   },
   "outputs": [],
   "source": [
    "index = np.zeros(realization,dtype=int)\n",
    "for test in range(realization):\n",
    "    index[test] = np.argmax(path_gain[:,test])\n",
    "    #print(path_gain[index,test])"
   ]
  },
  {
   "cell_type": "code",
   "execution_count": 9,
   "metadata": {
    "scrolled": true
   },
   "outputs": [
    {
     "name": "stdout",
     "output_type": "stream",
     "text": [
      "[[0 0 0 0]\n",
      " [1 1 1 1]\n",
      " [2 2 2 2]\n",
      " [3 3 3 3]\n",
      " [4 4 4 4]\n",
      " [5 5 5 5]\n",
      " [0 0 1 1]\n",
      " [1 1 0 0]\n",
      " [0 1 1 0]\n",
      " [1 0 0 1]\n",
      " [0 0 2 2]\n",
      " [2 2 0 0]\n",
      " [0 2 2 0]\n",
      " [2 0 0 2]\n",
      " [0 0 3 3]\n",
      " [3 3 0 0]\n",
      " [0 3 3 0]\n",
      " [3 0 0 3]\n",
      " [0 0 4 4]\n",
      " [4 4 0 0]\n",
      " [0 4 4 0]\n",
      " [4 0 0 4]\n",
      " [0 0 5 5]\n",
      " [5 5 0 0]\n",
      " [0 5 5 0]\n",
      " [5 0 0 5]\n",
      " [1 1 2 2]\n",
      " [2 2 1 1]\n",
      " [1 2 2 1]\n",
      " [2 1 1 2]\n",
      " [1 1 3 3]\n",
      " [3 3 1 1]\n",
      " [1 3 3 1]\n",
      " [3 1 1 3]\n",
      " [1 1 4 4]\n",
      " [4 4 1 1]\n",
      " [1 4 4 1]\n",
      " [4 1 1 4]\n",
      " [1 1 5 5]\n",
      " [5 5 1 1]\n",
      " [1 5 5 1]\n",
      " [5 1 1 5]\n",
      " [2 2 3 3]\n",
      " [3 3 2 2]\n",
      " [2 3 3 2]\n",
      " [3 2 2 3]\n",
      " [2 2 4 4]\n",
      " [4 4 2 2]\n",
      " [2 4 4 2]\n",
      " [4 2 2 4]\n",
      " [2 2 5 5]\n",
      " [5 5 2 2]\n",
      " [2 5 5 2]\n",
      " [5 2 2 5]\n",
      " [3 3 4 4]\n",
      " [4 4 3 3]\n",
      " [3 4 4 3]\n",
      " [4 3 3 4]\n",
      " [3 3 5 5]\n",
      " [5 5 3 3]\n",
      " [3 5 5 3]\n",
      " [5 3 3 5]\n",
      " [4 4 5 5]\n",
      " [5 5 4 4]\n",
      " [4 5 5 4]\n",
      " [5 4 4 5]]\n"
     ]
    }
   ],
   "source": [
    "print(path_combi)"
   ]
  },
  {
   "cell_type": "code",
   "execution_count": 10,
   "metadata": {
    "scrolled": true
   },
   "outputs": [
    {
     "data": {
      "text/plain": [
       "array([37,  1,  0, 37,  3,  4, 45,  3,  0,  3, 14, 57,  4,  0, 23,  0,  2,\n",
       "       35, 58, 55,  0,  0,  0,  5,  4,  0,  2, 49,  1,  5,  5,  5,  1,  1,\n",
       "        1,  0,  3,  4, 54,  2, 35,  0,  5,  0,  0,  0,  3, 46,  2,  3,  0,\n",
       "       26, 62,  3,  4, 27, 50,  4,  1,  4,  1,  5, 23,  5,  2,  7,  2,  0,\n",
       "        5, 63, 27,  6, 28,  3,  2,  6, 40,  1,  5,  6,  0, 34, 17,  2,  2,\n",
       "        2,  0,  5,  0, 55,  1, 35,  3,  0, 10, 59, 57,  5,  4, 55,  1, 11,\n",
       "        3,  2,  3,  4, 15, 47,  5,  4,  3,  2,  2,  4,  2,  3,  2,  6, 47,\n",
       "        1, 18,  4,  1,  2,  0, 43,  1,  1,  1,  1, 11,  8,  4,  5,  5,  0,\n",
       "        5, 34,  3,  5,  5, 53,  2, 12,  5, 34, 26, 16, 20, 27,  5,  3, 23,\n",
       "        0,  2, 48, 37,  2,  0, 40,  1,  0,  4, 50, 10,  3, 51,  0,  3, 54,\n",
       "       43, 19,  4, 34,  3,  4, 65, 42,  4, 26, 27,  3,  1, 50,  5,  2,  1,\n",
       "       38, 26,  1,  0,  3, 27, 52,  8,  4, 41,  5, 46,  3,  1,  5,  5, 25,\n",
       "       26,  0,  1,  2, 32,  0,  3,  4, 25,  2,  1, 19, 53, 27,  1,  4,  2,\n",
       "        1, 22,  2,  3,  0,  6,  1, 28,  0,  1,  2,  4,  1, 15,  1,  5,  6,\n",
       "        5, 11,  5,  0,  3,  3, 26,  4, 19,  0, 48,  0,  5,  6, 40, 46, 26,\n",
       "        1,  4,  5,  3, 60, 19,  0,  2, 58,  1,  0,  1,  2,  5,  5,  5,  5,\n",
       "        2,  4,  2,  1,  3,  5,  0,  1,  5,  3,  0,  5,  1, 46,  1,  0, 51,\n",
       "       25,  1,  3,  4,  3,  4,  4, 12,  1,  3,  3, 25, 51,  4,  1, 22,  5,\n",
       "       54,  0,  3, 27, 33,  0, 26,  3,  0,  3,  1,  5,  5, 35,  4,  0, 33,\n",
       "       55,  2, 26, 31,  1,  3, 57,  5,  3,  0,  3,  1,  4,  3,  4, 11,  2,\n",
       "        4, 52, 15,  3,  5,  5, 13,  2, 19,  4, 35,  1,  4,  3,  8,  2,  1,\n",
       "       35,  1,  5,  0,  4,  0,  3,  4, 11,  3,  1,  2,  1, 14,  2,  5,  4,\n",
       "        4,  4, 17,  1,  0,  1,  2,  5,  5,  2,  0,  5,  2,  2,  0,  2,  0,\n",
       "        1, 63,  0,  4,  5, 35,  5, 51, 65,  3,  1,  5,  7,  0,  2,  3,  3,\n",
       "        0,  2, 50,  3,  1,  2,  3,  4,  5,  5,  2, 38,  4,  2,  2,  8,  3,\n",
       "        5,  4,  3,  0,  1,  1,  3,  4,  0, 39,  2, 43, 51,  5,  5,  1,  1,\n",
       "        0,  3, 19,  1,  2, 55,  5, 50,  4,  5, 15,  5,  5,  4, 28,  2,  0,\n",
       "        3,  1,  2,  0,  0,  2,  1,  2, 50,  0, 13, 51,  0,  5,  0,  5, 19,\n",
       "        9,  0,  1,  0, 38,  3, 18,  3,  0, 11,  2,  2, 13,  4, 11, 18,  1,\n",
       "       50, 64,  1,  4,  2, 63,  0,  0, 54, 11,  1,  5, 46,  2,  0, 59,  1,\n",
       "        1,  3,  2,  5,  4,  1,  5, 42,  4,  0, 15, 34,  1,  3,  5,  0,  1,\n",
       "        4,  2, 46,  0,  5, 55,  0,  0,  4,  4,  5, 11,  5,  1, 34, 11,  4,\n",
       "       55, 17,  1,  1,  0, 60,  7,  5,  5,  1,  6,  2,  2,  1,  4, 42,  4,\n",
       "       24,  5,  1,  1,  2, 21,  3,  0, 61,  0,  2, 52,  3,  0,  2,  1,  2,\n",
       "       44,  0, 15,  1, 57,  0,  0,  0,  5,  5, 19, 32, 15,  3,  5,  4,  5,\n",
       "        5,  0,  5, 39,  1,  3, 50, 46,  0,  5, 15,  4, 15,  3,  4,  0,  1,\n",
       "        3, 54, 32,  0,  3, 27,  4, 62, 17,  4, 40,  0,  3, 50,  2,  4,  4,\n",
       "       42,  1,  3, 12,  2,  1,  1,  5,  2, 11,  3,  1, 30,  4, 50,  0,  4,\n",
       "        2,  4, 10,  5,  0,  3,  3,  1, 21,  3, 11,  1,  3, 14, 35,  2,  3,\n",
       "        2, 63,  1,  2,  1, 27,  3,  5, 46, 23,  1,  5,  1, 47, 34,  1,  3,\n",
       "        5,  2, 24,  4,  2,  0,  1, 50,  0,  2, 19,  5,  1,  3,  0, 23,  0,\n",
       "        1, 44,  2,  0,  4,  3,  0,  2, 47,  2,  1,  0,  0, 11,  0, 34,  3,\n",
       "       53,  1,  5,  2,  1, 28, 58,  5, 39, 20,  5, 56, 40, 43,  5,  5, 63,\n",
       "       31,  4,  3, 31, 26,  4,  4, 50,  2, 10,  4,  4, 17, 58,  2,  5,  4,\n",
       "        1, 15, 54,  5,  4,  0,  0,  5,  3,  5,  1, 15,  3,  4,  1,  0,  5,\n",
       "       42,  5,  5,  4,  3,  5,  4,  3, 45,  1,  5,  4, 52, 39,  1, 58,  1,\n",
       "        1,  4,  0,  0,  2,  2,  4, 30,  3,  1,  5,  4,  3,  3,  2, 65,  2,\n",
       "        1,  0, 12,  2,  2, 11, 26,  2, 57,  5,  5,  3,  2,  4,  4, 36,  5,\n",
       "        3,  0,  0, 31,  3,  0,  0,  2,  3, 62,  3, 48,  5,  2,  5, 43, 54,\n",
       "        0,  2, 21,  2,  2,  2,  4,  0, 23,  2, 28,  5,  5,  4,  1, 22,  1,\n",
       "        4, 11,  3,  5, 26,  4, 19, 56, 19,  3,  4, 19,  3, 15, 61,  4, 30,\n",
       "       59,  1,  1, 26,  2, 58,  3,  3,  5,  2,  3,  7, 11, 26,  5,  3, 21,\n",
       "        1,  4,  3,  1, 53, 10,  4, 31,  2, 55,  0,  1,  5, 59, 14, 50,  1,\n",
       "       18,  4,  5, 57,  1,  1, 38,  2,  4,  4,  7, 15,  0,  0, 23,  0, 58,\n",
       "        1,  1,  1,  5,  4,  1,  5, 10, 64, 15,  5,  2,  0,  2,  3,  4, 34,\n",
       "        4,  0,  5, 46,  4,  5, 40,  3,  0, 31,  4, 15, 63,  4,  4,  4,  3,\n",
       "        5,  2,  2,  1,  1,  1, 63,  5,  0,  0,  4,  3,  0, 27,  4,  5,  3,\n",
       "       50,  2,  4,  5,  4,  5, 32,  4,  5,  5,  3,  2,  2, 47,  2,  2,  5,\n",
       "        0, 47,  2,  1,  2,  0, 18,  2,  2,  0,  4,  1,  4,  1])"
      ]
     },
     "execution_count": 10,
     "metadata": {},
     "output_type": "execute_result"
    }
   ],
   "source": [
    "index"
   ]
  },
  {
   "cell_type": "code",
   "execution_count": 11,
   "metadata": {},
   "outputs": [
    {
     "name": "stdout",
     "output_type": "stream",
     "text": [
      "66\n"
     ]
    }
   ],
   "source": [
    "print(num_path)"
   ]
  },
  {
   "cell_type": "code",
   "execution_count": 19,
   "metadata": {},
   "outputs": [
    {
     "data": {
      "image/png": "[encoded data removed]",
      "text/plain": [
       "<matplotlib.figure.Figure at 0x19ce606a7b8>"
      ]
     },
     "metadata": {},
     "output_type": "display_data"
    }
   ],
   "source": [
    "plt.hist(index, bins=60)\n",
    "plt.show()"
   ]
  },
  {
   "cell_type": "code",
   "execution_count": 13,
   "metadata": {
    "collapsed": true
   },
   "outputs": [],
   "source": [
    "cross_index =  []\n",
    "count = 7\n",
    "while (count<num_path):\n",
    "    cross_index.extend([count+1,count+2])\n",
    "    count = count + 4\n",
    "cross_index = np.array(cross_index)"
   ]
  },
  {
   "cell_type": "code",
   "execution_count": 26,
   "metadata": {
    "scrolled": true
   },
   "outputs": [
    {
     "name": "stdout",
     "output_type": "stream",
     "text": [
      "[1 1 1 1]\n"
     ]
    }
   ],
   "source": [
    "#print(cross_index)\n",
    "print(path_combi[index[1]])"
   ]
  },
  {
   "cell_type": "code",
   "execution_count": 18,
   "metadata": {},
   "outputs": [
    {
     "name": "stdout",
     "output_type": "stream",
     "text": [
      "85\n"
     ]
    }
   ],
   "source": [
    "cross_index_in = np.isin(index, cross_index)\n",
    "# print(cross_index_in)\n",
    "print(sum(cross_index_in))"
   ]
  },
  {
   "cell_type": "code",
   "execution_count": 17,
   "metadata": {},
   "outputs": [
    {
     "name": "stdout",
     "output_type": "stream",
     "text": [
      "305\n"
     ]
    }
   ],
   "source": [
    "diff_clus_index = np.arange(6,66)\n",
    "diff_clus_index_in = np.isin(index, diff_clus_index)\n",
    "# print(diff_clus_index_in)\n",
    "print(sum(diff_clus_index_in))"
   ]
  },
  {
   "cell_type": "markdown",
   "metadata": {},
   "source": [
    "### Plot Spectral Efficiency"
   ]
  },
  {
   "cell_type": "code",
   "execution_count": 53,
   "metadata": {},
   "outputs": [],
   "source": [
    "SNR_dB = np.arange(-35,10,5)\n",
    "SNR = 10**(SNR_dB/10)\n",
    "smax = SNR.shape[0]\n",
    "R_cross = np.zeros([smax, realization],dtype=complex)\n",
    "for reali in range(realization):\n",
    "    _chosen_combi_path = path_combi[index[reali]]\n",
    "    W_cross = np.vstack((Ar[:,[_chosen_combi_path[1]],reali],Ar[:,[_chosen_combi_path[3]],reali]))\n",
    "    F_cross = np.vstack((At[:,[_chosen_combi_path[0]],reali],At[:,[_chosen_combi_path[2]],reali]))\n",
    "    for s in range(smax):\n",
    "        R_cross[s,reali] = np.log2(np.linalg.det(np.eye(Ns)+SNR[s]/Ns*np.linalg.pinv(W_cross)@H[:,:,reali]@F_cross@F_cross.conj().T@H[:,:,reali].conj().T@W_cross))"
   ]
  },
  {
   "cell_type": "code",
   "execution_count": 54,
   "metadata": {},
   "outputs": [
    {
     "data": {
      "image/png": "[encoded data removed]",
      "text/plain": [
       "<matplotlib.figure.Figure at 0x19ce609d940>"
      ]
     },
     "metadata": {},
     "output_type": "display_data"
    }
   ],
   "source": [
    "plt.plot(SNR_dB, (np.sum(R_cross,axis=1).real)/realization, label='cross polar')\n",
    "plt.legend(loc='upper left')\n",
    "plt.xlabel('SNR(dB)')\n",
    "plt.ylabel('Spectral Efficiency (bits/s/Hz)')\n",
    "plt.grid()\n",
    "plt.show()"
   ]
  }
 ],
 "metadata": {
  "kernelspec": {
   "display_name": "Python 3",
   "language": "python",
   "name": "python3"
  },
  "language_info": {
   "codemirror_mode": {
    "name": "ipython",
    "version": 3
   },
   "file_extension": ".py",
   "mimetype": "text/x-python",
   "name": "python",
   "nbconvert_exporter": "python",
   "pygments_lexer": "ipython3",
   "version": "3.6.3"
  }
 },
 "nbformat": 4,
 "nbformat_minor": 2
}
