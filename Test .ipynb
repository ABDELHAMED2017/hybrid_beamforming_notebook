{
 "cells": [
  {
   "cell_type": "code",
   "execution_count": 1,
   "metadata": {
    "collapsed": true
   },
   "outputs": [],
   "source": [
    "# import necessary module\n",
    "%matplotlib inline\n",
    "import numpy as np\n",
    "import matplotlib.pyplot as plt\n",
    "import matplotlib.patches as mpatches\n",
    "\n",
    "import seaborn as sns\n",
    "import scipy\n",
    "from array_response import *\n",
    "import itertools "
   ]
  },
  {
   "cell_type": "code",
   "execution_count": 2,
   "metadata": {},
   "outputs": [],
   "source": [
    "Nt = 64 # number of transmit antennas\n",
    "Nr = 16 # number of receive antennas\n",
    "Ns = 1 # number of streams\n",
    "\n",
    "Nc = 1 # number of cluster\n",
    "Nray = 1 # number of rays in each cluster\n",
    "realization = 10000 # equivalent to number of taking sample\n",
    "\n",
    "At = np.zeros((Nt,Nc*Nray,realization),dtype=complex)\n",
    "Ar = np.zeros((Nr,Nc*Nray,realization),dtype=complex)\n",
    "alpha_hh = np.zeros((Nc*Nray,realization),dtype=complex)\n",
    "alpha_hv = np.zeros((Nc*Nray,realization),dtype=complex)\n",
    "alpha_vh = np.zeros((Nc*Nray,realization),dtype=complex)\n",
    "alpha_vv = np.zeros((Nc*Nray,realization),dtype=complex)\n",
    "var_hh = np.zeros((Nc*Nray,realization),dtype=float)\n",
    "\n",
    "AoD = np.zeros((2,Nc*Nray),dtype=complex)\n",
    "AoA = np.zeros((2,Nc*Nray),dtype=complex)\n",
    "\n",
    "angle_sigma = 10/180*np.pi # standard deviation of the angles in azimuth and elevation both of Rx and Tx\n",
    "\n",
    "gamma = np.sqrt((Nt*Nr)/(Nc*Nray))\n",
    "count = 0\n",
    "\n",
    "eps = 0.1 # 20dB isolation\n",
    "sigma = np.sqrt(8/(1+eps**2)) # according to the normalization condition of H\n",
    "\n",
    "for reali in range(realization):\n",
    "    for c in range(1,Nc+1):\n",
    "        AoD_azi_m = np.random.uniform(0,2*np.pi,1) # Mean Angle of Departure _ azimuth\n",
    "        AoD_ele_m = np.random.uniform(0,np.pi,1) # Mean Angle of Departure _ elevation\n",
    "        AoA_azi_m = np.random.uniform(0,2*np.pi,1) # Mean Angle of Arrival_ azimuth\n",
    "        AoA_ele_m = np.random.uniform(0,np.pi,1) # Mean Angle of Arrival_ elevation\n",
    "        AoD[0,(c-1)*Nray:Nray*c] = np.random.laplace(AoD_azi_m, angle_sigma, (1,Nray))\n",
    "        AoD[1,(c-1)*Nray:Nray*c] = np.random.laplace(AoD_ele_m, angle_sigma, (1,Nray))\n",
    "        AoA[0,(c-1)*Nray:Nray*c] = np.random.laplace(AoA_azi_m, angle_sigma, (1,Nray))\n",
    "        AoA[1,(c-1)*Nray:Nray*c] = np.random.laplace(AoA_ele_m, angle_sigma, (1,Nray))\n",
    "    for j in range(Nc*Nray):\n",
    "        At[:,j,reali] = array_response(AoD[0,j],AoD[1,j],Nt) # UPA array response\n",
    "        Ar[:,j,reali] = array_response(AoA[0,j],AoA[1,j],Nr)\n",
    "        var_hh = ((sigma**2)*(np.cos(AoD[0,j])**2)*(np.cos(AoA[0,j])**2)).real\n",
    "        var_hv = ((eps**2)*(sigma**2)*(np.cos(AoD[1,j])**2)*(np.cos(AoA[0,j])**2)).real\n",
    "        var_vh = ((eps**2)*(sigma**2)*(np.cos(AoD[0,j])**2)*(np.cos(AoA[1,j])**2)).real\n",
    "        var_vv = ((sigma**2)*(np.cos(AoD[1,j])**2)*(np.cos(AoA[1,j])**2)).real\n",
    "        alpha_hh[j,reali] = np.random.normal(0, np.sqrt(var_hh/2)) + 1j*np.random.normal(0, np.sqrt(var_hh/2))\n",
    "        alpha_hv[j,reali] = np.random.normal(0, np.sqrt(var_hv/2)) + 1j*np.random.normal(0, np.sqrt(var_hv/2))\n",
    "        alpha_vh[j,reali] = np.random.normal(0, np.sqrt(var_vh/2)) + 1j*np.random.normal(0, np.sqrt(var_vh/2))\n",
    "        alpha_vv[j,reali] = np.random.normal(0, np.sqrt(var_vv/2)) + 1j*np.random.normal(0, np.sqrt(var_vv/2))"
   ]
  },
  {
   "cell_type": "code",
   "execution_count": 4,
   "metadata": {},
   "outputs": [],
   "source": [
    "azi_rot = np.random.uniform(0,2*np.pi,realization)\n",
    "ele_rot = np.random.uniform(0,np.pi/2,realization) # Why PI/2 ??\n",
    "ht_hr = np.zeros(realization,dtype=complex)\n",
    "vt_hr = np.zeros(realization,dtype=complex)\n",
    "ht_vr = np.zeros(realization,dtype=complex)\n",
    "vt_vr = np.zeros(realization,dtype=complex)\n",
    "same_cluster = np.zeros(realization,dtype=complex)\n",
    "cross_polar = np.zeros(realization,dtype=complex)\n",
    "same_polar = np.zeros(realization,dtype=complex)\n",
    "\n",
    "for reali in range(realization):\n",
    "    ht_hr[reali] = np.cos(ele_rot[reali])*np.cos(azi_rot[reali])*alpha_hh[0,reali]+np.sin(ele_rot[reali])*alpha_vh[0,reali]\n",
    "    vt_hr[reali] = np.cos(ele_rot[reali])*np.cos(azi_rot[reali])*alpha_hv[0,reali]+np.sin(ele_rot[reali])*alpha_vv[0,reali]\n",
    "    ht_vr[reali] = -np.sin(ele_rot[reali])*np.cos(azi_rot[reali])*alpha_hh[0,reali]+np.cos(ele_rot[reali])*alpha_vh[0,reali]\n",
    "    vt_vr[reali] = -np.sin(ele_rot[reali])*np.cos(azi_rot[reali])*alpha_hv[0,reali]+np.cos(ele_rot[reali])*alpha_vv[0,reali]\n",
    "    same_cluster[reali] = ht_hr[reali]+vt_hr[reali]+ht_vr[reali]+vt_vr[reali]\n",
    "    cross_polar[reali] = vt_hr[reali]+ht_vr[reali]\n",
    "    same_polar[reali] = ht_hr[reali]+vt_vr[reali]"
   ]
  },
  {
   "cell_type": "code",
   "execution_count": null,
   "metadata": {},
   "outputs": [],
   "source": [
    "cross_polar"
   ]
  },
  {
   "cell_type": "code",
   "execution_count": 14,
   "metadata": {},
   "outputs": [
    {
     "name": "stdout",
     "output_type": "stream",
     "text": [
      "2.09516423952\n",
      "-0.0161546738101\n"
     ]
    },
    {
     "data": {
      "image/png": "[encoded data removed]",
      "text/plain": [
       "<matplotlib.figure.Figure at 0x25e782a97b8>"
      ]
     },
     "metadata": {},
     "output_type": "display_data"
    }
   ],
   "source": [
    "fig = plt.figure(figsize=(10,10), dpi=70)\n",
    "# ax1 = fig.add_subplot(611)\n",
    "# ax2 = fig.add_subplot(612)\n",
    "# ax3 = fig.add_subplot(613)\n",
    "# ax4 = fig.add_subplot(614)\n",
    "ax5 = fig.add_subplot(211)\n",
    "ax6 = fig.add_subplot(212)\n",
    "# sns.distplot(np.abs(alpha_hh).reshape(1,-1),kde=False, ax=ax1)\n",
    "# sns.distplot(np.angle(alpha_hh).reshape(1,-1),bins=100, kde = False, ax=ax2)\n",
    "# sns.distplot(np.abs(ht_hr),bins=100, kde = False, ax=ax2)\n",
    "# sns.distplot(np.angle(ht_hr),bins=100, kde = False, ax=ax4)\n",
    "# sns.distplot(np.abs(same_cluster)**2,bins=100, kde = False, ax=ax3)\n",
    "# sns.distplot(np.abs(cross_polar)**2,bins=100, kde = False, ax=ax4)\n",
    "sns.distplot(np.abs(same_cluster)**2 - np.abs(cross_polar)**2,bins=100, kde = False, ax=ax5)\n",
    "sns.distplot(np.abs(same_polar)**2 - np.abs(cross_polar)**2,bins=100, kde = False, ax=ax6, )\n",
    "print(np.mean(np.abs(same_cluster)**2 - np.abs(cross_polar)**2))\n",
    "print(np.mean(np.abs(same_polar)**2 - np.abs(cross_polar)**2))"
   ]
  },
  {
   "cell_type": "markdown",
   "metadata": {},
   "source": [
    "Not use now !!"
   ]
  },
  {
   "cell_type": "markdown",
   "metadata": {},
   "source": [
    "np.mean(var_hh) == np.mean(sigma/8)"
   ]
  },
  {
   "cell_type": "code",
   "execution_count": null,
   "metadata": {
    "collapsed": true
   },
   "outputs": [],
   "source": [
    "Ns = 1 # number of streams\n",
    "\n",
    "Nc = 6 # number of cluster\n",
    "Nray = 1 # number of rays in each cluster\n",
    "\n",
    "Nt = 64 # number of transmit antennas\n",
    "Nr = 16 # number of receive antennas\n",
    "\n",
    "angle_sigma = 10/180*np.pi # standard deviation of the angles in azimuth and elevation both of Rx and Tx\n",
    "\n",
    "gamma = np.sqrt((Nt*Nr)/(Nc*Nray))\n",
    "realization = 1000 # equivalent to number of taking sample\n",
    "count = 0\n",
    "\n",
    "eps = 0.1 # 20dB isolation\n",
    "sigma = np.sqrt(8/(1+eps**2)) # according to the normalization condition of H\n",
    "\n",
    "H_pol = np.zeros((2*Nr,2*Nt,realization),dtype=complex)\n",
    "At = np.zeros((Nt,Nc*Nray,realization),dtype=complex)\n",
    "Ar = np.zeros((Nr,Nc*Nray,realization),dtype=complex)\n",
    "alpha_hh = np.zeros((Nc*Nray,realization),dtype=complex)\n",
    "alpha_hv = np.zeros((Nc*Nray,realization),dtype=complex)\n",
    "alpha_vh = np.zeros((Nc*Nray,realization),dtype=complex)\n",
    "alpha_vv = np.zeros((Nc*Nray,realization),dtype=complex)\n",
    "var_hh = np.zeros((Nc*Nray,realization),dtype=float)\n",
    "\n",
    "AoD = np.zeros((2,Nc*Nray),dtype=complex)\n",
    "AoA = np.zeros((2,Nc*Nray),dtype=complex)\n",
    "\n",
    "H = np.zeros((2*Nr,2*Nt,realization),dtype=complex)\n",
    "azi_rot = np.random.uniform(0,2*np.pi,realization)\n",
    "ele_rot = np.random.uniform(0,np.pi/2,realization) # Why PI/2 ??\n",
    "R = np.array([[np.cos(ele_rot)*np.cos(azi_rot),np.sin(ele_rot)],[-np.sin(ele_rot)*np.cos(azi_rot),np.cos(ele_rot)]]) # rotation matrix\n",
    "\n",
    "for reali in range(realization):\n",
    "    for c in range(1,Nc+1):\n",
    "        AoD_azi_m = np.random.uniform(0,2*np.pi,1) # Mean Angle of Departure _ azimuth\n",
    "        AoD_ele_m = np.random.uniform(0,np.pi,1) # Mean Angle of Departure _ elevation\n",
    "        AoA_azi_m = np.random.uniform(0,2*np.pi,1) # Mean Angle of Arrival_ azimuth\n",
    "        AoA_ele_m = np.random.uniform(0,np.pi,1) # Mean Angle of Arrival_ elevation\n",
    "        AoD[0,(c-1)*Nray:Nray*c] = np.random.laplace(AoD_azi_m, angle_sigma, (1,Nray))\n",
    "        AoD[1,(c-1)*Nray:Nray*c] = np.random.laplace(AoD_ele_m, angle_sigma, (1,Nray))\n",
    "        AoA[0,(c-1)*Nray:Nray*c] = np.random.laplace(AoA_azi_m, angle_sigma, (1,Nray))\n",
    "        AoA[1,(c-1)*Nray:Nray*c] = np.random.laplace(AoA_ele_m, angle_sigma, (1,Nray))\n",
    "    for j in range(Nc*Nray):\n",
    "        At[:,j,reali] = array_response(AoD[0,j],AoD[1,j],Nt) # UPA array response\n",
    "        Ar[:,j,reali] = array_response(AoA[0,j],AoA[1,j],Nr)\n",
    "        var_hh[j,reali] = ((sigma**2)*(np.cos(AoD[0,j])**2)*(np.cos(AoA[0,j])**2)).real\n",
    "#         var_hh = ((sigma**2)*(np.cos(AoD[0,j])**2)*(np.cos(AoA[0,j])**2)).real\n",
    "#         var_hv = ((eps**2)*(sigma**2)*(np.cos(AoD[1,j])**2)*(np.cos(AoA[0,j])**2)).real\n",
    "#         var_vh = ((eps**2)*(sigma**2)*(np.cos(AoD[0,j])**2)*(np.cos(AoA[1,j])**2)).real\n",
    "#         var_vv = ((sigma**2)*(np.cos(AoD[1,j])**2)*(np.cos(AoA[1,j])**2)).real\n",
    "#         alpha_hh[j,reali] = np.random.normal(0, np.sqrt(var_hh/2)) + 1j*np.random.normal(0, np.sqrt(var_hh/2))\n",
    "#         alpha_hv[j,reali] = np.random.normal(0, np.sqrt(var_hv/2)) + 1j*np.random.normal(0, np.sqrt(var_hv/2))\n",
    "#         alpha_vh[j,reali] = np.random.normal(0, np.sqrt(var_vh/2)) + 1j*np.random.normal(0, np.sqrt(var_vh/2))\n",
    "#         alpha_vv[j,reali] = np.random.normal(0, np.sqrt(var_vv/2)) + 1j*np.random.normal(0, np.sqrt(var_vv/2))\n",
    "#         alpha = np.vstack((np.hstack((alpha_hh[j,reali],alpha_hv[j,reali])),np.hstack((alpha_vh[j,reali],alpha_vv[j,reali]))))"
   ]
  },
  {
   "cell_type": "code",
   "execution_count": null,
   "metadata": {},
   "outputs": [],
   "source": [
    "var_hh_test = var_hh.reshape(6000,1)\n",
    "n, bins, patches = plt.hist(var_hh_test,bins=100)\n",
    "plt.show()\n"
   ]
  },
  {
   "cell_type": "code",
   "execution_count": null,
   "metadata": {},
   "outputs": [],
   "source": [
    "plt.plot(var_hh_test[0:6000])\n",
    "plt.show()"
   ]
  },
  {
   "cell_type": "code",
   "execution_count": null,
   "metadata": {},
   "outputs": [],
   "source": [
    "# print(alpha_hh.shape)\n",
    "# print(alpha_hh[:,0])\n",
    "# print(sigma)\n",
    "# print(np.mean(alpha_hh))\n",
    "print(np.mean(np.abs(alpha_hh)))\n",
    "print(np.mean(np.abs(alpha_vv)))\n",
    "print(np.mean(np.abs(alpha_hv)))\n",
    "print((sigma*np.sqrt(np.pi)/4)/5*4)"
   ]
  },
  {
   "cell_type": "code",
   "execution_count": null,
   "metadata": {
    "collapsed": true
   },
   "outputs": [],
   "source": [
    "Ns = 1 # number of streams\n",
    "\n",
    "Nc = 6 # number of cluster\n",
    "Nray = 1 # number of rays in each cluster\n",
    "\n",
    "Nt = 64 # number of transmit antennas\n",
    "Nr = 16 # number of receive antennas\n",
    "\n",
    "angle_sigma = 10/180*np.pi # standard deviation of the angles in azimuth and elevation both of Rx and Tx\n",
    "\n",
    "gamma = np.sqrt((Nt*Nr)/(Nc*Nray))\n",
    "realization = 1000 # equivalent to number of taking sample\n",
    "count = 0\n",
    "\n",
    "eps = 0.1 # 20dB isolation\n",
    "sigma = np.sqrt(8/(1+eps**2)) # according to the normalization condition of H\n",
    "\n",
    "test_cos = np.zeros(10000)\n",
    "test_cos_multi = np.zeros(10000)\n",
    "test_var_hh_square = np.zeros(10000)\n",
    "test_var_hh_cube = np.zeros(10000)\n",
    "test_var_substract= np.zeros(10000)\n",
    "test_substract_cossin = np.zeros(10000)\n",
    "test_add_cossin = np.zeros(10000)\n",
    "for i in range(10000):\n",
    "    test_cos[i] = np.cos(np.random.uniform(0,2*np.pi))\n",
    "    test_cos_multi[i] = np.cos(np.random.uniform(0,2*np.pi))*np.cos(np.random.uniform(0,2*np.pi))\n",
    "    test_var_hh_square[i] = (sigma*np.cos(np.random.uniform(0,2*np.pi))*np.cos(np.random.uniform(0,2*np.pi)))**2\n",
    "    test_var_hh_cube[i] = (sigma*np.cos(np.random.uniform(0,2*np.pi))*np.cos(np.random.uniform(0,2*np.pi))*np.cos(np.random.uniform(0,2*np.pi)))**2\n",
    "    test_var_substract[i] = test_var_hh_square[i] - test_var_hh_cube[i]\n",
    "    alpha = np.random.uniform(0,np.pi)\n",
    "    test_substract_cossin[i] = -np.sin(alpha) + np.cos(alpha)\n",
    "    test_add_cossin[i] = np.sin(alpha) + np.cos(alpha)\n",
    "    "
   ]
  },
  {
   "cell_type": "code",
   "execution_count": null,
   "metadata": {},
   "outputs": [],
   "source": [
    "fig = plt.figure(figsize=(10,10), dpi=70)\n",
    "ax1 = fig.add_subplot(611)\n",
    "ax2 = fig.add_subplot(612)\n",
    "ax3 = fig.add_subplot(613)\n",
    "ax4 = fig.add_subplot(614)\n",
    "ax5 = fig.add_subplot(615)\n",
    "ax6 = fig.add_subplot(616)\n",
    "sns.distplot(test_cos,bins=100, kde = False, ax=ax1)\n",
    "sns.distplot(test_cos_multi,bins=100, kde = False, ax=ax2)\n",
    "sns.distplot(test_var_hh_square,bins=100, kde = False, ax=ax3)\n",
    "sns.distplot(test_var_substract,bins=100, kde = False, ax=ax4)\n",
    "sns.distplot(test_substract_cossin,bins=100, kde = False, ax=ax5)\n",
    "sns.distplot(test_add_cossin,bins=100, kde = False, ax=ax6)\n",
    "\n"
   ]
  }
 ],
 "metadata": {
  "kernelspec": {
   "display_name": "Python 3",
   "language": "python",
   "name": "python3"
  },
  "language_info": {
   "codemirror_mode": {
    "name": "ipython",
    "version": 3
   },
   "file_extension": ".py",
   "mimetype": "text/x-python",
   "name": "python",
   "nbconvert_exporter": "python",
   "pygments_lexer": "ipython3",
   "version": "3.6.3"
  }
 },
 "nbformat": 4,
 "nbformat_minor": 2
}
